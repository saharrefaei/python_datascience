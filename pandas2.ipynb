{
 "cells": [
  {
   "cell_type": "code",
   "execution_count": 23,
   "id": "3a23cf90-d73b-4459-84a4-a8c9824979d8",
   "metadata": {},
   "outputs": [
    {
     "name": "stdout",
     "output_type": "stream",
     "text": [
      "     ford\n",
      "one      \n",
      "0       7\n",
      "1       8\n",
      "2       9\n",
      "3       1\n",
      "4       0\n"
     ]
    }
   ],
   "source": [
    "import pandas as pd\n",
    "\n",
    "cardata ={'mercedas':[1,5,3,5,3],'bmw':[5,8,2,6,5],'ford':[7,8,9,1,0],'reno':[4,9,1,4,7]}\n",
    "carcatalog=pd.DataFrame(cardata)\n",
    "carcatalog.index.rename(\"one\",inplace=True)\n",
    "print(carcatalog[['ford']]) #carcatalog['ford'] is with out the title ford and carcatalog[['ford']] is with title ford "
   ]
  },
  {
   "cell_type": "code",
   "execution_count": 25,
   "id": "60adf0f6-cbae-4957-be81-aeb040d5d864",
   "metadata": {},
   "outputs": [
    {
     "name": "stdout",
     "output_type": "stream",
     "text": [
      "     ford  reno  mercedas\n",
      "one                      \n",
      "0       7     4         1\n",
      "1       8     9         5\n",
      "2       9     1         3\n",
      "3       1     4         5\n",
      "4       0     7         3\n"
     ]
    }
   ],
   "source": [
    "print(carcatalog[['ford' ,'reno' , 'mercedas' ]]) #print by the order which i write now not in thw carcatalog "
   ]
  },
  {
   "cell_type": "code",
   "execution_count": 31,
   "id": "95f420a5-9bc3-4325-9737-bf3d043988e5",
   "metadata": {},
   "outputs": [
    {
     "name": "stdout",
     "output_type": "stream",
     "text": [
      "     ford\n",
      "one      \n",
      "1       8\n",
      "2       9\n"
     ]
    }
   ],
   "source": [
    "carcatalog_new = carcatalog[['ford']].iloc[1:3, :] #choose the specific data as you want\n",
    "print(carcatalog_new)"
   ]
  },
  {
   "cell_type": "code",
   "execution_count": 35,
   "id": "2871c976-00fc-428c-8325-d44ff9fe157d",
   "metadata": {},
   "outputs": [
    {
     "name": "stdout",
     "output_type": "stream",
     "text": [
      "     mercedas  bmw  ford  reno\n",
      "one                           \n",
      "2           3    2     9     1\n"
     ]
    }
   ],
   "source": [
    "carcatalog_new = carcatalog.iloc[2:3, :] #choose row from 2 untill 3\n",
    "print(carcatalog_new)"
   ]
  },
  {
   "cell_type": "code",
   "execution_count": 76,
   "id": "875e9373-852e-4ca0-b909-20eecc6fff84",
   "metadata": {},
   "outputs": [
    {
     "name": "stdout",
     "output_type": "stream",
     "text": [
      "<class 'pandas.core.frame.DataFrame'>\n"
     ]
    }
   ],
   "source": [
    "carcatalog_new = carcatalog.iloc[:,2:4] #choose column from 2 untill 3\n",
    "print(carcatalog_new)"
   ]
  },
  {
   "cell_type": "code",
   "execution_count": 51,
   "id": "bc6f2a54-4f5f-452b-a53b-a0ccb2f56871",
   "metadata": {},
   "outputs": [
    {
     "name": "stdout",
     "output_type": "stream",
     "text": [
      "     ford  reno\n",
      "one            \n",
      "0       7     4\n",
      "1       8     9\n",
      "2       9     1\n",
      "3       1     4\n",
      "4       0     7\n"
     ]
    }
   ],
   "source": [
    "carcatalog_new = carcatalog.iloc[:,[2,3]] #choose column 2 and 3 #make list with putting in []\n",
    "print(carcatalog_new)"
   ]
  },
  {
   "cell_type": "code",
   "execution_count": 64,
   "id": "22f754a0-39e7-4ae1-a56d-8674f10505e7",
   "metadata": {},
   "outputs": [
    {
     "name": "stdout",
     "output_type": "stream",
     "text": [
      "     bmw\n",
      "one     \n",
      "0      5\n",
      "1      8\n",
      "2      2\n",
      "3      6\n",
      "4      5\n"
     ]
    }
   ],
   "source": [
    "carcatalog_new = carcatalog.iloc[:,[1]] #choose column 1  #choose column 2 and 3 #make list with putting in []\n",
    "print(carcatalog_new)"
   ]
  },
  {
   "cell_type": "code",
   "execution_count": 72,
   "id": "5097c8f8-e99d-441c-91ab-4371c32fc1cb",
   "metadata": {},
   "outputs": [
    {
     "name": "stdout",
     "output_type": "stream",
     "text": [
      "one\n",
      "0    7\n",
      "1    8\n",
      "2    9\n",
      "3    1\n",
      "4    0\n",
      "Name: ford, dtype: int64\n"
     ]
    }
   ],
   "source": [
    "carcatalog_new = carcatalog.loc[:,[\"ford\"]] #find the ford value  #choose column 2 and 3 #make list with putting in []\n",
    "print(carcatalog_new)"
   ]
  },
  {
   "cell_type": "code",
   "execution_count": 74,
   "id": "627dc6e3-e93a-4a3c-a72e-dac96d4a9e5b",
   "metadata": {},
   "outputs": [
    {
     "name": "stdout",
     "output_type": "stream",
     "text": [
      "one\n",
      "0    7\n",
      "1    8\n",
      "2    9\n",
      "3    1\n",
      "4    0\n",
      "Name: ford, dtype: int64\n"
     ]
    }
   ],
   "source": [
    "carcatalog_new = carcatalog.loc[:,\"ford\"] #find the ford value # not list due to didnt use []\n",
    "print(carcatalog_new)"
   ]
  },
  {
   "cell_type": "code",
   "execution_count": null,
   "id": "59a81e7b-003b-40d0-bd09-505c45cd67d8",
   "metadata": {},
   "outputs": [],
   "source": []
  }
 ],
 "metadata": {
  "kernelspec": {
   "display_name": "anaconda-2024.02-py310",
   "language": "python",
   "name": "conda-env-anaconda-2024.02-py310-py"
  },
  "language_info": {
   "codemirror_mode": {
    "name": "ipython",
    "version": 3
   },
   "file_extension": ".py",
   "mimetype": "text/x-python",
   "name": "python",
   "nbconvert_exporter": "python",
   "pygments_lexer": "ipython3",
   "version": "3.10.14"
  }
 },
 "nbformat": 4,
 "nbformat_minor": 5
}
