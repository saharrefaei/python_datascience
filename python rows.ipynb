{
 "cells": [
  {
   "cell_type": "code",
   "execution_count": 43,
   "id": "b30b6377-4a7c-4329-9724-08f1866e367f",
   "metadata": {},
   "outputs": [
    {
     "name": "stdout",
     "output_type": "stream",
     "text": [
      "            mercedas  bmw  ford  reno\n",
      "index name                           \n",
      "one                1    5     7     4\n",
      "two                5    8     8     9\n",
      "three              3    2     9     1\n",
      "four               5    6     1     4\n",
      "five               3    5     0     7\n"
     ]
    }
   ],
   "source": [
    "import pandas as pd\n",
    "\n",
    "cardata ={'mercedas':[1,5,3,5,3],'bmw':[5,8,2,6,5],'ford':[7,8,9,1,0],'reno':[4,9,1,4,7]}\n",
    "carcatalog = pd.DataFrame(cardata)\n",
    "carcatalog=carcatalog.rename(index={0: 'one', 1: 'two', 2: 'three', 3: 'four', 4: 'five'})\n",
    "carcatalog.index.rename(\"index name\" , inplace=True)\n",
    "print(carcatalog)"
   ]
  },
  {
   "cell_type": "code",
   "execution_count": 17,
   "id": "223f6dfe-6dd3-4949-b755-6199be0b8080",
   "metadata": {},
   "outputs": [
    {
     "name": "stdout",
     "output_type": "stream",
     "text": [
      "mercedas    3\n",
      "bmw         2\n",
      "ford        9\n",
      "reno        1\n",
      "Name: three, dtype: int64\n"
     ]
    }
   ],
   "source": [
    "print(carcatalog.loc['three']) # return the row with the name three"
   ]
  },
  {
   "cell_type": "code",
   "execution_count": 19,
   "id": "bc5d9c85-8c09-498b-851f-d3ab163cc0e7",
   "metadata": {},
   "outputs": [
    {
     "name": "stdout",
     "output_type": "stream",
     "text": [
      "mercedas    5\n",
      "bmw         6\n",
      "ford        1\n",
      "reno        4\n",
      "Name: four, dtype: int64\n"
     ]
    }
   ],
   "source": [
    "print(carcatalog.iloc[3])# return the row with index 3 "
   ]
  },
  {
   "cell_type": "code",
   "execution_count": 21,
   "id": "9c64e95f-2c64-4d2a-bd1d-479f1194baf7",
   "metadata": {},
   "outputs": [
    {
     "name": "stdout",
     "output_type": "stream",
     "text": [
      "       mercedas  bmw  ford  reno\n",
      "two           5    8     8     9\n",
      "three         3    2     9     1\n",
      "four          5    6     1     4\n"
     ]
    }
   ],
   "source": [
    "print(carcatalog.loc['two':'four']) # return the rows between two and four"
   ]
  },
  {
   "cell_type": "code",
   "execution_count": 27,
   "id": "eedf7c7b-a65e-4e52-9673-dea66584bfc1",
   "metadata": {},
   "outputs": [
    {
     "name": "stdout",
     "output_type": "stream",
     "text": [
      "       mercedas  bmw  ford  reno\n",
      "three         3    2     9     1\n",
      "four          5    6     1     4\n"
     ]
    }
   ],
   "source": [
    "print(carcatalog.iloc[ 2 : 4])# return the rows start by index 2 and not show the index 4"
   ]
  },
  {
   "cell_type": "code",
   "execution_count": 35,
   "id": "b15ff801-efd6-4fc6-a62c-e63ad5eecd05",
   "metadata": {},
   "outputs": [
    {
     "name": "stdout",
     "output_type": "stream",
     "text": [
      "       mercedas  bmw  ford  reno\n",
      "one           1    5     7     4\n",
      "two           5    8     8     9\n",
      "three         3    2     9     1\n",
      "four          5    6     1     4\n"
     ]
    }
   ],
   "source": [
    "print(carcatalog.loc[ :'four'])# return the rows from start to four ( return four also )"
   ]
  },
  {
   "cell_type": "code",
   "execution_count": 37,
   "id": "e06ce97b-4516-41c7-984c-34af30163b76",
   "metadata": {},
   "outputs": [
    {
     "name": "stdout",
     "output_type": "stream",
     "text": [
      "       mercedas  bmw  ford  reno\n",
      "two           5    8     8     9\n",
      "three         3    2     9     1\n",
      "four          5    6     1     4\n",
      "five          3    5     0     7\n"
     ]
    }
   ],
   "source": [
    "print(carcatalog.loc[ 'two' : ])# return the rows  start to from two untill the last  ( return two also )"
   ]
  },
  {
   "cell_type": "code",
   "execution_count": 39,
   "id": "be5f21dd-f563-44d7-9991-02711de3dbae",
   "metadata": {},
   "outputs": [
    {
     "name": "stdout",
     "output_type": "stream",
     "text": [
      "       mercedas  bmw  ford  reno\n",
      "one           1    5     7     4\n",
      "three         3    2     9     1\n",
      "five          3    5     0     7\n"
     ]
    }
   ],
   "source": [
    "print(carcatalog.iloc[ : : 2])# return the rows with jump 2 "
   ]
  },
  {
   "cell_type": "code",
   "execution_count": 41,
   "id": "201e5514-dde4-434a-9bb7-ecbd096e82b7",
   "metadata": {},
   "outputs": [
    {
     "name": "stdout",
     "output_type": "stream",
     "text": [
      "       mercedas  bmw  ford  reno\n",
      "five          3    5     0     7\n",
      "four          5    6     1     4\n",
      "three         3    2     9     1\n",
      "two           5    8     8     9\n",
      "one           1    5     7     4\n"
     ]
    }
   ],
   "source": [
    "print(carcatalog.iloc[ : : -1])# return the rows backwards"
   ]
  },
  {
   "cell_type": "code",
   "execution_count": null,
   "id": "b8a65436-79c3-418e-a22c-684e8a5358b9",
   "metadata": {},
   "outputs": [],
   "source": []
  }
 ],
 "metadata": {
  "kernelspec": {
   "display_name": "anaconda-2024.02-py310",
   "language": "python",
   "name": "conda-env-anaconda-2024.02-py310-py"
  },
  "language_info": {
   "codemirror_mode": {
    "name": "ipython",
    "version": 3
   },
   "file_extension": ".py",
   "mimetype": "text/x-python",
   "name": "python",
   "nbconvert_exporter": "python",
   "pygments_lexer": "ipython3",
   "version": "3.10.14"
  }
 },
 "nbformat": 4,
 "nbformat_minor": 5
}
