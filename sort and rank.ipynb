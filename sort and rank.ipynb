{
 "cells": [
  {
   "cell_type": "code",
   "execution_count": 7,
   "id": "b0d936af-97b5-4215-871b-8bf0bdb33cda",
   "metadata": {},
   "outputs": [
    {
     "name": "stdout",
     "output_type": "stream",
     "text": [
      "       Mercedes  Ford  Tata  Renault\n",
      "One           2     3     9       12\n",
      "Two           4     0     3        1\n",
      "Three         0   132     4        0\n",
      "Four          4    54     1        0\n",
      "Five          0     6     0        3\n",
      "Six           3   132     0        1\n"
     ]
    }
   ],
   "source": [
    "# Create three Pandas DataFrames\n",
    "import pandas as pd\n",
    "\n",
    "# This is the basic Carsales DataFrame extended with two more Sales places plus the index column transformed to a feature column.\n",
    "Cardata = { \"Mercedes\": [2, 4, 0, 4, 0, 3], \"Ford\": [3, 0, 132, 54, 6, 132], \"Tata\":[9, 3, 4, 1, 0, 0], \"Renault\":[12, 1, 0, 0, 3, 1]}\n",
    "Carsales = pd.DataFrame(Cardata)\n",
    "Carsales.rename(index={0: \"One\", 1: \"Two\", 2: \"Three\", 3: \"Four\", 4: \"Five\", 5: \"Six\"}, inplace=True)\n",
    "\n",
    "print(Carsales)"
   ]
  },
  {
   "cell_type": "code",
   "execution_count": 9,
   "id": "ac04faa7-1074-4322-971d-002bfb44a837",
   "metadata": {},
   "outputs": [
    {
     "name": "stdout",
     "output_type": "stream",
     "text": [
      "       Mercedes  Ford  Tata  Renault\n",
      "Two           4     0     3        1\n",
      "One           2     3     9       12\n",
      "Five          0     6     0        3\n",
      "Four          4    54     1        0\n",
      "Three         0   132     4        0\n",
      "Six           3   132     0        1\n"
     ]
    }
   ],
   "source": [
    "print(Carsales.sort_values(['Ford']))"
   ]
  },
  {
   "cell_type": "code",
   "execution_count": 13,
   "id": "2a4e7805-ce72-4c42-926b-50b0695ad517",
   "metadata": {},
   "outputs": [
    {
     "name": "stdout",
     "output_type": "stream",
     "text": [
      "       Mercedes  Ford  Tata  Renault\n",
      "Six           3   132     0        1\n",
      "Three         0   132     4        0\n",
      "Four          4    54     1        0\n",
      "Five          0     6     0        3\n",
      "One           2     3     9       12\n",
      "Two           4     0     3        1\n"
     ]
    }
   ],
   "source": [
    "print(Carsales.sort_values(['Ford'],ascending=False))#نزولی مرتب میشوند ascending=False"
   ]
  },
  {
   "cell_type": "code",
   "execution_count": 17,
   "id": "4984ae96-f397-4fbb-9b0d-986e9c6c5c73",
   "metadata": {},
   "outputs": [
    {
     "name": "stdout",
     "output_type": "stream",
     "text": [
      "       Mercedes  Ford  Tata  Renault\n",
      "Two           4     0     3        1\n",
      "One           2     3     9       12\n",
      "Five          0     6     0        3\n",
      "Four          4    54     1        0\n",
      "Six           3   132     0        1\n",
      "Three         0   132     4        0\n"
     ]
    }
   ],
   "source": [
    "print(Carsales.sort_values(['Ford','Tata']))"
   ]
  },
  {
   "cell_type": "code",
   "execution_count": 31,
   "id": "06845ce7-5d3b-4ede-ac37-a729da063a47",
   "metadata": {},
   "outputs": [
    {
     "name": "stdout",
     "output_type": "stream",
     "text": [
      "       Mercedes  Ford  Tata  Renault\n",
      "Five          0     6     0        3\n",
      "Four          4    54     1        0\n",
      "One           2     3     9       12\n",
      "Six           3   132     0        1\n",
      "Three         0   132     4        0\n",
      "Two           4     0     3        1\n"
     ]
    }
   ],
   "source": [
    "print(Carsales.sort_index())"
   ]
  },
  {
   "cell_type": "code",
   "execution_count": 33,
   "id": "632d42fd-6742-4bd3-a2b3-af258406f784",
   "metadata": {},
   "outputs": [
    {
     "name": "stdout",
     "output_type": "stream",
     "text": [
      "Mercedes      Two\n",
      "Ford        Three\n",
      "Tata          One\n",
      "Renault       One\n",
      "dtype: object\n"
     ]
    }
   ],
   "source": [
    "print(Carsales.idxmax())#اولین مقدار بزرگترین  در هر ستون را بازمی‌گرداند\n",
    "#ایندکس بزرگ ترین مقدار در هر تایتل\n",
    "# مثلا در مرسدس عدد 4 از همه بیشتر است و اولین ایندکس ای که چهار دارد اینکدس 2 است ،پس 2 برگردانده میشود"
   ]
  },
  {
   "cell_type": "code",
   "execution_count": 49,
   "id": "bde76b23-18d6-453e-a12b-1e4890fc9d51",
   "metadata": {},
   "outputs": [
    {
     "name": "stdout",
     "output_type": "stream",
     "text": [
      "Three\n"
     ]
    }
   ],
   "source": [
    "print(Carsales['Ford'].idxmax(axis='columns'))"
   ]
  },
  {
   "cell_type": "code",
   "execution_count": 51,
   "id": "7f34bd76-402c-4279-9aed-f12310b17d93",
   "metadata": {},
   "outputs": [
    {
     "name": "stdout",
     "output_type": "stream",
     "text": [
      "Three\n"
     ]
    }
   ],
   "source": [
    "print(Carsales['Ford'].idxmax())"
   ]
  },
  {
   "cell_type": "code",
   "execution_count": 37,
   "id": "680271ca-3d72-406c-92d6-83a213314e5e",
   "metadata": {},
   "outputs": [
    {
     "name": "stdout",
     "output_type": "stream",
     "text": [
      "Mercedes    Three\n",
      "Ford          Two\n",
      "Tata         Five\n",
      "Renault     Three\n",
      "dtype: object\n"
     ]
    }
   ],
   "source": [
    "print(Carsales.idxmin())"
   ]
  },
  {
   "cell_type": "code",
   "execution_count": 39,
   "id": "2b629bb0-b1af-4aec-99fa-7d227af61e2f",
   "metadata": {},
   "outputs": [
    {
     "name": "stdout",
     "output_type": "stream",
     "text": [
      "One      Mercedes\n",
      "Two          Ford\n",
      "Three    Mercedes\n",
      "Four      Renault\n",
      "Five     Mercedes\n",
      "Six          Tata\n",
      "dtype: object\n"
     ]
    }
   ],
   "source": [
    "print(Carsales.idxmin(axis='columns'))"
   ]
  },
  {
   "cell_type": "code",
   "execution_count": 41,
   "id": "4f4ed0d8-768c-4f08-b748-0eee88d19972",
   "metadata": {},
   "outputs": [
    {
     "name": "stdout",
     "output_type": "stream",
     "text": [
      "       Mercedes  Ford  Tata  Renault\n",
      "Three         0   132     4        0\n",
      "Six           3   132     0        1\n",
      "Four          4    54     1        0\n"
     ]
    }
   ],
   "source": [
    "print(Carsales.nlargest(3,'Ford',keep='all'))# show 3 largest Ford data"
   ]
  },
  {
   "cell_type": "code",
   "execution_count": 43,
   "id": "e497b743-aad7-48e2-a65e-4abc0b2d66c1",
   "metadata": {},
   "outputs": [
    {
     "name": "stdout",
     "output_type": "stream",
     "text": [
      "      Mercedes  Ford  Tata  Renault\n",
      "Two          4     0     3        1\n",
      "One          2     3     9       12\n",
      "Five         0     6     0        3\n"
     ]
    }
   ],
   "source": [
    "print(Carsales.nsmallest(3,'Ford',keep='all'))"
   ]
  },
  {
   "cell_type": "code",
   "execution_count": 55,
   "id": "3de8ccdb-da60-4a9c-a3d0-e19f4f114e3f",
   "metadata": {},
   "outputs": [
    {
     "name": "stdout",
     "output_type": "stream",
     "text": [
      "       Mercedes  Ford  Tata  Renault\n",
      "One         3.0   2.0   6.0      6.0\n",
      "Two         5.5   1.0   4.0      3.5\n",
      "Three       1.5   5.5   5.0      1.5\n",
      "Four        5.5   4.0   3.0      1.5\n",
      "Five        1.5   3.0   1.5      5.0\n",
      "Six         4.0   5.5   1.5      3.5\n"
     ]
    }
   ],
   "source": [
    "print(Carsales.rank()) "
   ]
  },
  {
   "cell_type": "code",
   "execution_count": 67,
   "id": "8c2c8bd7-64f6-43f3-b460-77f522744fbe",
   "metadata": {},
   "outputs": [
    {
     "name": "stdout",
     "output_type": "stream",
     "text": [
      "       Mercedes  Ford  Tata  Renault\n",
      "One         3.0   2.0   6.0      6.0\n",
      "Two         5.5   1.0   4.0      3.5\n",
      "Three       1.5   5.5   5.0      1.5\n",
      "Four        5.5   4.0   3.0      1.5\n",
      "Five        1.5   3.0   1.5      5.0\n",
      "Six         4.0   5.5   1.5      3.5\n"
     ]
    }
   ],
   "source": [
    "print(Carsales.rank(ascending=False))"
   ]
  },
  {
   "cell_type": "code",
   "execution_count": 59,
   "id": "ec60907b-3f56-46be-aff8-13b27d598ed1",
   "metadata": {},
   "outputs": [
    {
     "name": "stdout",
     "output_type": "stream",
     "text": [
      "One      1.0\n",
      "Two      3.0\n",
      "Three    2.0\n",
      "Four     4.0\n",
      "Five     5.5\n",
      "Six      5.5\n",
      "Name: Tata, dtype: float64\n"
     ]
    }
   ],
   "source": [
    "print(Carsales['Tata'].rank(ascending=False))"
   ]
  },
  {
   "cell_type": "code",
   "execution_count": 61,
   "id": "487f8f4a-e0f7-4940-b660-2915a019f13f",
   "metadata": {},
   "outputs": [
    {
     "name": "stdout",
     "output_type": "stream",
     "text": [
      "       Mercedes  Ford  Tata  Renault\n",
      "One         4.0   3.0   2.0      1.0\n",
      "Two         1.0   4.0   2.0      3.0\n",
      "Three       3.5   1.0   2.0      3.5\n",
      "Four        2.0   1.0   3.0      4.0\n",
      "Five        3.5   1.0   3.5      2.0\n",
      "Six         2.0   1.0   4.0      3.0\n"
     ]
    }
   ],
   "source": [
    "print(Carsales.rank(axis=1,ascending=False))\n",
    "# هر ردیف را رنک بندی میکند"
   ]
  },
  {
   "cell_type": "code",
   "execution_count": null,
   "id": "115d0c39-0f51-4b38-93b4-741f123fc3ef",
   "metadata": {},
   "outputs": [],
   "source": []
  }
 ],
 "metadata": {
  "kernelspec": {
   "display_name": "anaconda-2024.02-py310",
   "language": "python",
   "name": "conda-env-anaconda-2024.02-py310-py"
  },
  "language_info": {
   "codemirror_mode": {
    "name": "ipython",
    "version": 3
   },
   "file_extension": ".py",
   "mimetype": "text/x-python",
   "name": "python",
   "nbconvert_exporter": "python",
   "pygments_lexer": "ipython3",
   "version": "3.10.14"
  }
 },
 "nbformat": 4,
 "nbformat_minor": 5
}
