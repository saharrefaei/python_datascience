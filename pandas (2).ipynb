{
 "cells": [
  {
   "cell_type": "code",
   "execution_count": 22,
   "id": "f2e21028-0f93-4c9a-8498-e2318000fa37",
   "metadata": {},
   "outputs": [
    {
     "name": "stdout",
     "output_type": "stream",
     "text": [
      "       mercedas  bmw  ford  reno\n",
      "index                           \n",
      "one           1    5     7     4\n",
      "1             5    8     8     9\n",
      "2             3    2     9     1\n",
      "3             5    6     1     4\n",
      "4             3    5     0     7\n"
     ]
    }
   ],
   "source": [
    "import pandas as pd\n",
    "\n",
    "cardata ={'mercedas':[1,5,3,5,3],'bmw':[5,8,2,6,5],'ford':[7,8,9,1,0],'reno':[4,9,1,4,7]}\n",
    "carcatalog=pd.DataFrame(cardata) \n",
    "carcatalog.index.rename(name='index',inplace=True) #rename the index name to 'index'\n",
    "carcatalog.rename(index={0:'one'},inplace=True) #rename the unique index to the unique name\n",
    "print(carcatalog)"
   ]
  },
  {
   "cell_type": "code",
   "execution_count": 7,
   "id": "3fd83657-a95b-4dda-bea6-e387385f84ac",
   "metadata": {},
   "outputs": [],
   "source": [
    "carcatalog.to_csv(\"example.csv\") #add the Data frame into the csv file"
   ]
  },
  {
   "cell_type": "code",
   "execution_count": 20,
   "id": "69655069-40d8-40d2-8b8a-3387f8e90d2a",
   "metadata": {},
   "outputs": [
    {
     "name": "stdout",
     "output_type": "stream",
     "text": [
      "             mercedas  bmw  ford  reno\n",
      "sales place                           \n",
      "ono                 1    5     7     4\n",
      "1                   5    8     8     9\n",
      "2                   3    2     9     1\n",
      "3                   5    6     1     4\n",
      "4                   3    5     0     7\n"
     ]
    }
   ],
   "source": [
    "carcatalog_Csvfile = pd.read_csv(\"example.csv\",index_col = 0) # read from the index column 0\n",
    "carcatalog_Csvfile.index.rename(name='sales place',inplace=True)\n",
    "print(carcatalog_file)"
   ]
  },
  {
   "cell_type": "code",
   "execution_count": 71,
   "id": "8bffa9aa-c7cf-4eaa-a051-bb1be8cb5a46",
   "metadata": {},
   "outputs": [
    {
     "name": "stdout",
     "output_type": "stream",
     "text": [
      "index\n",
      "one    5\n",
      "1      8\n",
      "2      2\n",
      "3      6\n",
      "4      5\n",
      "Name: bmw, dtype: int64   index  mercedas  bmw  ford  reno\n",
      "0   one         1    5     7     4\n",
      "1     1         5    8     8     9\n",
      "2     2         3    2     9     1\n",
      "3     3         5    6     1     4\n",
      "4     4         3    5     0     7        mercedas  bmw  ford  reno\n",
      "index                           \n",
      "one           1    5     7     4\n",
      "1             5    8     8     9\n",
      "2             3    2     9     1\n",
      "3             5    6     1     4\n",
      "4             3    5     0     7\n"
     ]
    }
   ],
   "source": [
    "carcatalog.to_excel(\"excelexmple.xlsx\") #add the Data frame into the excel file\n",
    "carcatalog_Csvexcel = pd.read_excel(\"excelexmple.xlsx\") #read from the excel file\n",
    "carcatalog_Csvexcel1 = pd.read_excel(\"excelexmple.xlsx\", index_col = 0) #read from the excel file from first column\n",
    "desiredatas=carcatalog_Csvexcel1['bmw'] #show the only bmw datas\n",
    "\n",
    "print(desiredatas , carcatalog_Csvexcel ,carcatalog_Csvexcel1 ) "
   ]
  },
  {
   "cell_type": "code",
   "execution_count": 101,
   "id": "a9f9c9f4-0d92-4e35-af0f-ae0e5272f0c7",
   "metadata": {},
   "outputs": [
    {
     "name": "stdout",
     "output_type": "stream",
     "text": [
      "       mercedas  bmw  ford  reno\n",
      "index                           \n",
      "one           1    5     7     4\n",
      "1             5    8     8     9\n",
      "2             3    2     9     1\n",
      "3             5    6     1     4\n",
      "4             3    5     0     7\n"
     ]
    }
   ],
   "source": [
    "import sqlite3 as sql\n",
    "connection =sql.connect(\"carcatalog.db\") # make connection to database with the desire name\n",
    "carcatalog.to_sql(\"carcatalog_table\",connection , if_exists = \"replace\") # add the carcatalog into the database with the desire table name\n",
    "carcatalog_DB = pd.read_sql_query(\" SELECT * FROM carcatalog_table\" ,connection )# get all datas from database\n",
    "carcatalog_DB=carcatalog_DB.set_index(\"index\")\n",
    "print(carcatalog_DB)"
   ]
  },
  {
   "cell_type": "code",
   "execution_count": 121,
   "id": "5b7c5538-920f-4573-8fb1-1324ebfafe3c",
   "metadata": {},
   "outputs": [
    {
     "name": "stdout",
     "output_type": "stream",
     "text": [
      "<class 'pandas.core.frame.DataFrame'>\n",
      "Index: 5 entries, one to 4\n",
      "Data columns (total 4 columns):\n",
      " #   Column    Non-Null Count  Dtype\n",
      "---  ------    --------------  -----\n",
      " 0   mercedas  5 non-null      int64\n",
      " 1   bmw       5 non-null      int64\n",
      " 2   ford      5 non-null      int64\n",
      " 3   reno      5 non-null      int64\n",
      "dtypes: int64(4)\n",
      "memory usage: 372.0+ bytes\n",
      "None\n",
      "<class 'pandas.core.series.Series'>\n",
      "Index: 5 entries, one to 4\n",
      "Series name: bmw\n",
      "Non-Null Count  Dtype\n",
      "--------------  -----\n",
      "5 non-null      int64\n",
      "dtypes: int64(1)\n",
      "memory usage: 252.0+ bytes\n",
      "None\n",
      "1\n"
     ]
    }
   ],
   "source": [
    "print(carcatalog.info()) #show\n",
    "print(carcatalog['bmw'].info())\n",
    "print(carcatalog.loc[2,\"reno\"]) #find the value of index 2 of the reno"
   ]
  },
  {
   "cell_type": "code",
   "execution_count": null,
   "id": "18b606ca-cb50-44f5-83a1-61fe0f2ae720",
   "metadata": {},
   "outputs": [],
   "source": []
  }
 ],
 "metadata": {
  "kernelspec": {
   "display_name": "anaconda-2024.02-py310",
   "language": "python",
   "name": "conda-env-anaconda-2024.02-py310-py"
  },
  "language_info": {
   "codemirror_mode": {
    "name": "ipython",
    "version": 3
   },
   "file_extension": ".py",
   "mimetype": "text/x-python",
   "name": "python",
   "nbconvert_exporter": "python",
   "pygments_lexer": "ipython3",
   "version": "3.10.14"
  }
 },
 "nbformat": 4,
 "nbformat_minor": 5
}
