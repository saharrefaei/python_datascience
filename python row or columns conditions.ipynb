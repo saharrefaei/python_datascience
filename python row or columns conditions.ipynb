{
 "cells": [
  {
   "cell_type": "code",
   "execution_count": 1,
   "id": "9984c9c6-6aa6-4706-b864-4d918103f7e5",
   "metadata": {},
   "outputs": [
    {
     "name": "stdout",
     "output_type": "stream",
     "text": [
      "            mercedas  bmw  ford  reno\n",
      "index name                           \n",
      "one                1    5     7     4\n",
      "two                5    8     8     9\n",
      "three              3    2     9     1\n",
      "four               5    6     1     4\n",
      "five               3    5     0     7\n"
     ]
    }
   ],
   "source": [
    "import pandas as pd\n",
    "\n",
    "cardata ={'mercedas':[1,5,3,5,3],'bmw':[5,8,2,6,5],'ford':[7,8,9,1,0],'reno':[4,9,1,4,7]}\n",
    "carcatalog = pd.DataFrame(cardata)\n",
    "carcatalog=carcatalog.rename(index={0: 'one', 1: 'two', 2: 'three', 3: 'four', 4: 'five'})\n",
    "carcatalog.index.rename(\"index name\" , inplace=True)\n",
    "print(carcatalog)"
   ]
  },
  {
   "cell_type": "code",
   "execution_count": 21,
   "id": "d335c90c-560d-4e37-9c23-47657190b76b",
   "metadata": {},
   "outputs": [
    {
     "name": "stdout",
     "output_type": "stream",
     "text": [
      "            mercedas  bmw  ford  reno\n",
      "index name                           \n",
      "one                1    5     7     4\n",
      "three              3    2     9     1\n",
      "five               3    5     0     7\n",
      "            mercedas  bmw  ford  reno\n",
      "index name                           \n",
      "two                5    8     8     9\n",
      "five               3    5     0     7\n"
     ]
    }
   ],
   "source": [
    "mercedas_sales = carcatalog.loc[(carcatalog.reno>4) ]\n",
    "mercedas_sales2 = carcatalog.loc[(carcatalog.mercedas < 4) ]\n",
    "print(mercedas_sales2)\n",
    "print(mercedas_sales)"
   ]
  },
  {
   "cell_type": "code",
   "execution_count": 11,
   "id": "90ec556b-8876-45a8-95b7-f86d4e27b807",
   "metadata": {},
   "outputs": [
    {
     "name": "stdout",
     "output_type": "stream",
     "text": [
      "            mercedas  bmw  ford  reno\n",
      "index name                           \n",
      "five               3    5     0     7\n"
     ]
    }
   ],
   "source": [
    "mercedas_sales = carcatalog.loc[(carcatalog.mercedas < 4) & (carcatalog.reno>4)]\n",
    "print(mercedas_sales)"
   ]
  },
  {
   "cell_type": "code",
   "execution_count": 13,
   "id": "06cf0cc0-829d-499e-b3c5-cb4d5d803eda",
   "metadata": {},
   "outputs": [
    {
     "name": "stdout",
     "output_type": "stream",
     "text": [
      "            mercedas  bmw  ford  reno\n",
      "index name                           \n",
      "one                1    5     7     4\n",
      "two                5    8     8     9\n",
      "three              3    2     9     1\n",
      "five               3    5     0     7\n"
     ]
    }
   ],
   "source": [
    "mercedas_sales = carcatalog.loc[(carcatalog.mercedas < 4) | (carcatalog.reno>4)]\n",
    "print(mercedas_sales)"
   ]
  },
  {
   "cell_type": "code",
   "execution_count": 29,
   "id": "40de7588-bcd8-4c68-87ee-fe0a37373aed",
   "metadata": {},
   "outputs": [
    {
     "name": "stdout",
     "output_type": "stream",
     "text": [
      "            mercedas  bmw  ford  reno\n",
      "index name                           \n",
      "two                5    8     8     9\n",
      "four               5    6     1     4\n"
     ]
    }
   ],
   "source": [
    "mercedas_sales2 = carcatalog.iloc[list(carcatalog.mercedas > 3) ] # for iloc we have to change the type to list \n",
    "print(mercedas_sales2)"
   ]
  },
  {
   "cell_type": "code",
   "execution_count": 35,
   "id": "d400aab1-bbe4-4caa-8f50-0e530d2339e7",
   "metadata": {},
   "outputs": [
    {
     "name": "stdout",
     "output_type": "stream",
     "text": [
      "            mercedas  bmw  ford  reno\n",
      "index name                           \n",
      "three              3    2     9     1\n",
      "four               5    6     1     4\n"
     ]
    }
   ],
   "source": [
    "car_index = ['three', 'four' ] \n",
    "carfind_index = carcatalog.loc[carcatalog.index.isin(car_index)]\n",
    "print(carfind_index)"
   ]
  },
  {
   "cell_type": "code",
   "execution_count": 37,
   "id": "fb5823e9-d3b5-41d8-a5de-749705106ea3",
   "metadata": {},
   "outputs": [
    {
     "name": "stdout",
     "output_type": "stream",
     "text": [
      "            mercedas  bmw  ford  reno\n",
      "index name                           \n",
      "one                1    5     7     4\n"
     ]
    }
   ],
   "source": [
    "car_index = ['three', 'four' ] \n",
    "carfind_index = carcatalog.loc[carcatalog.index.str.contains('one')]\n",
    "print(carfind_index)"
   ]
  },
  {
   "cell_type": "code",
   "execution_count": 61,
   "id": "83a07785-2834-4dea-8a74-857c4fe13c6d",
   "metadata": {},
   "outputs": [
    {
     "name": "stdout",
     "output_type": "stream",
     "text": [
      "            mercedas  bmw  ford  reno\n",
      "index name                           \n",
      "one                1    5     7     4\n",
      "two                5    8     8     9\n",
      "three              3    2     9     1\n"
     ]
    }
   ],
   "source": [
    "car = carcatalog.loc[carcatalog['ford'].between(7,9)]\n",
    "print(car)"
   ]
  },
  {
   "cell_type": "code",
   "execution_count": 79,
   "id": "0f308a82-a8f1-4f81-b248-b2a2b55061bb",
   "metadata": {},
   "outputs": [
    {
     "name": "stdout",
     "output_type": "stream",
     "text": [
      "            ford\n",
      "index name      \n",
      "one            7\n",
      "two            8\n",
      "three          9\n",
      "four           1\n",
      "five           0\n"
     ]
    }
   ],
   "source": [
    "print(carcatalog[[\"ford\"]])"
   ]
  },
  {
   "cell_type": "code",
   "execution_count": null,
   "id": "5e2d5dbe-5f19-470e-a629-69931a332b4b",
   "metadata": {},
   "outputs": [],
   "source": []
  }
 ],
 "metadata": {
  "kernelspec": {
   "display_name": "anaconda-2024.02-py310",
   "language": "python",
   "name": "conda-env-anaconda-2024.02-py310-py"
  },
  "language_info": {
   "codemirror_mode": {
    "name": "ipython",
    "version": 3
   },
   "file_extension": ".py",
   "mimetype": "text/x-python",
   "name": "python",
   "nbconvert_exporter": "python",
   "pygments_lexer": "ipython3",
   "version": "3.10.14"
  }
 },
 "nbformat": 4,
 "nbformat_minor": 5
}
