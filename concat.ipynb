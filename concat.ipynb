{
 "cells": [
  {
   "cell_type": "code",
   "execution_count": null,
   "id": "76982264-dfd8-4de0-a80a-e48456a55d8d",
   "metadata": {},
   "outputs": [],
   "source": [
    "\n",
    "| Join Type | Explanation | Output Rows |\n",
    "|-----------|-------------|-------------|\n",
    "| `inner`   | Only common rows | Only rows that are common in both DataFrames |\n",
    "| `outer`   | All rows | All rows from both DataFrames |\n",
    "| `left`    | Rows from left DataFrame | All rows from the left DataFrame and matching rows from the right DataFrame |\n",
    "| `right`   | Rows from right DataFrame | All rows from the right DataFrame and matching rows from the left DataFrame |\n"
   ]
  },
  {
   "cell_type": "code",
   "execution_count": 31,
   "id": "ea96da96-acc9-4e8c-9624-841e16df553a",
   "metadata": {},
   "outputs": [
    {
     "name": "stdout",
     "output_type": "stream",
     "text": [
      "       Volvo  Tesla\n",
      "One        3      2\n",
      "Nine       4      8\n",
      "Three      0      0\n",
      "Six        0      1\n",
      "Seven      1      1\n"
     ]
    }
   ],
   "source": [
    "# Import Pandas library\n",
    "import pandas as pd\n",
    "\n",
    "# Create four Pandas DataFrames\n",
    "\n",
    "# This is the basic Carsales DataFrame\n",
    "Cardata = { \"Mercedes\": [2, 4, 0, 4, 0, 3], \"Ford\": [3, 0, 0, 1, 6, 12], \"Tata\":[9, 3, 4, 1, 0, 0], \"Renault\":[12, 1, 0, 0, 3, 1]}\n",
    "Carsales = pd.DataFrame(Cardata)\n",
    "Carsales.index.rename(\"Sales place\", inplace=True)\n",
    "Carsales.rename(index={0: \"One\", 1: \"Two\", 2: \"Three\", 3: \"Four\", 4: \"Five\", 5: \"Six\"}, inplace=True)\n",
    "Carsales.insert(0, \"Sales_place_name\", [\"Europe 1\", \"Australia 1\", \"USA 1\", \"Asia 1\", \"Africa 1\", \"South America 1\"], allow_duplicates=False)\n",
    "print(Carsales)\n",
    "\n",
    "# This DataFrame may add two Salesplaces to our DataFrame, vertically.\n",
    "Carsales2 = pd.DataFrame({\"Sales_place_name\": [\"South America 1\", \"Asia 1\"], \"Mercedes\": [3, 4], \"Ford\": [2, 1], \"Tata\": [1, 1], \"Renault\": [1, 0]})\n",
    "Carsales2.rename(index={0: \"Seven\", 1: \"Eight\"}, inplace=True)\n",
    "print(Carsales2)\n",
    "\n",
    "# This DataFrame contains two Carbrands columns which can be added to the Carsales DataFrame, horizontally.\n",
    "Carsales3 = pd.DataFrame({\"Volvo\": [3, 4, 0, 0, 1], \"Tesla\": [2, 8, 0, 1, 1]})\n",
    "Carsales3.rename(index={0: \"One\", 1: \"Nine\", 2: \"Three\", 3: \"Six\", 4: \"Seven\", 5: \"Eight\"}, inplace=True)\n",
    "print(Carsales3)\n",
    "\n",
    "# This DataFrame may be used display the .concat functions handling of duplicates.\n",
    "Carsales4 = pd.DataFrame({\"Sales_place_name\": [\"Europe 1\", \"Australia 1\"], \"Mercedes\": [2, 4], \"Ford\": [3, 0], \"Tata\": [9, 3], \"Renault\": [12, 1]})\n",
    "Carsales4.rename(index={0: \"One\", 1: \"Two\"}, inplace=True)\n",
    "print(Carsales4)"
   ]
  },
  {
   "cell_type": "code",
   "execution_count": 23,
   "id": "0f029382-661b-41d2-a9c5-2eacfc38bb14",
   "metadata": {},
   "outputs": [
    {
     "name": "stdout",
     "output_type": "stream",
     "text": [
      "      Sales_place_name  Mercedes  Ford  Tata  Renault\n",
      "One           Europe 1         2     3     9       12\n",
      "Two        Australia 1         4     0     3        1\n",
      "Three            USA 1         0     0     4        0\n",
      "Four            Asia 1         4     1     1        0\n",
      "Five          Africa 1         0     6     0        3\n",
      "Six    South America 1         3    12     0        1\n",
      "Seven  South America 1         3     2     1        1\n",
      "Eight           Asia 1         4     1     1        0\n"
     ]
    }
   ],
   "source": [
    "carsels5 = pd.concat([Carsales,Carsales2])\n",
    "print(carsels5)"
   ]
  },
  {
   "cell_type": "code",
   "execution_count": 53,
   "id": "8ac7bbe0-3f9b-42c0-81f9-52bf80dae096",
   "metadata": {},
   "outputs": [
    {
     "name": "stdout",
     "output_type": "stream",
     "text": [
      "       Volvo  Tesla\n",
      "One        3      2\n",
      "Nine       4      8\n",
      "Three      0      0\n",
      "Six        0      1\n",
      "Seven      1      1\n"
     ]
    }
   ],
   "source": [
    "carsels6 = pd.concat([carsels5,Carsales3], axis=1)\n",
    "print(Carsales3)"
   ]
  },
  {
   "cell_type": "code",
   "execution_count": 33,
   "id": "7f47a16d-2578-4484-98c3-4f0c458c8ccb",
   "metadata": {},
   "outputs": [
    {
     "name": "stdout",
     "output_type": "stream",
     "text": [
      "      Sales_place_name  Mercedes  Ford  Tata  Renault  Volvo  Tesla\n",
      "One           Europe 1       2.0   3.0   9.0     12.0    3.0    2.0\n",
      "Two        Australia 1       4.0   0.0   3.0      1.0    NaN    NaN\n",
      "Three            USA 1       0.0   0.0   4.0      0.0    0.0    0.0\n",
      "Four            Asia 1       4.0   1.0   1.0      0.0    NaN    NaN\n",
      "Five          Africa 1       0.0   6.0   0.0      3.0    NaN    NaN\n",
      "Six    South America 1       3.0  12.0   0.0      1.0    0.0    1.0\n",
      "Seven  South America 1       3.0   2.0   1.0      1.0    1.0    1.0\n",
      "Eight           Asia 1       4.0   1.0   1.0      0.0    NaN    NaN\n",
      "Nine               NaN       NaN   NaN   NaN      NaN    4.0    8.0\n"
     ]
    }
   ],
   "source": [
    "carsels6 = pd.concat([carsels5,Carsales3], axis=1)\n",
    "print(carsels6)"
   ]
  },
  {
   "cell_type": "code",
   "execution_count": 45,
   "id": "15d70316-19b3-4b1c-812e-77e5b1016502",
   "metadata": {},
   "outputs": [
    {
     "name": "stdout",
     "output_type": "stream",
     "text": [
      "      Sales_place_name  Mercedes  Ford  Tata  Renault  Volvo  Tesla\n",
      "One           Europe 1         2     3     9       12      3      2\n",
      "Three            USA 1         0     0     4        0      0      0\n",
      "Six    South America 1         3    12     0        1      0      1\n",
      "Seven  South America 1         3     2     1        1      1      1\n"
     ]
    }
   ],
   "source": [
    "carsels7 = pd.concat([carsels5,Carsales3], axis=1 , join='inner')\n",
    "print(carsels7)"
   ]
  },
  {
   "cell_type": "code",
   "execution_count": 47,
   "id": "048c62b1-b746-447f-ba36-c89a361c55f8",
   "metadata": {},
   "outputs": [
    {
     "name": "stdout",
     "output_type": "stream",
     "text": [
      "  key  value1\n",
      "0   A       1\n",
      "1   B       2\n",
      "2   C       3\n"
     ]
    }
   ],
   "source": [
    "df1 = pd.DataFrame({'key': ['A', 'B', 'C'],\n",
    "                    'value1': [1, 2, 3]})\n",
    "\n",
    "print(df1)"
   ]
  },
  {
   "cell_type": "code",
   "execution_count": 49,
   "id": "5bfcad98-3127-4f3b-b77c-ce3120689ee7",
   "metadata": {},
   "outputs": [
    {
     "name": "stdout",
     "output_type": "stream",
     "text": [
      "  key  value2\n",
      "0   B       4\n",
      "1   C       5\n",
      "2   D       6\n"
     ]
    }
   ],
   "source": [
    "df2 = pd.DataFrame({'key': ['B', 'C', 'D'],\n",
    "                    'value2': [4, 5, 6]})\n",
    "print(df2)"
   ]
  },
  {
   "cell_type": "code",
   "execution_count": 51,
   "id": "ad64bf67-4c81-454c-90d6-92b79af66ff2",
   "metadata": {},
   "outputs": [
    {
     "name": "stdout",
     "output_type": "stream",
     "text": [
      "  key  value1 key  value2\n",
      "0   A       1   B       4\n",
      "1   B       2   C       5\n",
      "2   C       3   D       6\n"
     ]
    }
   ],
   "source": [
    "df3 = pd.concat([df1,df2],axis=1 , join='inner')\n",
    "print(df3)"
   ]
  },
  {
   "cell_type": "code",
   "execution_count": 63,
   "id": "9b7a87af-1fe8-4da7-a798-33a1b65eeff4",
   "metadata": {},
   "outputs": [
    {
     "name": "stdout",
     "output_type": "stream",
     "text": [
      "                      Sales_place_name  Mercedes  Ford  Tata  Renault\n",
      "dataFrame Sales place                                                \n",
      "Carsales  One                 Europe 1         2     3     9       12\n",
      "          Two              Australia 1         4     0     3        1\n",
      "          Three                  USA 1         0     0     4        0\n",
      "          Four                  Asia 1         4     1     1        0\n",
      "          Five                Africa 1         0     6     0        3\n",
      "          Six          South America 1         3    12     0        1\n",
      "Carsales4 One                 Europe 1         2     3     9       12\n",
      "          Two              Australia 1         4     0     3        1\n"
     ]
    }
   ],
   "source": [
    "carsels8= pd.concat([Carsales,Carsales4],keys=['Carsales','Carsales4'],names=['dataFrame','Sales place'])\n",
    "print(carsels8)"
   ]
  },
  {
   "cell_type": "code",
   "execution_count": null,
   "id": "fa06516e-7908-483c-881f-d177f9401a8b",
   "metadata": {},
   "outputs": [],
   "source": []
  }
 ],
 "metadata": {
  "kernelspec": {
   "display_name": "anaconda-2024.02-py310",
   "language": "python",
   "name": "conda-env-anaconda-2024.02-py310-py"
  },
  "language_info": {
   "codemirror_mode": {
    "name": "ipython",
    "version": 3
   },
   "file_extension": ".py",
   "mimetype": "text/x-python",
   "name": "python",
   "nbconvert_exporter": "python",
   "pygments_lexer": "ipython3",
   "version": "3.10.14"
  }
 },
 "nbformat": 4,
 "nbformat_minor": 5
}
