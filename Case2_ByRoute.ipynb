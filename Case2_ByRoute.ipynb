{
 "cells": [
  {
   "cell_type": "code",
   "execution_count": null,
   "metadata": {},
   "outputs": [
    {
     "data": {
      "text/plain": [
       "(9523294, 22)"
      ]
     },
     "execution_count": 1,
     "metadata": {},
     "output_type": "execute_result"
    }
   ],
   "source": [
    "import pandas as pd\n",
    "\n",
    "df_large = pd.read_csv(r\"C:\\Users\\sahar\\OneDrive\\Desktop\\SkyScanner.csv\")\n",
    "df_large.isnull().sum()\n",
    "\n",
    "df_large.shape"
   ]
  },
  {
   "cell_type": "code",
   "execution_count": 2,
   "metadata": {},
   "outputs": [
    {
     "data": {
      "text/html": [
       "<div>\n",
       "<style scoped>\n",
       "    .dataframe tbody tr th:only-of-type {\n",
       "        vertical-align: middle;\n",
       "    }\n",
       "\n",
       "    .dataframe tbody tr th {\n",
       "        vertical-align: top;\n",
       "    }\n",
       "\n",
       "    .dataframe thead th {\n",
       "        text-align: right;\n",
       "    }\n",
       "</style>\n",
       "<table border=\"1\" class=\"dataframe\">\n",
       "  <thead>\n",
       "    <tr style=\"text-align: right;\">\n",
       "      <th></th>\n",
       "      <th>flightWeek</th>\n",
       "      <th>OriginAirport</th>\n",
       "      <th>DestinationAirport</th>\n",
       "      <th>isConnectingFlight</th>\n",
       "      <th>isEWRoute</th>\n",
       "      <th>cabinClass</th>\n",
       "      <th>kind</th>\n",
       "      <th>TripLengthNights</th>\n",
       "      <th>TravelHorizonDays</th>\n",
       "      <th>RedirectsCount</th>\n",
       "      <th>Segments</th>\n",
       "      <th>TripPax</th>\n",
       "      <th>weekOfYear</th>\n",
       "      <th>Average_FlightFare</th>\n",
       "    </tr>\n",
       "  </thead>\n",
       "  <tbody>\n",
       "    <tr>\n",
       "      <th>0</th>\n",
       "      <td>2024-W30</td>\n",
       "      <td>CDG</td>\n",
       "      <td>CKY</td>\n",
       "      <td>0</td>\n",
       "      <td>0</td>\n",
       "      <td>ECONOMY</td>\n",
       "      <td>RETURN</td>\n",
       "      <td>35.0</td>\n",
       "      <td>69</td>\n",
       "      <td>2</td>\n",
       "      <td>4</td>\n",
       "      <td>2</td>\n",
       "      <td>2024-W20</td>\n",
       "      <td>614.762500</td>\n",
       "    </tr>\n",
       "    <tr>\n",
       "      <th>1</th>\n",
       "      <td>2024-W20</td>\n",
       "      <td>LTN</td>\n",
       "      <td>BCN</td>\n",
       "      <td>0</td>\n",
       "      <td>0</td>\n",
       "      <td>ECONOMY</td>\n",
       "      <td>RETURN</td>\n",
       "      <td>2.0</td>\n",
       "      <td>3</td>\n",
       "      <td>2</td>\n",
       "      <td>6</td>\n",
       "      <td>3</td>\n",
       "      <td>2024-W20</td>\n",
       "      <td>146.803333</td>\n",
       "    </tr>\n",
       "    <tr>\n",
       "      <th>2</th>\n",
       "      <td>2024-W26</td>\n",
       "      <td>RJK</td>\n",
       "      <td>CRL</td>\n",
       "      <td>0</td>\n",
       "      <td>0</td>\n",
       "      <td>ECONOMY</td>\n",
       "      <td>RETURN</td>\n",
       "      <td>14.0</td>\n",
       "      <td>41</td>\n",
       "      <td>3</td>\n",
       "      <td>6</td>\n",
       "      <td>3</td>\n",
       "      <td>2024-W20</td>\n",
       "      <td>40.815000</td>\n",
       "    </tr>\n",
       "    <tr>\n",
       "      <th>3</th>\n",
       "      <td>2024-W23</td>\n",
       "      <td>BFS</td>\n",
       "      <td>PMI</td>\n",
       "      <td>0</td>\n",
       "      <td>0</td>\n",
       "      <td>ECONOMY</td>\n",
       "      <td>RETURN</td>\n",
       "      <td>4.0</td>\n",
       "      <td>26</td>\n",
       "      <td>3</td>\n",
       "      <td>16</td>\n",
       "      <td>8</td>\n",
       "      <td>2024-W20</td>\n",
       "      <td>101.987500</td>\n",
       "    </tr>\n",
       "    <tr>\n",
       "      <th>4</th>\n",
       "      <td>2024-W31</td>\n",
       "      <td>MXP</td>\n",
       "      <td>PRG</td>\n",
       "      <td>0</td>\n",
       "      <td>1</td>\n",
       "      <td>ECONOMY</td>\n",
       "      <td>RETURN</td>\n",
       "      <td>3.0</td>\n",
       "      <td>74</td>\n",
       "      <td>4</td>\n",
       "      <td>18</td>\n",
       "      <td>9</td>\n",
       "      <td>2024-W20</td>\n",
       "      <td>48.781111</td>\n",
       "    </tr>\n",
       "  </tbody>\n",
       "</table>\n",
       "</div>"
      ],
      "text/plain": [
       "  flightWeek OriginAirport DestinationAirport  isConnectingFlight  isEWRoute  \\\n",
       "0   2024-W30           CDG                CKY                   0          0   \n",
       "1   2024-W20           LTN                BCN                   0          0   \n",
       "2   2024-W26           RJK                CRL                   0          0   \n",
       "3   2024-W23           BFS                PMI                   0          0   \n",
       "4   2024-W31           MXP                PRG                   0          1   \n",
       "\n",
       "  cabinClass    kind  TripLengthNights  TravelHorizonDays  RedirectsCount  \\\n",
       "0    ECONOMY  RETURN              35.0                 69               2   \n",
       "1    ECONOMY  RETURN               2.0                  3               2   \n",
       "2    ECONOMY  RETURN              14.0                 41               3   \n",
       "3    ECONOMY  RETURN               4.0                 26               3   \n",
       "4    ECONOMY  RETURN               3.0                 74               4   \n",
       "\n",
       "   Segments  TripPax weekOfYear  Average_FlightFare  \n",
       "0         4        2   2024-W20          614.762500  \n",
       "1         6        3   2024-W20          146.803333  \n",
       "2         6        3   2024-W20           40.815000  \n",
       "3        16        8   2024-W20          101.987500  \n",
       "4        18        9   2024-W20           48.781111  "
      ]
     },
     "execution_count": 2,
     "metadata": {},
     "output_type": "execute_result"
    }
   ],
   "source": [
    "df_large_Clean = df_large.drop(columns=['mainCarrier','Market','UserCountryCode','OriginCountry','DestinationCountry','Year','Revenue','ODPax'])\n",
    "\n",
    "df_large_Clean.head()"
   ]
  },
  {
   "cell_type": "code",
   "execution_count": 3,
   "metadata": {},
   "outputs": [
    {
     "data": {
      "text/plain": [
       "flightWeek             object\n",
       "OriginAirport          object\n",
       "DestinationAirport     object\n",
       "isConnectingFlight      int64\n",
       "isEWRoute               int64\n",
       "cabinClass             object\n",
       "kind                   object\n",
       "TripLengthNights      float64\n",
       "TravelHorizonDays       int64\n",
       "RedirectsCount          int64\n",
       "Segments                int64\n",
       "TripPax                 int64\n",
       "weekOfYear             object\n",
       "Average_FlightFare    float64\n",
       "dtype: object"
      ]
     },
     "execution_count": 3,
     "metadata": {},
     "output_type": "execute_result"
    }
   ],
   "source": [
    "df_large_Clean.dtypes"
   ]
  },
  {
   "cell_type": "code",
   "execution_count": 4,
   "metadata": {},
   "outputs": [
    {
     "data": {
      "text/html": [
       "<div>\n",
       "<style scoped>\n",
       "    .dataframe tbody tr th:only-of-type {\n",
       "        vertical-align: middle;\n",
       "    }\n",
       "\n",
       "    .dataframe tbody tr th {\n",
       "        vertical-align: top;\n",
       "    }\n",
       "\n",
       "    .dataframe thead th {\n",
       "        text-align: right;\n",
       "    }\n",
       "</style>\n",
       "<table border=\"1\" class=\"dataframe\">\n",
       "  <thead>\n",
       "    <tr style=\"text-align: right;\">\n",
       "      <th></th>\n",
       "      <th>flightWeek</th>\n",
       "      <th>OriginAirport</th>\n",
       "      <th>DestinationAirport</th>\n",
       "      <th>isConnectingFlight</th>\n",
       "      <th>isEWRoute</th>\n",
       "      <th>cabinClass</th>\n",
       "      <th>kind</th>\n",
       "      <th>TripLengthNights</th>\n",
       "      <th>TravelHorizonDays</th>\n",
       "      <th>RedirectsCount</th>\n",
       "      <th>Segments</th>\n",
       "      <th>TripPax</th>\n",
       "      <th>weekOfYear</th>\n",
       "      <th>Average_FlightFare</th>\n",
       "    </tr>\n",
       "  </thead>\n",
       "  <tbody>\n",
       "    <tr>\n",
       "      <th>0</th>\n",
       "      <td>30</td>\n",
       "      <td>CDG</td>\n",
       "      <td>CKY</td>\n",
       "      <td>0</td>\n",
       "      <td>0</td>\n",
       "      <td>ECONOMY</td>\n",
       "      <td>RETURN</td>\n",
       "      <td>35.0</td>\n",
       "      <td>69</td>\n",
       "      <td>2</td>\n",
       "      <td>4</td>\n",
       "      <td>2</td>\n",
       "      <td>20</td>\n",
       "      <td>614.762500</td>\n",
       "    </tr>\n",
       "    <tr>\n",
       "      <th>1</th>\n",
       "      <td>20</td>\n",
       "      <td>LTN</td>\n",
       "      <td>BCN</td>\n",
       "      <td>0</td>\n",
       "      <td>0</td>\n",
       "      <td>ECONOMY</td>\n",
       "      <td>RETURN</td>\n",
       "      <td>2.0</td>\n",
       "      <td>3</td>\n",
       "      <td>2</td>\n",
       "      <td>6</td>\n",
       "      <td>3</td>\n",
       "      <td>20</td>\n",
       "      <td>146.803333</td>\n",
       "    </tr>\n",
       "    <tr>\n",
       "      <th>2</th>\n",
       "      <td>26</td>\n",
       "      <td>RJK</td>\n",
       "      <td>CRL</td>\n",
       "      <td>0</td>\n",
       "      <td>0</td>\n",
       "      <td>ECONOMY</td>\n",
       "      <td>RETURN</td>\n",
       "      <td>14.0</td>\n",
       "      <td>41</td>\n",
       "      <td>3</td>\n",
       "      <td>6</td>\n",
       "      <td>3</td>\n",
       "      <td>20</td>\n",
       "      <td>40.815000</td>\n",
       "    </tr>\n",
       "    <tr>\n",
       "      <th>3</th>\n",
       "      <td>23</td>\n",
       "      <td>BFS</td>\n",
       "      <td>PMI</td>\n",
       "      <td>0</td>\n",
       "      <td>0</td>\n",
       "      <td>ECONOMY</td>\n",
       "      <td>RETURN</td>\n",
       "      <td>4.0</td>\n",
       "      <td>26</td>\n",
       "      <td>3</td>\n",
       "      <td>16</td>\n",
       "      <td>8</td>\n",
       "      <td>20</td>\n",
       "      <td>101.987500</td>\n",
       "    </tr>\n",
       "    <tr>\n",
       "      <th>4</th>\n",
       "      <td>31</td>\n",
       "      <td>MXP</td>\n",
       "      <td>PRG</td>\n",
       "      <td>0</td>\n",
       "      <td>1</td>\n",
       "      <td>ECONOMY</td>\n",
       "      <td>RETURN</td>\n",
       "      <td>3.0</td>\n",
       "      <td>74</td>\n",
       "      <td>4</td>\n",
       "      <td>18</td>\n",
       "      <td>9</td>\n",
       "      <td>20</td>\n",
       "      <td>48.781111</td>\n",
       "    </tr>\n",
       "  </tbody>\n",
       "</table>\n",
       "</div>"
      ],
      "text/plain": [
       "   flightWeek OriginAirport DestinationAirport  isConnectingFlight  isEWRoute  \\\n",
       "0          30           CDG                CKY                   0          0   \n",
       "1          20           LTN                BCN                   0          0   \n",
       "2          26           RJK                CRL                   0          0   \n",
       "3          23           BFS                PMI                   0          0   \n",
       "4          31           MXP                PRG                   0          1   \n",
       "\n",
       "  cabinClass    kind  TripLengthNights  TravelHorizonDays  RedirectsCount  \\\n",
       "0    ECONOMY  RETURN              35.0                 69               2   \n",
       "1    ECONOMY  RETURN               2.0                  3               2   \n",
       "2    ECONOMY  RETURN              14.0                 41               3   \n",
       "3    ECONOMY  RETURN               4.0                 26               3   \n",
       "4    ECONOMY  RETURN               3.0                 74               4   \n",
       "\n",
       "   Segments  TripPax  weekOfYear  Average_FlightFare  \n",
       "0         4        2          20          614.762500  \n",
       "1         6        3          20          146.803333  \n",
       "2         6        3          20           40.815000  \n",
       "3        16        8          20          101.987500  \n",
       "4        18        9          20           48.781111  "
      ]
     },
     "execution_count": 4,
     "metadata": {},
     "output_type": "execute_result"
    }
   ],
   "source": [
    "import pandas as pd\n",
    "\n",
    "def extract_week_number(week_of_year):\n",
    "    try:\n",
    "        return week_of_year.split('-W')[1]\n",
    "    except IndexError:\n",
    "        return None  \n",
    "\n",
    "df_large_Clean['flightWeek'] = df_large_Clean['flightWeek'].apply(extract_week_number)\n",
    "df_large_Clean['weekOfYear'] = df_large_Clean['weekOfYear'].apply(extract_week_number)\n",
    "\n",
    "df_large_Clean['flightWeek'] = pd.to_numeric(df_large_Clean['flightWeek'], errors='coerce')\n",
    "df_large_Clean['weekOfYear'] = pd.to_numeric(df_large_Clean['weekOfYear'], errors='coerce')\n",
    "\n",
    "df_large_Clean.head()\n"
   ]
  },
  {
   "cell_type": "code",
   "execution_count": 5,
   "metadata": {},
   "outputs": [
    {
     "data": {
      "text/plain": [
       "flightWeek              int64\n",
       "OriginAirport          object\n",
       "DestinationAirport     object\n",
       "isConnectingFlight      int64\n",
       "isEWRoute               int64\n",
       "cabinClass             object\n",
       "kind                   object\n",
       "TripLengthNights      float64\n",
       "TravelHorizonDays       int64\n",
       "RedirectsCount          int64\n",
       "Segments                int64\n",
       "TripPax                 int64\n",
       "weekOfYear              int64\n",
       "Average_FlightFare    float64\n",
       "dtype: object"
      ]
     },
     "execution_count": 5,
     "metadata": {},
     "output_type": "execute_result"
    }
   ],
   "source": [
    "df_large_Clean.dtypes"
   ]
  },
  {
   "cell_type": "code",
   "execution_count": 6,
   "metadata": {},
   "outputs": [
    {
     "data": {
      "text/html": [
       "<div>\n",
       "<style scoped>\n",
       "    .dataframe tbody tr th:only-of-type {\n",
       "        vertical-align: middle;\n",
       "    }\n",
       "\n",
       "    .dataframe tbody tr th {\n",
       "        vertical-align: top;\n",
       "    }\n",
       "\n",
       "    .dataframe thead th {\n",
       "        text-align: right;\n",
       "    }\n",
       "</style>\n",
       "<table border=\"1\" class=\"dataframe\">\n",
       "  <thead>\n",
       "    <tr style=\"text-align: right;\">\n",
       "      <th></th>\n",
       "      <th>flightWeek</th>\n",
       "      <th>isConnectingFlight</th>\n",
       "      <th>isEWRoute</th>\n",
       "      <th>cabinClass</th>\n",
       "      <th>kind</th>\n",
       "      <th>TripLengthNights</th>\n",
       "      <th>TravelHorizonDays</th>\n",
       "      <th>RedirectsCount</th>\n",
       "      <th>Segments</th>\n",
       "      <th>TripPax</th>\n",
       "      <th>weekOfYear</th>\n",
       "      <th>Average_FlightFare</th>\n",
       "      <th>route</th>\n",
       "    </tr>\n",
       "  </thead>\n",
       "  <tbody>\n",
       "    <tr>\n",
       "      <th>0</th>\n",
       "      <td>30</td>\n",
       "      <td>0</td>\n",
       "      <td>0</td>\n",
       "      <td>ECONOMY</td>\n",
       "      <td>RETURN</td>\n",
       "      <td>35.0</td>\n",
       "      <td>69</td>\n",
       "      <td>2</td>\n",
       "      <td>4</td>\n",
       "      <td>2</td>\n",
       "      <td>20</td>\n",
       "      <td>614.762500</td>\n",
       "      <td>CDG-CKY</td>\n",
       "    </tr>\n",
       "    <tr>\n",
       "      <th>1</th>\n",
       "      <td>20</td>\n",
       "      <td>0</td>\n",
       "      <td>0</td>\n",
       "      <td>ECONOMY</td>\n",
       "      <td>RETURN</td>\n",
       "      <td>2.0</td>\n",
       "      <td>3</td>\n",
       "      <td>2</td>\n",
       "      <td>6</td>\n",
       "      <td>3</td>\n",
       "      <td>20</td>\n",
       "      <td>146.803333</td>\n",
       "      <td>LTN-BCN</td>\n",
       "    </tr>\n",
       "    <tr>\n",
       "      <th>2</th>\n",
       "      <td>26</td>\n",
       "      <td>0</td>\n",
       "      <td>0</td>\n",
       "      <td>ECONOMY</td>\n",
       "      <td>RETURN</td>\n",
       "      <td>14.0</td>\n",
       "      <td>41</td>\n",
       "      <td>3</td>\n",
       "      <td>6</td>\n",
       "      <td>3</td>\n",
       "      <td>20</td>\n",
       "      <td>40.815000</td>\n",
       "      <td>RJK-CRL</td>\n",
       "    </tr>\n",
       "    <tr>\n",
       "      <th>3</th>\n",
       "      <td>23</td>\n",
       "      <td>0</td>\n",
       "      <td>0</td>\n",
       "      <td>ECONOMY</td>\n",
       "      <td>RETURN</td>\n",
       "      <td>4.0</td>\n",
       "      <td>26</td>\n",
       "      <td>3</td>\n",
       "      <td>16</td>\n",
       "      <td>8</td>\n",
       "      <td>20</td>\n",
       "      <td>101.987500</td>\n",
       "      <td>BFS-PMI</td>\n",
       "    </tr>\n",
       "    <tr>\n",
       "      <th>4</th>\n",
       "      <td>31</td>\n",
       "      <td>0</td>\n",
       "      <td>1</td>\n",
       "      <td>ECONOMY</td>\n",
       "      <td>RETURN</td>\n",
       "      <td>3.0</td>\n",
       "      <td>74</td>\n",
       "      <td>4</td>\n",
       "      <td>18</td>\n",
       "      <td>9</td>\n",
       "      <td>20</td>\n",
       "      <td>48.781111</td>\n",
       "      <td>MXP-PRG</td>\n",
       "    </tr>\n",
       "  </tbody>\n",
       "</table>\n",
       "</div>"
      ],
      "text/plain": [
       "   flightWeek  isConnectingFlight  isEWRoute cabinClass    kind  \\\n",
       "0          30                   0          0    ECONOMY  RETURN   \n",
       "1          20                   0          0    ECONOMY  RETURN   \n",
       "2          26                   0          0    ECONOMY  RETURN   \n",
       "3          23                   0          0    ECONOMY  RETURN   \n",
       "4          31                   0          1    ECONOMY  RETURN   \n",
       "\n",
       "   TripLengthNights  TravelHorizonDays  RedirectsCount  Segments  TripPax  \\\n",
       "0              35.0                 69               2         4        2   \n",
       "1               2.0                  3               2         6        3   \n",
       "2              14.0                 41               3         6        3   \n",
       "3               4.0                 26               3        16        8   \n",
       "4               3.0                 74               4        18        9   \n",
       "\n",
       "   weekOfYear  Average_FlightFare    route  \n",
       "0          20          614.762500  CDG-CKY  \n",
       "1          20          146.803333  LTN-BCN  \n",
       "2          20           40.815000  RJK-CRL  \n",
       "3          20          101.987500  BFS-PMI  \n",
       "4          20           48.781111  MXP-PRG  "
      ]
     },
     "execution_count": 6,
     "metadata": {},
     "output_type": "execute_result"
    }
   ],
   "source": [
    "df_large_Clean['route'] =  df_large_Clean['OriginAirport'] + '-' + df_large_Clean['DestinationAirport']\n",
    "df_large_Clean = df_large_Clean.drop(columns=['OriginAirport','DestinationAirport'])\n",
    "\n",
    "df_large_Clean.head()"
   ]
  },
  {
   "cell_type": "code",
   "execution_count": 7,
   "metadata": {},
   "outputs": [],
   "source": [
    "from sklearn.preprocessing import OrdinalEncoder\n",
    "\n",
    "classes_order = ['ECONOMY', 'PREMIUMECONOMY', 'BUSINESS', 'FIRST']\n",
    "\n",
    "encoder = OrdinalEncoder(categories=[classes_order])\n",
    "df_large_Clean['cabinClass'] = encoder.fit_transform(df_large_Clean[['cabinClass']])\n",
    "\n"
   ]
  },
  {
   "cell_type": "code",
   "execution_count": 8,
   "metadata": {},
   "outputs": [],
   "source": [
    "from sklearn.preprocessing import LabelEncoder\n",
    "le = LabelEncoder()\n",
    "df_large_Clean['kind'] = le.fit_transform(df_large_Clean['kind'])"
   ]
  },
  {
   "cell_type": "code",
   "execution_count": 9,
   "metadata": {},
   "outputs": [
    {
     "data": {
      "text/html": [
       "<div>\n",
       "<style scoped>\n",
       "    .dataframe tbody tr th:only-of-type {\n",
       "        vertical-align: middle;\n",
       "    }\n",
       "\n",
       "    .dataframe tbody tr th {\n",
       "        vertical-align: top;\n",
       "    }\n",
       "\n",
       "    .dataframe thead th {\n",
       "        text-align: right;\n",
       "    }\n",
       "</style>\n",
       "<table border=\"1\" class=\"dataframe\">\n",
       "  <thead>\n",
       "    <tr style=\"text-align: right;\">\n",
       "      <th></th>\n",
       "      <th>flightWeek</th>\n",
       "      <th>isConnectingFlight</th>\n",
       "      <th>isEWRoute</th>\n",
       "      <th>cabinClass</th>\n",
       "      <th>kind</th>\n",
       "      <th>TripLengthNights</th>\n",
       "      <th>TravelHorizonDays</th>\n",
       "      <th>RedirectsCount</th>\n",
       "      <th>Segments</th>\n",
       "      <th>TripPax</th>\n",
       "      <th>weekOfYear</th>\n",
       "      <th>Average_FlightFare</th>\n",
       "    </tr>\n",
       "  </thead>\n",
       "  <tbody>\n",
       "    <tr>\n",
       "      <th>count</th>\n",
       "      <td>9.523294e+06</td>\n",
       "      <td>9.523294e+06</td>\n",
       "      <td>9.523294e+06</td>\n",
       "      <td>9.523294e+06</td>\n",
       "      <td>9.523294e+06</td>\n",
       "      <td>5.690604e+06</td>\n",
       "      <td>9.523294e+06</td>\n",
       "      <td>9.523294e+06</td>\n",
       "      <td>9.523294e+06</td>\n",
       "      <td>9.523294e+06</td>\n",
       "      <td>9.523294e+06</td>\n",
       "      <td>9.523294e+06</td>\n",
       "    </tr>\n",
       "    <tr>\n",
       "      <th>mean</th>\n",
       "      <td>2.695532e+01</td>\n",
       "      <td>2.007104e-01</td>\n",
       "      <td>7.665793e-02</td>\n",
       "      <td>8.240216e-03</td>\n",
       "      <td>1.578189e+00</td>\n",
       "      <td>8.941391e+00</td>\n",
       "      <td>6.166249e+01</td>\n",
       "      <td>1.618627e+00</td>\n",
       "      <td>4.730377e+00</td>\n",
       "      <td>2.898365e+00</td>\n",
       "      <td>1.900192e+01</td>\n",
       "      <td>1.497804e+02</td>\n",
       "    </tr>\n",
       "    <tr>\n",
       "      <th>std</th>\n",
       "      <td>7.520706e+00</td>\n",
       "      <td>4.005318e-01</td>\n",
       "      <td>2.660479e-01</td>\n",
       "      <td>1.273774e-01</td>\n",
       "      <td>5.316018e-01</td>\n",
       "      <td>1.216811e+01</td>\n",
       "      <td>5.738375e+01</td>\n",
       "      <td>1.718376e+00</td>\n",
       "      <td>7.053484e+00</td>\n",
       "      <td>3.976461e+00</td>\n",
       "      <td>8.228771e-01</td>\n",
       "      <td>1.445769e+02</td>\n",
       "    </tr>\n",
       "    <tr>\n",
       "      <th>min</th>\n",
       "      <td>1.000000e+00</td>\n",
       "      <td>0.000000e+00</td>\n",
       "      <td>0.000000e+00</td>\n",
       "      <td>0.000000e+00</td>\n",
       "      <td>0.000000e+00</td>\n",
       "      <td>0.000000e+00</td>\n",
       "      <td>0.000000e+00</td>\n",
       "      <td>1.000000e+00</td>\n",
       "      <td>1.000000e+00</td>\n",
       "      <td>1.000000e+00</td>\n",
       "      <td>1.800000e+01</td>\n",
       "      <td>1.040000e+00</td>\n",
       "    </tr>\n",
       "    <tr>\n",
       "      <th>25%</th>\n",
       "      <td>2.100000e+01</td>\n",
       "      <td>0.000000e+00</td>\n",
       "      <td>0.000000e+00</td>\n",
       "      <td>0.000000e+00</td>\n",
       "      <td>1.000000e+00</td>\n",
       "      <td>4.000000e+00</td>\n",
       "      <td>1.800000e+01</td>\n",
       "      <td>1.000000e+00</td>\n",
       "      <td>2.000000e+00</td>\n",
       "      <td>1.000000e+00</td>\n",
       "      <td>1.800000e+01</td>\n",
       "      <td>6.919000e+01</td>\n",
       "    </tr>\n",
       "    <tr>\n",
       "      <th>50%</th>\n",
       "      <td>2.500000e+01</td>\n",
       "      <td>0.000000e+00</td>\n",
       "      <td>0.000000e+00</td>\n",
       "      <td>0.000000e+00</td>\n",
       "      <td>2.000000e+00</td>\n",
       "      <td>6.000000e+00</td>\n",
       "      <td>4.600000e+01</td>\n",
       "      <td>1.000000e+00</td>\n",
       "      <td>2.000000e+00</td>\n",
       "      <td>2.000000e+00</td>\n",
       "      <td>1.900000e+01</td>\n",
       "      <td>1.174975e+02</td>\n",
       "    </tr>\n",
       "    <tr>\n",
       "      <th>75%</th>\n",
       "      <td>3.100000e+01</td>\n",
       "      <td>0.000000e+00</td>\n",
       "      <td>0.000000e+00</td>\n",
       "      <td>0.000000e+00</td>\n",
       "      <td>2.000000e+00</td>\n",
       "      <td>9.000000e+00</td>\n",
       "      <td>8.900000e+01</td>\n",
       "      <td>2.000000e+00</td>\n",
       "      <td>6.000000e+00</td>\n",
       "      <td>3.000000e+00</td>\n",
       "      <td>2.000000e+01</td>\n",
       "      <td>1.901600e+02</td>\n",
       "    </tr>\n",
       "    <tr>\n",
       "      <th>max</th>\n",
       "      <td>5.200000e+01</td>\n",
       "      <td>1.000000e+00</td>\n",
       "      <td>1.000000e+00</td>\n",
       "      <td>3.000000e+00</td>\n",
       "      <td>2.000000e+00</td>\n",
       "      <td>3.640000e+02</td>\n",
       "      <td>3.810000e+02</td>\n",
       "      <td>4.400000e+02</td>\n",
       "      <td>1.274000e+03</td>\n",
       "      <td>6.370000e+02</td>\n",
       "      <td>2.000000e+01</td>\n",
       "      <td>1.881954e+04</td>\n",
       "    </tr>\n",
       "  </tbody>\n",
       "</table>\n",
       "</div>"
      ],
      "text/plain": [
       "         flightWeek  isConnectingFlight     isEWRoute    cabinClass  \\\n",
       "count  9.523294e+06        9.523294e+06  9.523294e+06  9.523294e+06   \n",
       "mean   2.695532e+01        2.007104e-01  7.665793e-02  8.240216e-03   \n",
       "std    7.520706e+00        4.005318e-01  2.660479e-01  1.273774e-01   \n",
       "min    1.000000e+00        0.000000e+00  0.000000e+00  0.000000e+00   \n",
       "25%    2.100000e+01        0.000000e+00  0.000000e+00  0.000000e+00   \n",
       "50%    2.500000e+01        0.000000e+00  0.000000e+00  0.000000e+00   \n",
       "75%    3.100000e+01        0.000000e+00  0.000000e+00  0.000000e+00   \n",
       "max    5.200000e+01        1.000000e+00  1.000000e+00  3.000000e+00   \n",
       "\n",
       "               kind  TripLengthNights  TravelHorizonDays  RedirectsCount  \\\n",
       "count  9.523294e+06      5.690604e+06       9.523294e+06    9.523294e+06   \n",
       "mean   1.578189e+00      8.941391e+00       6.166249e+01    1.618627e+00   \n",
       "std    5.316018e-01      1.216811e+01       5.738375e+01    1.718376e+00   \n",
       "min    0.000000e+00      0.000000e+00       0.000000e+00    1.000000e+00   \n",
       "25%    1.000000e+00      4.000000e+00       1.800000e+01    1.000000e+00   \n",
       "50%    2.000000e+00      6.000000e+00       4.600000e+01    1.000000e+00   \n",
       "75%    2.000000e+00      9.000000e+00       8.900000e+01    2.000000e+00   \n",
       "max    2.000000e+00      3.640000e+02       3.810000e+02    4.400000e+02   \n",
       "\n",
       "           Segments       TripPax    weekOfYear  Average_FlightFare  \n",
       "count  9.523294e+06  9.523294e+06  9.523294e+06        9.523294e+06  \n",
       "mean   4.730377e+00  2.898365e+00  1.900192e+01        1.497804e+02  \n",
       "std    7.053484e+00  3.976461e+00  8.228771e-01        1.445769e+02  \n",
       "min    1.000000e+00  1.000000e+00  1.800000e+01        1.040000e+00  \n",
       "25%    2.000000e+00  1.000000e+00  1.800000e+01        6.919000e+01  \n",
       "50%    2.000000e+00  2.000000e+00  1.900000e+01        1.174975e+02  \n",
       "75%    6.000000e+00  3.000000e+00  2.000000e+01        1.901600e+02  \n",
       "max    1.274000e+03  6.370000e+02  2.000000e+01        1.881954e+04  "
      ]
     },
     "execution_count": 9,
     "metadata": {},
     "output_type": "execute_result"
    }
   ],
   "source": [
    "df_large_Clean.describe()"
   ]
  },
  {
   "cell_type": "code",
   "execution_count": 10,
   "metadata": {},
   "outputs": [],
   "source": [
    "median_value = df_large_Clean['TripLengthNights'].median()\n",
    "\n",
    "df_large_Clean['TripLengthNights'].fillna(median_value, inplace=True)"
   ]
  },
  {
   "cell_type": "code",
   "execution_count": 11,
   "metadata": {},
   "outputs": [
    {
     "data": {
      "text/plain": [
       "flightWeek            0\n",
       "isConnectingFlight    0\n",
       "isEWRoute             0\n",
       "cabinClass            0\n",
       "kind                  0\n",
       "TripLengthNights      0\n",
       "TravelHorizonDays     0\n",
       "RedirectsCount        0\n",
       "Segments              0\n",
       "TripPax               0\n",
       "weekOfYear            0\n",
       "Average_FlightFare    0\n",
       "route                 0\n",
       "dtype: int64"
      ]
     },
     "execution_count": 11,
     "metadata": {},
     "output_type": "execute_result"
    }
   ],
   "source": [
    "df_large_Clean.isnull().sum()"
   ]
  },
  {
   "cell_type": "code",
   "execution_count": 12,
   "metadata": {},
   "outputs": [
    {
     "data": {
      "text/html": [
       "<div>\n",
       "<style scoped>\n",
       "    .dataframe tbody tr th:only-of-type {\n",
       "        vertical-align: middle;\n",
       "    }\n",
       "\n",
       "    .dataframe tbody tr th {\n",
       "        vertical-align: top;\n",
       "    }\n",
       "\n",
       "    .dataframe thead th {\n",
       "        text-align: right;\n",
       "    }\n",
       "</style>\n",
       "<table border=\"1\" class=\"dataframe\">\n",
       "  <thead>\n",
       "    <tr style=\"text-align: right;\">\n",
       "      <th></th>\n",
       "      <th>flightWeek</th>\n",
       "      <th>isConnectingFlight</th>\n",
       "      <th>isEWRoute</th>\n",
       "      <th>cabinClass</th>\n",
       "      <th>kind</th>\n",
       "      <th>TripLengthNights</th>\n",
       "      <th>TravelHorizonDays</th>\n",
       "      <th>RedirectsCount</th>\n",
       "      <th>Segments</th>\n",
       "      <th>TripPax</th>\n",
       "      <th>weekOfYear</th>\n",
       "      <th>Average_FlightFare</th>\n",
       "      <th>route</th>\n",
       "    </tr>\n",
       "  </thead>\n",
       "  <tbody>\n",
       "    <tr>\n",
       "      <th>0</th>\n",
       "      <td>30</td>\n",
       "      <td>0</td>\n",
       "      <td>0</td>\n",
       "      <td>0.0</td>\n",
       "      <td>2</td>\n",
       "      <td>35.0</td>\n",
       "      <td>69</td>\n",
       "      <td>2</td>\n",
       "      <td>4</td>\n",
       "      <td>2</td>\n",
       "      <td>20</td>\n",
       "      <td>614.762500</td>\n",
       "      <td>CDG-CKY</td>\n",
       "    </tr>\n",
       "    <tr>\n",
       "      <th>1</th>\n",
       "      <td>20</td>\n",
       "      <td>0</td>\n",
       "      <td>0</td>\n",
       "      <td>0.0</td>\n",
       "      <td>2</td>\n",
       "      <td>2.0</td>\n",
       "      <td>3</td>\n",
       "      <td>2</td>\n",
       "      <td>6</td>\n",
       "      <td>3</td>\n",
       "      <td>20</td>\n",
       "      <td>146.803333</td>\n",
       "      <td>LTN-BCN</td>\n",
       "    </tr>\n",
       "    <tr>\n",
       "      <th>2</th>\n",
       "      <td>26</td>\n",
       "      <td>0</td>\n",
       "      <td>0</td>\n",
       "      <td>0.0</td>\n",
       "      <td>2</td>\n",
       "      <td>14.0</td>\n",
       "      <td>41</td>\n",
       "      <td>3</td>\n",
       "      <td>6</td>\n",
       "      <td>3</td>\n",
       "      <td>20</td>\n",
       "      <td>40.815000</td>\n",
       "      <td>RJK-CRL</td>\n",
       "    </tr>\n",
       "    <tr>\n",
       "      <th>3</th>\n",
       "      <td>23</td>\n",
       "      <td>0</td>\n",
       "      <td>0</td>\n",
       "      <td>0.0</td>\n",
       "      <td>2</td>\n",
       "      <td>4.0</td>\n",
       "      <td>26</td>\n",
       "      <td>3</td>\n",
       "      <td>16</td>\n",
       "      <td>8</td>\n",
       "      <td>20</td>\n",
       "      <td>101.987500</td>\n",
       "      <td>BFS-PMI</td>\n",
       "    </tr>\n",
       "    <tr>\n",
       "      <th>4</th>\n",
       "      <td>31</td>\n",
       "      <td>0</td>\n",
       "      <td>1</td>\n",
       "      <td>0.0</td>\n",
       "      <td>2</td>\n",
       "      <td>3.0</td>\n",
       "      <td>74</td>\n",
       "      <td>4</td>\n",
       "      <td>18</td>\n",
       "      <td>9</td>\n",
       "      <td>20</td>\n",
       "      <td>48.781111</td>\n",
       "      <td>MXP-PRG</td>\n",
       "    </tr>\n",
       "  </tbody>\n",
       "</table>\n",
       "</div>"
      ],
      "text/plain": [
       "   flightWeek  isConnectingFlight  isEWRoute  cabinClass  kind  \\\n",
       "0          30                   0          0         0.0     2   \n",
       "1          20                   0          0         0.0     2   \n",
       "2          26                   0          0         0.0     2   \n",
       "3          23                   0          0         0.0     2   \n",
       "4          31                   0          1         0.0     2   \n",
       "\n",
       "   TripLengthNights  TravelHorizonDays  RedirectsCount  Segments  TripPax  \\\n",
       "0              35.0                 69               2         4        2   \n",
       "1               2.0                  3               2         6        3   \n",
       "2              14.0                 41               3         6        3   \n",
       "3               4.0                 26               3        16        8   \n",
       "4               3.0                 74               4        18        9   \n",
       "\n",
       "   weekOfYear  Average_FlightFare    route  \n",
       "0          20          614.762500  CDG-CKY  \n",
       "1          20          146.803333  LTN-BCN  \n",
       "2          20           40.815000  RJK-CRL  \n",
       "3          20          101.987500  BFS-PMI  \n",
       "4          20           48.781111  MXP-PRG  "
      ]
     },
     "execution_count": 12,
     "metadata": {},
     "output_type": "execute_result"
    }
   ],
   "source": [
    "df_large_Clean.head()"
   ]
  },
  {
   "cell_type": "code",
   "execution_count": 13,
   "metadata": {},
   "outputs": [
    {
     "data": {
      "text/plain": [
       "(9523294, 13)"
      ]
     },
     "execution_count": 13,
     "metadata": {},
     "output_type": "execute_result"
    }
   ],
   "source": [
    "df_large_Clean.shape"
   ]
  },
  {
   "cell_type": "code",
   "execution_count": 14,
   "metadata": {},
   "outputs": [
    {
     "data": {
      "text/html": [
       "<div>\n",
       "<style scoped>\n",
       "    .dataframe tbody tr th:only-of-type {\n",
       "        vertical-align: middle;\n",
       "    }\n",
       "\n",
       "    .dataframe tbody tr th {\n",
       "        vertical-align: top;\n",
       "    }\n",
       "\n",
       "    .dataframe thead th {\n",
       "        text-align: right;\n",
       "    }\n",
       "</style>\n",
       "<table border=\"1\" class=\"dataframe\">\n",
       "  <thead>\n",
       "    <tr style=\"text-align: right;\">\n",
       "      <th></th>\n",
       "      <th>flightWeek</th>\n",
       "      <th>isConnectingFlight</th>\n",
       "      <th>isEWRoute</th>\n",
       "      <th>cabinClass</th>\n",
       "      <th>kind</th>\n",
       "      <th>TripLengthNights</th>\n",
       "      <th>TravelHorizonDays</th>\n",
       "      <th>RedirectsCount</th>\n",
       "      <th>Segments</th>\n",
       "      <th>TripPax</th>\n",
       "      <th>weekOfYear</th>\n",
       "      <th>Average_FlightFare</th>\n",
       "      <th>route</th>\n",
       "    </tr>\n",
       "  </thead>\n",
       "  <tbody>\n",
       "    <tr>\n",
       "      <th>4</th>\n",
       "      <td>31</td>\n",
       "      <td>0</td>\n",
       "      <td>1</td>\n",
       "      <td>0.0</td>\n",
       "      <td>2</td>\n",
       "      <td>3.0</td>\n",
       "      <td>74</td>\n",
       "      <td>4</td>\n",
       "      <td>18</td>\n",
       "      <td>9</td>\n",
       "      <td>20</td>\n",
       "      <td>48.781111</td>\n",
       "      <td>MXP-PRG</td>\n",
       "    </tr>\n",
       "    <tr>\n",
       "      <th>6</th>\n",
       "      <td>22</td>\n",
       "      <td>0</td>\n",
       "      <td>1</td>\n",
       "      <td>0.0</td>\n",
       "      <td>2</td>\n",
       "      <td>4.0</td>\n",
       "      <td>17</td>\n",
       "      <td>6</td>\n",
       "      <td>24</td>\n",
       "      <td>12</td>\n",
       "      <td>20</td>\n",
       "      <td>125.546250</td>\n",
       "      <td>BER-HRG</td>\n",
       "    </tr>\n",
       "    <tr>\n",
       "      <th>10</th>\n",
       "      <td>37</td>\n",
       "      <td>0</td>\n",
       "      <td>1</td>\n",
       "      <td>0.0</td>\n",
       "      <td>1</td>\n",
       "      <td>6.0</td>\n",
       "      <td>118</td>\n",
       "      <td>1</td>\n",
       "      <td>1</td>\n",
       "      <td>1</td>\n",
       "      <td>20</td>\n",
       "      <td>43.450000</td>\n",
       "      <td>BER-CPH</td>\n",
       "    </tr>\n",
       "    <tr>\n",
       "      <th>24</th>\n",
       "      <td>39</td>\n",
       "      <td>0</td>\n",
       "      <td>1</td>\n",
       "      <td>0.0</td>\n",
       "      <td>2</td>\n",
       "      <td>10.0</td>\n",
       "      <td>130</td>\n",
       "      <td>1</td>\n",
       "      <td>16</td>\n",
       "      <td>8</td>\n",
       "      <td>20</td>\n",
       "      <td>130.555000</td>\n",
       "      <td>PRG-ATH</td>\n",
       "    </tr>\n",
       "    <tr>\n",
       "      <th>26</th>\n",
       "      <td>24</td>\n",
       "      <td>0</td>\n",
       "      <td>1</td>\n",
       "      <td>0.0</td>\n",
       "      <td>1</td>\n",
       "      <td>6.0</td>\n",
       "      <td>32</td>\n",
       "      <td>3</td>\n",
       "      <td>3</td>\n",
       "      <td>3</td>\n",
       "      <td>20</td>\n",
       "      <td>203.333333</td>\n",
       "      <td>BCN-HAM</td>\n",
       "    </tr>\n",
       "  </tbody>\n",
       "</table>\n",
       "</div>"
      ],
      "text/plain": [
       "    flightWeek  isConnectingFlight  isEWRoute  cabinClass  kind  \\\n",
       "4           31                   0          1         0.0     2   \n",
       "6           22                   0          1         0.0     2   \n",
       "10          37                   0          1         0.0     1   \n",
       "24          39                   0          1         0.0     2   \n",
       "26          24                   0          1         0.0     1   \n",
       "\n",
       "    TripLengthNights  TravelHorizonDays  RedirectsCount  Segments  TripPax  \\\n",
       "4                3.0                 74               4        18        9   \n",
       "6                4.0                 17               6        24       12   \n",
       "10               6.0                118               1         1        1   \n",
       "24              10.0                130               1        16        8   \n",
       "26               6.0                 32               3         3        3   \n",
       "\n",
       "    weekOfYear  Average_FlightFare    route  \n",
       "4           20           48.781111  MXP-PRG  \n",
       "6           20          125.546250  BER-HRG  \n",
       "10          20           43.450000  BER-CPH  \n",
       "24          20          130.555000  PRG-ATH  \n",
       "26          20          203.333333  BCN-HAM  "
      ]
     },
     "execution_count": 14,
     "metadata": {},
     "output_type": "execute_result"
    }
   ],
   "source": [
    "df_Case2 = df_large_Clean[df_large_Clean['isEWRoute'] != 0]\n",
    "df_Case2.head()"
   ]
  },
  {
   "cell_type": "code",
   "execution_count": 15,
   "metadata": {},
   "outputs": [
    {
     "data": {
      "text/plain": [
       "(730036, 13)"
      ]
     },
     "execution_count": 15,
     "metadata": {},
     "output_type": "execute_result"
    }
   ],
   "source": [
    "df_Case2.shape"
   ]
  },
  {
   "cell_type": "code",
   "execution_count": 16,
   "metadata": {},
   "outputs": [
    {
     "data": {
      "text/html": [
       "<div>\n",
       "<style scoped>\n",
       "    .dataframe tbody tr th:only-of-type {\n",
       "        vertical-align: middle;\n",
       "    }\n",
       "\n",
       "    .dataframe tbody tr th {\n",
       "        vertical-align: top;\n",
       "    }\n",
       "\n",
       "    .dataframe thead th {\n",
       "        text-align: right;\n",
       "    }\n",
       "</style>\n",
       "<table border=\"1\" class=\"dataframe\">\n",
       "  <thead>\n",
       "    <tr style=\"text-align: right;\">\n",
       "      <th></th>\n",
       "      <th>flightWeek</th>\n",
       "      <th>isConnectingFlight</th>\n",
       "      <th>cabinClass</th>\n",
       "      <th>kind</th>\n",
       "      <th>TripLengthNights</th>\n",
       "      <th>TravelHorizonDays</th>\n",
       "      <th>RedirectsCount</th>\n",
       "      <th>Segments</th>\n",
       "      <th>TripPax</th>\n",
       "      <th>weekOfYear</th>\n",
       "      <th>Average_FlightFare</th>\n",
       "      <th>route</th>\n",
       "    </tr>\n",
       "  </thead>\n",
       "  <tbody>\n",
       "    <tr>\n",
       "      <th>4</th>\n",
       "      <td>31</td>\n",
       "      <td>0</td>\n",
       "      <td>0.0</td>\n",
       "      <td>2</td>\n",
       "      <td>3.0</td>\n",
       "      <td>74</td>\n",
       "      <td>4</td>\n",
       "      <td>18</td>\n",
       "      <td>9</td>\n",
       "      <td>20</td>\n",
       "      <td>48.781111</td>\n",
       "      <td>MXP-PRG</td>\n",
       "    </tr>\n",
       "    <tr>\n",
       "      <th>6</th>\n",
       "      <td>22</td>\n",
       "      <td>0</td>\n",
       "      <td>0.0</td>\n",
       "      <td>2</td>\n",
       "      <td>4.0</td>\n",
       "      <td>17</td>\n",
       "      <td>6</td>\n",
       "      <td>24</td>\n",
       "      <td>12</td>\n",
       "      <td>20</td>\n",
       "      <td>125.546250</td>\n",
       "      <td>BER-HRG</td>\n",
       "    </tr>\n",
       "    <tr>\n",
       "      <th>10</th>\n",
       "      <td>37</td>\n",
       "      <td>0</td>\n",
       "      <td>0.0</td>\n",
       "      <td>1</td>\n",
       "      <td>6.0</td>\n",
       "      <td>118</td>\n",
       "      <td>1</td>\n",
       "      <td>1</td>\n",
       "      <td>1</td>\n",
       "      <td>20</td>\n",
       "      <td>43.450000</td>\n",
       "      <td>BER-CPH</td>\n",
       "    </tr>\n",
       "    <tr>\n",
       "      <th>24</th>\n",
       "      <td>39</td>\n",
       "      <td>0</td>\n",
       "      <td>0.0</td>\n",
       "      <td>2</td>\n",
       "      <td>10.0</td>\n",
       "      <td>130</td>\n",
       "      <td>1</td>\n",
       "      <td>16</td>\n",
       "      <td>8</td>\n",
       "      <td>20</td>\n",
       "      <td>130.555000</td>\n",
       "      <td>PRG-ATH</td>\n",
       "    </tr>\n",
       "    <tr>\n",
       "      <th>26</th>\n",
       "      <td>24</td>\n",
       "      <td>0</td>\n",
       "      <td>0.0</td>\n",
       "      <td>1</td>\n",
       "      <td>6.0</td>\n",
       "      <td>32</td>\n",
       "      <td>3</td>\n",
       "      <td>3</td>\n",
       "      <td>3</td>\n",
       "      <td>20</td>\n",
       "      <td>203.333333</td>\n",
       "      <td>BCN-HAM</td>\n",
       "    </tr>\n",
       "  </tbody>\n",
       "</table>\n",
       "</div>"
      ],
      "text/plain": [
       "    flightWeek  isConnectingFlight  cabinClass  kind  TripLengthNights  \\\n",
       "4           31                   0         0.0     2               3.0   \n",
       "6           22                   0         0.0     2               4.0   \n",
       "10          37                   0         0.0     1               6.0   \n",
       "24          39                   0         0.0     2              10.0   \n",
       "26          24                   0         0.0     1               6.0   \n",
       "\n",
       "    TravelHorizonDays  RedirectsCount  Segments  TripPax  weekOfYear  \\\n",
       "4                  74               4        18        9          20   \n",
       "6                  17               6        24       12          20   \n",
       "10                118               1         1        1          20   \n",
       "24                130               1        16        8          20   \n",
       "26                 32               3         3        3          20   \n",
       "\n",
       "    Average_FlightFare    route  \n",
       "4            48.781111  MXP-PRG  \n",
       "6           125.546250  BER-HRG  \n",
       "10           43.450000  BER-CPH  \n",
       "24          130.555000  PRG-ATH  \n",
       "26          203.333333  BCN-HAM  "
      ]
     },
     "execution_count": 16,
     "metadata": {},
     "output_type": "execute_result"
    }
   ],
   "source": [
    "df_Case2=df_Case2.drop(columns=['isEWRoute'])\n",
    "df_Case2.head()"
   ]
  },
  {
   "cell_type": "code",
   "execution_count": 17,
   "metadata": {},
   "outputs": [
    {
     "data": {
      "text/plain": [
       "(730036, 12)"
      ]
     },
     "execution_count": 17,
     "metadata": {},
     "output_type": "execute_result"
    }
   ],
   "source": [
    "df_Case2.shape"
   ]
  },
  {
   "cell_type": "code",
   "execution_count": 18,
   "metadata": {},
   "outputs": [],
   "source": [
    "df_Case2=df_Case2.groupby(['route','cabinClass','kind','flightWeek','weekOfYear','isConnectingFlight'],as_index=False).mean()"
   ]
  },
  {
   "cell_type": "code",
   "execution_count": 19,
   "metadata": {},
   "outputs": [
    {
     "data": {
      "text/html": [
       "<div>\n",
       "<style scoped>\n",
       "    .dataframe tbody tr th:only-of-type {\n",
       "        vertical-align: middle;\n",
       "    }\n",
       "\n",
       "    .dataframe tbody tr th {\n",
       "        vertical-align: top;\n",
       "    }\n",
       "\n",
       "    .dataframe thead th {\n",
       "        text-align: right;\n",
       "    }\n",
       "</style>\n",
       "<table border=\"1\" class=\"dataframe\">\n",
       "  <thead>\n",
       "    <tr style=\"text-align: right;\">\n",
       "      <th></th>\n",
       "      <th>route</th>\n",
       "      <th>cabinClass</th>\n",
       "      <th>kind</th>\n",
       "      <th>flightWeek</th>\n",
       "      <th>weekOfYear</th>\n",
       "      <th>isConnectingFlight</th>\n",
       "      <th>TripLengthNights</th>\n",
       "      <th>TravelHorizonDays</th>\n",
       "      <th>RedirectsCount</th>\n",
       "      <th>Segments</th>\n",
       "      <th>TripPax</th>\n",
       "      <th>Average_FlightFare</th>\n",
       "    </tr>\n",
       "  </thead>\n",
       "  <tbody>\n",
       "    <tr>\n",
       "      <th>0</th>\n",
       "      <td>ACE-BER</td>\n",
       "      <td>0.0</td>\n",
       "      <td>0</td>\n",
       "      <td>34</td>\n",
       "      <td>20</td>\n",
       "      <td>1</td>\n",
       "      <td>6.0</td>\n",
       "      <td>100.0</td>\n",
       "      <td>1.0</td>\n",
       "      <td>1.0</td>\n",
       "      <td>1.0</td>\n",
       "      <td>298.730</td>\n",
       "    </tr>\n",
       "    <tr>\n",
       "      <th>1</th>\n",
       "      <td>ACE-BER</td>\n",
       "      <td>0.0</td>\n",
       "      <td>1</td>\n",
       "      <td>1</td>\n",
       "      <td>19</td>\n",
       "      <td>0</td>\n",
       "      <td>6.0</td>\n",
       "      <td>239.0</td>\n",
       "      <td>2.0</td>\n",
       "      <td>2.0</td>\n",
       "      <td>2.0</td>\n",
       "      <td>190.810</td>\n",
       "    </tr>\n",
       "    <tr>\n",
       "      <th>2</th>\n",
       "      <td>ACE-BER</td>\n",
       "      <td>0.0</td>\n",
       "      <td>1</td>\n",
       "      <td>1</td>\n",
       "      <td>20</td>\n",
       "      <td>0</td>\n",
       "      <td>6.0</td>\n",
       "      <td>230.0</td>\n",
       "      <td>2.0</td>\n",
       "      <td>2.0</td>\n",
       "      <td>2.0</td>\n",
       "      <td>168.810</td>\n",
       "    </tr>\n",
       "    <tr>\n",
       "      <th>3</th>\n",
       "      <td>ACE-BER</td>\n",
       "      <td>0.0</td>\n",
       "      <td>1</td>\n",
       "      <td>4</td>\n",
       "      <td>19</td>\n",
       "      <td>0</td>\n",
       "      <td>6.0</td>\n",
       "      <td>261.0</td>\n",
       "      <td>1.0</td>\n",
       "      <td>2.0</td>\n",
       "      <td>2.0</td>\n",
       "      <td>83.865</td>\n",
       "    </tr>\n",
       "    <tr>\n",
       "      <th>4</th>\n",
       "      <td>ACE-BER</td>\n",
       "      <td>0.0</td>\n",
       "      <td>1</td>\n",
       "      <td>6</td>\n",
       "      <td>20</td>\n",
       "      <td>0</td>\n",
       "      <td>6.0</td>\n",
       "      <td>265.0</td>\n",
       "      <td>1.0</td>\n",
       "      <td>1.0</td>\n",
       "      <td>1.0</td>\n",
       "      <td>189.170</td>\n",
       "    </tr>\n",
       "    <tr>\n",
       "      <th>...</th>\n",
       "      <td>...</td>\n",
       "      <td>...</td>\n",
       "      <td>...</td>\n",
       "      <td>...</td>\n",
       "      <td>...</td>\n",
       "      <td>...</td>\n",
       "      <td>...</td>\n",
       "      <td>...</td>\n",
       "      <td>...</td>\n",
       "      <td>...</td>\n",
       "      <td>...</td>\n",
       "      <td>...</td>\n",
       "    </tr>\n",
       "    <tr>\n",
       "      <th>138369</th>\n",
       "      <td>ZTH-STR</td>\n",
       "      <td>0.0</td>\n",
       "      <td>2</td>\n",
       "      <td>20</td>\n",
       "      <td>18</td>\n",
       "      <td>0</td>\n",
       "      <td>14.0</td>\n",
       "      <td>15.0</td>\n",
       "      <td>1.0</td>\n",
       "      <td>2.0</td>\n",
       "      <td>1.0</td>\n",
       "      <td>137.275</td>\n",
       "    </tr>\n",
       "    <tr>\n",
       "      <th>138370</th>\n",
       "      <td>ZTH-STR</td>\n",
       "      <td>0.0</td>\n",
       "      <td>2</td>\n",
       "      <td>23</td>\n",
       "      <td>20</td>\n",
       "      <td>1</td>\n",
       "      <td>4.0</td>\n",
       "      <td>26.0</td>\n",
       "      <td>1.0</td>\n",
       "      <td>2.0</td>\n",
       "      <td>1.0</td>\n",
       "      <td>99.390</td>\n",
       "    </tr>\n",
       "    <tr>\n",
       "      <th>138371</th>\n",
       "      <td>ZTH-STR</td>\n",
       "      <td>0.0</td>\n",
       "      <td>2</td>\n",
       "      <td>25</td>\n",
       "      <td>20</td>\n",
       "      <td>0</td>\n",
       "      <td>14.0</td>\n",
       "      <td>36.0</td>\n",
       "      <td>1.0</td>\n",
       "      <td>2.0</td>\n",
       "      <td>1.0</td>\n",
       "      <td>119.625</td>\n",
       "    </tr>\n",
       "    <tr>\n",
       "      <th>138372</th>\n",
       "      <td>ZTH-SZG</td>\n",
       "      <td>0.0</td>\n",
       "      <td>1</td>\n",
       "      <td>21</td>\n",
       "      <td>20</td>\n",
       "      <td>0</td>\n",
       "      <td>6.0</td>\n",
       "      <td>6.0</td>\n",
       "      <td>1.0</td>\n",
       "      <td>1.0</td>\n",
       "      <td>1.0</td>\n",
       "      <td>87.000</td>\n",
       "    </tr>\n",
       "    <tr>\n",
       "      <th>138373</th>\n",
       "      <td>ZTH-SZG</td>\n",
       "      <td>0.0</td>\n",
       "      <td>1</td>\n",
       "      <td>39</td>\n",
       "      <td>20</td>\n",
       "      <td>0</td>\n",
       "      <td>6.0</td>\n",
       "      <td>134.0</td>\n",
       "      <td>1.0</td>\n",
       "      <td>1.0</td>\n",
       "      <td>1.0</td>\n",
       "      <td>145.470</td>\n",
       "    </tr>\n",
       "  </tbody>\n",
       "</table>\n",
       "<p>138374 rows × 12 columns</p>\n",
       "</div>"
      ],
      "text/plain": [
       "          route  cabinClass  kind  flightWeek  weekOfYear  isConnectingFlight  \\\n",
       "0       ACE-BER         0.0     0          34          20                   1   \n",
       "1       ACE-BER         0.0     1           1          19                   0   \n",
       "2       ACE-BER         0.0     1           1          20                   0   \n",
       "3       ACE-BER         0.0     1           4          19                   0   \n",
       "4       ACE-BER         0.0     1           6          20                   0   \n",
       "...         ...         ...   ...         ...         ...                 ...   \n",
       "138369  ZTH-STR         0.0     2          20          18                   0   \n",
       "138370  ZTH-STR         0.0     2          23          20                   1   \n",
       "138371  ZTH-STR         0.0     2          25          20                   0   \n",
       "138372  ZTH-SZG         0.0     1          21          20                   0   \n",
       "138373  ZTH-SZG         0.0     1          39          20                   0   \n",
       "\n",
       "        TripLengthNights  TravelHorizonDays  RedirectsCount  Segments  \\\n",
       "0                    6.0              100.0             1.0       1.0   \n",
       "1                    6.0              239.0             2.0       2.0   \n",
       "2                    6.0              230.0             2.0       2.0   \n",
       "3                    6.0              261.0             1.0       2.0   \n",
       "4                    6.0              265.0             1.0       1.0   \n",
       "...                  ...                ...             ...       ...   \n",
       "138369              14.0               15.0             1.0       2.0   \n",
       "138370               4.0               26.0             1.0       2.0   \n",
       "138371              14.0               36.0             1.0       2.0   \n",
       "138372               6.0                6.0             1.0       1.0   \n",
       "138373               6.0              134.0             1.0       1.0   \n",
       "\n",
       "        TripPax  Average_FlightFare  \n",
       "0           1.0             298.730  \n",
       "1           2.0             190.810  \n",
       "2           2.0             168.810  \n",
       "3           2.0              83.865  \n",
       "4           1.0             189.170  \n",
       "...         ...                 ...  \n",
       "138369      1.0             137.275  \n",
       "138370      1.0              99.390  \n",
       "138371      1.0             119.625  \n",
       "138372      1.0              87.000  \n",
       "138373      1.0             145.470  \n",
       "\n",
       "[138374 rows x 12 columns]"
      ]
     },
     "execution_count": 19,
     "metadata": {},
     "output_type": "execute_result"
    }
   ],
   "source": [
    "df_Case2 \n"
   ]
  },
  {
   "cell_type": "code",
   "execution_count": 20,
   "metadata": {},
   "outputs": [
    {
     "data": {
      "text/plain": [
       "route                 0\n",
       "cabinClass            0\n",
       "kind                  0\n",
       "flightWeek            0\n",
       "weekOfYear            0\n",
       "isConnectingFlight    0\n",
       "TripLengthNights      0\n",
       "TravelHorizonDays     0\n",
       "RedirectsCount        0\n",
       "Segments              0\n",
       "TripPax               0\n",
       "Average_FlightFare    0\n",
       "dtype: int64"
      ]
     },
     "execution_count": 20,
     "metadata": {},
     "output_type": "execute_result"
    }
   ],
   "source": [
    "df_Case2.isnull().sum()"
   ]
  },
  {
   "cell_type": "code",
   "execution_count": 21,
   "metadata": {},
   "outputs": [
    {
     "data": {
      "text/plain": [
       "218"
      ]
     },
     "execution_count": 21,
     "metadata": {},
     "output_type": "execute_result"
    }
   ],
   "source": [
    "\n",
    "unique_origins = df_Case2['route'].unique()\n",
    "train_Index =unique_origins[:round(len(unique_origins)*0.8)] \n",
    "test_Index =unique_origins[round(len(unique_origins)*0.8):] \n",
    "\n",
    "len(unique_origins)\n",
    "(len(train_Index))\n",
    "len(test_Index)"
   ]
  },
  {
   "cell_type": "code",
   "execution_count": 22,
   "metadata": {},
   "outputs": [
    {
     "data": {
      "text/html": [
       "<style type=\"text/css\">\n",
       "#T_f3714_row8_col1, #T_f3714_row12_col1 {\n",
       "  background-color: lightgreen;\n",
       "}\n",
       "</style>\n",
       "<table id=\"T_f3714\">\n",
       "  <thead>\n",
       "    <tr>\n",
       "      <th class=\"blank level0\" >&nbsp;</th>\n",
       "      <th id=\"T_f3714_level0_col0\" class=\"col_heading level0 col0\" >Description</th>\n",
       "      <th id=\"T_f3714_level0_col1\" class=\"col_heading level0 col1\" >Value</th>\n",
       "    </tr>\n",
       "  </thead>\n",
       "  <tbody>\n",
       "    <tr>\n",
       "      <th id=\"T_f3714_level0_row0\" class=\"row_heading level0 row0\" >0</th>\n",
       "      <td id=\"T_f3714_row0_col0\" class=\"data row0 col0\" >Session id</td>\n",
       "      <td id=\"T_f3714_row0_col1\" class=\"data row0 col1\" >42</td>\n",
       "    </tr>\n",
       "    <tr>\n",
       "      <th id=\"T_f3714_level0_row1\" class=\"row_heading level0 row1\" >1</th>\n",
       "      <td id=\"T_f3714_row1_col0\" class=\"data row1 col0\" >Target</td>\n",
       "      <td id=\"T_f3714_row1_col1\" class=\"data row1 col1\" >RedirectsCount</td>\n",
       "    </tr>\n",
       "    <tr>\n",
       "      <th id=\"T_f3714_level0_row2\" class=\"row_heading level0 row2\" >2</th>\n",
       "      <td id=\"T_f3714_row2_col0\" class=\"data row2 col0\" >Target type</td>\n",
       "      <td id=\"T_f3714_row2_col1\" class=\"data row2 col1\" >Regression</td>\n",
       "    </tr>\n",
       "    <tr>\n",
       "      <th id=\"T_f3714_level0_row3\" class=\"row_heading level0 row3\" >3</th>\n",
       "      <td id=\"T_f3714_row3_col0\" class=\"data row3 col0\" >Original data shape</td>\n",
       "      <td id=\"T_f3714_row3_col1\" class=\"data row3 col1\" >(113732, 11)</td>\n",
       "    </tr>\n",
       "    <tr>\n",
       "      <th id=\"T_f3714_level0_row4\" class=\"row_heading level0 row4\" >4</th>\n",
       "      <td id=\"T_f3714_row4_col0\" class=\"data row4 col0\" >Transformed data shape</td>\n",
       "      <td id=\"T_f3714_row4_col1\" class=\"data row4 col1\" >(113732, 11)</td>\n",
       "    </tr>\n",
       "    <tr>\n",
       "      <th id=\"T_f3714_level0_row5\" class=\"row_heading level0 row5\" >5</th>\n",
       "      <td id=\"T_f3714_row5_col0\" class=\"data row5 col0\" >Transformed train set shape</td>\n",
       "      <td id=\"T_f3714_row5_col1\" class=\"data row5 col1\" >(79612, 11)</td>\n",
       "    </tr>\n",
       "    <tr>\n",
       "      <th id=\"T_f3714_level0_row6\" class=\"row_heading level0 row6\" >6</th>\n",
       "      <td id=\"T_f3714_row6_col0\" class=\"data row6 col0\" >Transformed test set shape</td>\n",
       "      <td id=\"T_f3714_row6_col1\" class=\"data row6 col1\" >(34120, 11)</td>\n",
       "    </tr>\n",
       "    <tr>\n",
       "      <th id=\"T_f3714_level0_row7\" class=\"row_heading level0 row7\" >7</th>\n",
       "      <td id=\"T_f3714_row7_col0\" class=\"data row7 col0\" >Numeric features</td>\n",
       "      <td id=\"T_f3714_row7_col1\" class=\"data row7 col1\" >10</td>\n",
       "    </tr>\n",
       "    <tr>\n",
       "      <th id=\"T_f3714_level0_row8\" class=\"row_heading level0 row8\" >8</th>\n",
       "      <td id=\"T_f3714_row8_col0\" class=\"data row8 col0\" >Preprocess</td>\n",
       "      <td id=\"T_f3714_row8_col1\" class=\"data row8 col1\" >True</td>\n",
       "    </tr>\n",
       "    <tr>\n",
       "      <th id=\"T_f3714_level0_row9\" class=\"row_heading level0 row9\" >9</th>\n",
       "      <td id=\"T_f3714_row9_col0\" class=\"data row9 col0\" >Imputation type</td>\n",
       "      <td id=\"T_f3714_row9_col1\" class=\"data row9 col1\" >simple</td>\n",
       "    </tr>\n",
       "    <tr>\n",
       "      <th id=\"T_f3714_level0_row10\" class=\"row_heading level0 row10\" >10</th>\n",
       "      <td id=\"T_f3714_row10_col0\" class=\"data row10 col0\" >Numeric imputation</td>\n",
       "      <td id=\"T_f3714_row10_col1\" class=\"data row10 col1\" >mean</td>\n",
       "    </tr>\n",
       "    <tr>\n",
       "      <th id=\"T_f3714_level0_row11\" class=\"row_heading level0 row11\" >11</th>\n",
       "      <td id=\"T_f3714_row11_col0\" class=\"data row11 col0\" >Categorical imputation</td>\n",
       "      <td id=\"T_f3714_row11_col1\" class=\"data row11 col1\" >mode</td>\n",
       "    </tr>\n",
       "    <tr>\n",
       "      <th id=\"T_f3714_level0_row12\" class=\"row_heading level0 row12\" >12</th>\n",
       "      <td id=\"T_f3714_row12_col0\" class=\"data row12 col0\" >Remove multicollinearity</td>\n",
       "      <td id=\"T_f3714_row12_col1\" class=\"data row12 col1\" >True</td>\n",
       "    </tr>\n",
       "    <tr>\n",
       "      <th id=\"T_f3714_level0_row13\" class=\"row_heading level0 row13\" >13</th>\n",
       "      <td id=\"T_f3714_row13_col0\" class=\"data row13 col0\" >Multicollinearity threshold</td>\n",
       "      <td id=\"T_f3714_row13_col1\" class=\"data row13 col1\" >0.950000</td>\n",
       "    </tr>\n",
       "    <tr>\n",
       "      <th id=\"T_f3714_level0_row14\" class=\"row_heading level0 row14\" >14</th>\n",
       "      <td id=\"T_f3714_row14_col0\" class=\"data row14 col0\" >Fold Generator</td>\n",
       "      <td id=\"T_f3714_row14_col1\" class=\"data row14 col1\" >KFold</td>\n",
       "    </tr>\n",
       "    <tr>\n",
       "      <th id=\"T_f3714_level0_row15\" class=\"row_heading level0 row15\" >15</th>\n",
       "      <td id=\"T_f3714_row15_col0\" class=\"data row15 col0\" >Fold Number</td>\n",
       "      <td id=\"T_f3714_row15_col1\" class=\"data row15 col1\" >10</td>\n",
       "    </tr>\n",
       "    <tr>\n",
       "      <th id=\"T_f3714_level0_row16\" class=\"row_heading level0 row16\" >16</th>\n",
       "      <td id=\"T_f3714_row16_col0\" class=\"data row16 col0\" >CPU Jobs</td>\n",
       "      <td id=\"T_f3714_row16_col1\" class=\"data row16 col1\" >-1</td>\n",
       "    </tr>\n",
       "    <tr>\n",
       "      <th id=\"T_f3714_level0_row17\" class=\"row_heading level0 row17\" >17</th>\n",
       "      <td id=\"T_f3714_row17_col0\" class=\"data row17 col0\" >Use GPU</td>\n",
       "      <td id=\"T_f3714_row17_col1\" class=\"data row17 col1\" >False</td>\n",
       "    </tr>\n",
       "    <tr>\n",
       "      <th id=\"T_f3714_level0_row18\" class=\"row_heading level0 row18\" >18</th>\n",
       "      <td id=\"T_f3714_row18_col0\" class=\"data row18 col0\" >Log Experiment</td>\n",
       "      <td id=\"T_f3714_row18_col1\" class=\"data row18 col1\" >False</td>\n",
       "    </tr>\n",
       "    <tr>\n",
       "      <th id=\"T_f3714_level0_row19\" class=\"row_heading level0 row19\" >19</th>\n",
       "      <td id=\"T_f3714_row19_col0\" class=\"data row19 col0\" >Experiment Name</td>\n",
       "      <td id=\"T_f3714_row19_col1\" class=\"data row19 col1\" >reg-default-name</td>\n",
       "    </tr>\n",
       "    <tr>\n",
       "      <th id=\"T_f3714_level0_row20\" class=\"row_heading level0 row20\" >20</th>\n",
       "      <td id=\"T_f3714_row20_col0\" class=\"data row20 col0\" >USI</td>\n",
       "      <td id=\"T_f3714_row20_col1\" class=\"data row20 col1\" >cb5f</td>\n",
       "    </tr>\n",
       "  </tbody>\n",
       "</table>\n"
      ],
      "text/plain": [
       "<pandas.io.formats.style.Styler at 0x18c49475f90>"
      ]
     },
     "metadata": {},
     "output_type": "display_data"
    },
    {
     "data": {
      "text/html": [],
      "text/plain": [
       "<IPython.core.display.HTML object>"
      ]
     },
     "metadata": {},
     "output_type": "display_data"
    },
    {
     "data": {
      "text/html": [
       "<style type=\"text/css\">\n",
       "#T_66fe5 th {\n",
       "  text-align: left;\n",
       "}\n",
       "#T_66fe5_row0_col0, #T_66fe5_row1_col0, #T_66fe5_row1_col1, #T_66fe5_row1_col2, #T_66fe5_row1_col3, #T_66fe5_row1_col4, #T_66fe5_row1_col5, #T_66fe5_row1_col6, #T_66fe5_row2_col0, #T_66fe5_row2_col1, #T_66fe5_row2_col2, #T_66fe5_row2_col3, #T_66fe5_row2_col4, #T_66fe5_row2_col5, #T_66fe5_row2_col6, #T_66fe5_row3_col0, #T_66fe5_row3_col1, #T_66fe5_row3_col2, #T_66fe5_row3_col3, #T_66fe5_row3_col4, #T_66fe5_row3_col5, #T_66fe5_row3_col6 {\n",
       "  text-align: left;\n",
       "}\n",
       "#T_66fe5_row0_col1, #T_66fe5_row0_col2, #T_66fe5_row0_col3, #T_66fe5_row0_col4, #T_66fe5_row0_col5, #T_66fe5_row0_col6 {\n",
       "  text-align: left;\n",
       "  background-color: yellow;\n",
       "}\n",
       "#T_66fe5_row0_col7, #T_66fe5_row2_col7, #T_66fe5_row3_col7 {\n",
       "  text-align: left;\n",
       "  background-color: lightgrey;\n",
       "}\n",
       "#T_66fe5_row1_col7 {\n",
       "  text-align: left;\n",
       "  background-color: yellow;\n",
       "  background-color: lightgrey;\n",
       "}\n",
       "</style>\n",
       "<table id=\"T_66fe5\">\n",
       "  <thead>\n",
       "    <tr>\n",
       "      <th class=\"blank level0\" >&nbsp;</th>\n",
       "      <th id=\"T_66fe5_level0_col0\" class=\"col_heading level0 col0\" >Model</th>\n",
       "      <th id=\"T_66fe5_level0_col1\" class=\"col_heading level0 col1\" >MAE</th>\n",
       "      <th id=\"T_66fe5_level0_col2\" class=\"col_heading level0 col2\" >MSE</th>\n",
       "      <th id=\"T_66fe5_level0_col3\" class=\"col_heading level0 col3\" >RMSE</th>\n",
       "      <th id=\"T_66fe5_level0_col4\" class=\"col_heading level0 col4\" >R2</th>\n",
       "      <th id=\"T_66fe5_level0_col5\" class=\"col_heading level0 col5\" >RMSLE</th>\n",
       "      <th id=\"T_66fe5_level0_col6\" class=\"col_heading level0 col6\" >MAPE</th>\n",
       "      <th id=\"T_66fe5_level0_col7\" class=\"col_heading level0 col7\" >TT (Sec)</th>\n",
       "    </tr>\n",
       "  </thead>\n",
       "  <tbody>\n",
       "    <tr>\n",
       "      <th id=\"T_66fe5_level0_row0\" class=\"row_heading level0 row0\" >xgboost</th>\n",
       "      <td id=\"T_66fe5_row0_col0\" class=\"data row0 col0\" >Extreme Gradient Boosting</td>\n",
       "      <td id=\"T_66fe5_row0_col1\" class=\"data row0 col1\" >0.2905</td>\n",
       "      <td id=\"T_66fe5_row0_col2\" class=\"data row0 col2\" >0.2776</td>\n",
       "      <td id=\"T_66fe5_row0_col3\" class=\"data row0 col3\" >0.5266</td>\n",
       "      <td id=\"T_66fe5_row0_col4\" class=\"data row0 col4\" >0.5160</td>\n",
       "      <td id=\"T_66fe5_row0_col5\" class=\"data row0 col5\" >0.1575</td>\n",
       "      <td id=\"T_66fe5_row0_col6\" class=\"data row0 col6\" >0.1832</td>\n",
       "      <td id=\"T_66fe5_row0_col7\" class=\"data row0 col7\" >0.3430</td>\n",
       "    </tr>\n",
       "    <tr>\n",
       "      <th id=\"T_66fe5_level0_row1\" class=\"row_heading level0 row1\" >lr</th>\n",
       "      <td id=\"T_66fe5_row1_col0\" class=\"data row1 col0\" >Linear Regression</td>\n",
       "      <td id=\"T_66fe5_row1_col1\" class=\"data row1 col1\" >0.3276</td>\n",
       "      <td id=\"T_66fe5_row1_col2\" class=\"data row1 col2\" >0.2922</td>\n",
       "      <td id=\"T_66fe5_row1_col3\" class=\"data row1 col3\" >0.5403</td>\n",
       "      <td id=\"T_66fe5_row1_col4\" class=\"data row1 col4\" >0.4902</td>\n",
       "      <td id=\"T_66fe5_row1_col5\" class=\"data row1 col5\" >0.1658</td>\n",
       "      <td id=\"T_66fe5_row1_col6\" class=\"data row1 col6\" >0.2156</td>\n",
       "      <td id=\"T_66fe5_row1_col7\" class=\"data row1 col7\" >0.0470</td>\n",
       "    </tr>\n",
       "    <tr>\n",
       "      <th id=\"T_66fe5_level0_row2\" class=\"row_heading level0 row2\" >ridge</th>\n",
       "      <td id=\"T_66fe5_row2_col0\" class=\"data row2 col0\" >Ridge Regression</td>\n",
       "      <td id=\"T_66fe5_row2_col1\" class=\"data row2 col1\" >0.3276</td>\n",
       "      <td id=\"T_66fe5_row2_col2\" class=\"data row2 col2\" >0.2922</td>\n",
       "      <td id=\"T_66fe5_row2_col3\" class=\"data row2 col3\" >0.5403</td>\n",
       "      <td id=\"T_66fe5_row2_col4\" class=\"data row2 col4\" >0.4902</td>\n",
       "      <td id=\"T_66fe5_row2_col5\" class=\"data row2 col5\" >0.1658</td>\n",
       "      <td id=\"T_66fe5_row2_col6\" class=\"data row2 col6\" >0.2156</td>\n",
       "      <td id=\"T_66fe5_row2_col7\" class=\"data row2 col7\" >0.0490</td>\n",
       "    </tr>\n",
       "    <tr>\n",
       "      <th id=\"T_66fe5_level0_row3\" class=\"row_heading level0 row3\" >dt</th>\n",
       "      <td id=\"T_66fe5_row3_col0\" class=\"data row3 col0\" >Decision Tree Regressor</td>\n",
       "      <td id=\"T_66fe5_row3_col1\" class=\"data row3 col1\" >0.3683</td>\n",
       "      <td id=\"T_66fe5_row3_col2\" class=\"data row3 col2\" >0.5357</td>\n",
       "      <td id=\"T_66fe5_row3_col3\" class=\"data row3 col3\" >0.7319</td>\n",
       "      <td id=\"T_66fe5_row3_col4\" class=\"data row3 col4\" >0.0642</td>\n",
       "      <td id=\"T_66fe5_row3_col5\" class=\"data row3 col5\" >0.2188</td>\n",
       "      <td id=\"T_66fe5_row3_col6\" class=\"data row3 col6\" >0.2259</td>\n",
       "      <td id=\"T_66fe5_row3_col7\" class=\"data row3 col7\" >1.4940</td>\n",
       "    </tr>\n",
       "  </tbody>\n",
       "</table>\n"
      ],
      "text/plain": [
       "<pandas.io.formats.style.Styler at 0x18c4a90c810>"
      ]
     },
     "metadata": {},
     "output_type": "display_data"
    },
    {
     "data": {
      "text/html": [],
      "text/plain": [
       "<IPython.core.display.HTML object>"
      ]
     },
     "metadata": {},
     "output_type": "display_data"
    },
    {
     "data": {
      "text/html": [
       "<style type=\"text/css\">\n",
       "</style>\n",
       "<table id=\"T_0c915\">\n",
       "  <thead>\n",
       "    <tr>\n",
       "      <th class=\"blank level0\" >&nbsp;</th>\n",
       "      <th id=\"T_0c915_level0_col0\" class=\"col_heading level0 col0\" >Model</th>\n",
       "      <th id=\"T_0c915_level0_col1\" class=\"col_heading level0 col1\" >MAE</th>\n",
       "      <th id=\"T_0c915_level0_col2\" class=\"col_heading level0 col2\" >MSE</th>\n",
       "      <th id=\"T_0c915_level0_col3\" class=\"col_heading level0 col3\" >RMSE</th>\n",
       "      <th id=\"T_0c915_level0_col4\" class=\"col_heading level0 col4\" >R2</th>\n",
       "      <th id=\"T_0c915_level0_col5\" class=\"col_heading level0 col5\" >RMSLE</th>\n",
       "      <th id=\"T_0c915_level0_col6\" class=\"col_heading level0 col6\" >MAPE</th>\n",
       "    </tr>\n",
       "  </thead>\n",
       "  <tbody>\n",
       "    <tr>\n",
       "      <th id=\"T_0c915_level0_row0\" class=\"row_heading level0 row0\" >0</th>\n",
       "      <td id=\"T_0c915_row0_col0\" class=\"data row0 col0\" >Extreme Gradient Boosting</td>\n",
       "      <td id=\"T_0c915_row0_col1\" class=\"data row0 col1\" >0.2996</td>\n",
       "      <td id=\"T_0c915_row0_col2\" class=\"data row0 col2\" >0.3012</td>\n",
       "      <td id=\"T_0c915_row0_col3\" class=\"data row0 col3\" >0.5489</td>\n",
       "      <td id=\"T_0c915_row0_col4\" class=\"data row0 col4\" >0.5485</td>\n",
       "      <td id=\"T_0c915_row0_col5\" class=\"data row0 col5\" >0.1605</td>\n",
       "      <td id=\"T_0c915_row0_col6\" class=\"data row0 col6\" >0.1820</td>\n",
       "    </tr>\n",
       "  </tbody>\n",
       "</table>\n"
      ],
      "text/plain": [
       "<pandas.io.formats.style.Styler at 0x18c4ab6bf10>"
      ]
     },
     "metadata": {},
     "output_type": "display_data"
    },
    {
     "data": {
      "text/html": [
       "<div>\n",
       "<style scoped>\n",
       "    .dataframe tbody tr th:only-of-type {\n",
       "        vertical-align: middle;\n",
       "    }\n",
       "\n",
       "    .dataframe tbody tr th {\n",
       "        vertical-align: top;\n",
       "    }\n",
       "\n",
       "    .dataframe thead th {\n",
       "        text-align: right;\n",
       "    }\n",
       "</style>\n",
       "<table border=\"1\" class=\"dataframe\">\n",
       "  <thead>\n",
       "    <tr style=\"text-align: right;\">\n",
       "      <th></th>\n",
       "      <th>cabinClass</th>\n",
       "      <th>kind</th>\n",
       "      <th>isConnectingFlight</th>\n",
       "      <th>TripLengthNights</th>\n",
       "      <th>TravelHorizonDays</th>\n",
       "      <th>Average_FlightFare</th>\n",
       "      <th>Segments</th>\n",
       "      <th>TripPax</th>\n",
       "      <th>flightWeek</th>\n",
       "      <th>weekOfYear</th>\n",
       "      <th>RedirectsCount</th>\n",
       "      <th>prediction_label</th>\n",
       "    </tr>\n",
       "  </thead>\n",
       "  <tbody>\n",
       "    <tr>\n",
       "      <th>113732</th>\n",
       "      <td>0.0</td>\n",
       "      <td>0</td>\n",
       "      <td>1</td>\n",
       "      <td>6.0</td>\n",
       "      <td>95.000000</td>\n",
       "      <td>263.850006</td>\n",
       "      <td>2.000000</td>\n",
       "      <td>2.000000</td>\n",
       "      <td>34</td>\n",
       "      <td>20</td>\n",
       "      <td>2.000000</td>\n",
       "      <td>1.312741</td>\n",
       "    </tr>\n",
       "    <tr>\n",
       "      <th>113733</th>\n",
       "      <td>0.0</td>\n",
       "      <td>1</td>\n",
       "      <td>0</td>\n",
       "      <td>6.0</td>\n",
       "      <td>0.000000</td>\n",
       "      <td>229.610001</td>\n",
       "      <td>3.000000</td>\n",
       "      <td>3.000000</td>\n",
       "      <td>18</td>\n",
       "      <td>18</td>\n",
       "      <td>3.000000</td>\n",
       "      <td>2.265828</td>\n",
       "    </tr>\n",
       "    <tr>\n",
       "      <th>113734</th>\n",
       "      <td>0.0</td>\n",
       "      <td>1</td>\n",
       "      <td>1</td>\n",
       "      <td>6.0</td>\n",
       "      <td>0.000000</td>\n",
       "      <td>314.109985</td>\n",
       "      <td>1.000000</td>\n",
       "      <td>1.000000</td>\n",
       "      <td>18</td>\n",
       "      <td>18</td>\n",
       "      <td>1.000000</td>\n",
       "      <td>0.977413</td>\n",
       "    </tr>\n",
       "    <tr>\n",
       "      <th>113735</th>\n",
       "      <td>0.0</td>\n",
       "      <td>1</td>\n",
       "      <td>0</td>\n",
       "      <td>6.0</td>\n",
       "      <td>6.222222</td>\n",
       "      <td>103.427887</td>\n",
       "      <td>2.111111</td>\n",
       "      <td>2.111111</td>\n",
       "      <td>19</td>\n",
       "      <td>18</td>\n",
       "      <td>2.111111</td>\n",
       "      <td>1.741249</td>\n",
       "    </tr>\n",
       "    <tr>\n",
       "      <th>113736</th>\n",
       "      <td>0.0</td>\n",
       "      <td>1</td>\n",
       "      <td>1</td>\n",
       "      <td>6.0</td>\n",
       "      <td>6.000000</td>\n",
       "      <td>287.130005</td>\n",
       "      <td>1.000000</td>\n",
       "      <td>1.000000</td>\n",
       "      <td>19</td>\n",
       "      <td>18</td>\n",
       "      <td>1.000000</td>\n",
       "      <td>0.994429</td>\n",
       "    </tr>\n",
       "    <tr>\n",
       "      <th>...</th>\n",
       "      <td>...</td>\n",
       "      <td>...</td>\n",
       "      <td>...</td>\n",
       "      <td>...</td>\n",
       "      <td>...</td>\n",
       "      <td>...</td>\n",
       "      <td>...</td>\n",
       "      <td>...</td>\n",
       "      <td>...</td>\n",
       "      <td>...</td>\n",
       "      <td>...</td>\n",
       "      <td>...</td>\n",
       "    </tr>\n",
       "    <tr>\n",
       "      <th>138369</th>\n",
       "      <td>0.0</td>\n",
       "      <td>2</td>\n",
       "      <td>0</td>\n",
       "      <td>14.0</td>\n",
       "      <td>15.000000</td>\n",
       "      <td>137.274994</td>\n",
       "      <td>2.000000</td>\n",
       "      <td>1.000000</td>\n",
       "      <td>20</td>\n",
       "      <td>18</td>\n",
       "      <td>1.000000</td>\n",
       "      <td>0.989295</td>\n",
       "    </tr>\n",
       "    <tr>\n",
       "      <th>138370</th>\n",
       "      <td>0.0</td>\n",
       "      <td>2</td>\n",
       "      <td>1</td>\n",
       "      <td>4.0</td>\n",
       "      <td>26.000000</td>\n",
       "      <td>99.389999</td>\n",
       "      <td>2.000000</td>\n",
       "      <td>1.000000</td>\n",
       "      <td>23</td>\n",
       "      <td>20</td>\n",
       "      <td>1.000000</td>\n",
       "      <td>0.987083</td>\n",
       "    </tr>\n",
       "    <tr>\n",
       "      <th>138371</th>\n",
       "      <td>0.0</td>\n",
       "      <td>2</td>\n",
       "      <td>0</td>\n",
       "      <td>14.0</td>\n",
       "      <td>36.000000</td>\n",
       "      <td>119.625000</td>\n",
       "      <td>2.000000</td>\n",
       "      <td>1.000000</td>\n",
       "      <td>25</td>\n",
       "      <td>20</td>\n",
       "      <td>1.000000</td>\n",
       "      <td>0.999546</td>\n",
       "    </tr>\n",
       "    <tr>\n",
       "      <th>138372</th>\n",
       "      <td>0.0</td>\n",
       "      <td>1</td>\n",
       "      <td>0</td>\n",
       "      <td>6.0</td>\n",
       "      <td>6.000000</td>\n",
       "      <td>87.000000</td>\n",
       "      <td>1.000000</td>\n",
       "      <td>1.000000</td>\n",
       "      <td>21</td>\n",
       "      <td>20</td>\n",
       "      <td>1.000000</td>\n",
       "      <td>1.018724</td>\n",
       "    </tr>\n",
       "    <tr>\n",
       "      <th>138373</th>\n",
       "      <td>0.0</td>\n",
       "      <td>1</td>\n",
       "      <td>0</td>\n",
       "      <td>6.0</td>\n",
       "      <td>134.000000</td>\n",
       "      <td>145.470001</td>\n",
       "      <td>1.000000</td>\n",
       "      <td>1.000000</td>\n",
       "      <td>39</td>\n",
       "      <td>20</td>\n",
       "      <td>1.000000</td>\n",
       "      <td>0.995234</td>\n",
       "    </tr>\n",
       "  </tbody>\n",
       "</table>\n",
       "<p>24642 rows × 12 columns</p>\n",
       "</div>"
      ],
      "text/plain": [
       "        cabinClass  kind  isConnectingFlight  TripLengthNights  \\\n",
       "113732         0.0     0                   1               6.0   \n",
       "113733         0.0     1                   0               6.0   \n",
       "113734         0.0     1                   1               6.0   \n",
       "113735         0.0     1                   0               6.0   \n",
       "113736         0.0     1                   1               6.0   \n",
       "...            ...   ...                 ...               ...   \n",
       "138369         0.0     2                   0              14.0   \n",
       "138370         0.0     2                   1               4.0   \n",
       "138371         0.0     2                   0              14.0   \n",
       "138372         0.0     1                   0               6.0   \n",
       "138373         0.0     1                   0               6.0   \n",
       "\n",
       "        TravelHorizonDays  Average_FlightFare  Segments   TripPax  flightWeek  \\\n",
       "113732          95.000000          263.850006  2.000000  2.000000          34   \n",
       "113733           0.000000          229.610001  3.000000  3.000000          18   \n",
       "113734           0.000000          314.109985  1.000000  1.000000          18   \n",
       "113735           6.222222          103.427887  2.111111  2.111111          19   \n",
       "113736           6.000000          287.130005  1.000000  1.000000          19   \n",
       "...                   ...                 ...       ...       ...         ...   \n",
       "138369          15.000000          137.274994  2.000000  1.000000          20   \n",
       "138370          26.000000           99.389999  2.000000  1.000000          23   \n",
       "138371          36.000000          119.625000  2.000000  1.000000          25   \n",
       "138372           6.000000           87.000000  1.000000  1.000000          21   \n",
       "138373         134.000000          145.470001  1.000000  1.000000          39   \n",
       "\n",
       "        weekOfYear  RedirectsCount  prediction_label  \n",
       "113732          20        2.000000          1.312741  \n",
       "113733          18        3.000000          2.265828  \n",
       "113734          18        1.000000          0.977413  \n",
       "113735          18        2.111111          1.741249  \n",
       "113736          18        1.000000          0.994429  \n",
       "...            ...             ...               ...  \n",
       "138369          18        1.000000          0.989295  \n",
       "138370          20        1.000000          0.987083  \n",
       "138371          20        1.000000          0.999546  \n",
       "138372          20        1.000000          1.018724  \n",
       "138373          20        1.000000          0.995234  \n",
       "\n",
       "[24642 rows x 12 columns]"
      ]
     },
     "execution_count": 22,
     "metadata": {},
     "output_type": "execute_result"
    }
   ],
   "source": [
    "import pandas as pd\n",
    "from pycaret.regression import *\n",
    "\n",
    "unique_origins = df_Case2['route'].unique()\n",
    "train_Index = unique_origins[:round(len(unique_origins) * 0.8)]\n",
    "test_Index = unique_origins[round(len(unique_origins) * 0.8):]\n",
    "\n",
    "df_train = df_Case2[df_Case2.route.isin(train_Index)]\n",
    "df_test = df_Case2[df_Case2.route.isin(test_Index)]\n",
    "\n",
    "\n",
    "features = ['cabinClass','kind','isConnectingFlight',\n",
    "            'TripLengthNights', 'TravelHorizonDays', \n",
    "           'Average_FlightFare' ,\n",
    "           'Segments', 'TripPax','flightWeek',\n",
    "           'weekOfYear']\n",
    "target = 'RedirectsCount'\n",
    "\n",
    "\n",
    "reg_setup = setup(data=df_train[features + [target]], target=target,session_id=42,log_experiment=False, \n",
    "                  log_plots=False,remove_multicollinearity=True,multicollinearity_threshold=0.95)\n",
    "\n",
    "models_to_include =  ['dt',  'lr',  'ridge','xgboost']\n",
    "\n",
    "best_model = compare_models(include=models_to_include)\n",
    "final_model = finalize_model(best_model)\n",
    "\n",
    "predictions = predict_model(final_model, data=df_test[features + [target]])\n",
    "\n",
    "predictions"
   ]
  },
  {
   "cell_type": "code",
   "execution_count": 23,
   "metadata": {},
   "outputs": [
    {
     "data": {
      "image/png": "[encoded data removed]",
      "text/plain": [
       "<Figure size 800x550 with 2 Axes>"
      ]
     },
     "metadata": {},
     "output_type": "display_data"
    }
   ],
   "source": [
    "import shap\n",
    "import matplotlib.pyplot as plt\n",
    "import xgboost\n",
    "df_test_sample = df_test.sample(n=min(50, len(df_test)), random_state=42)\n",
    "\n",
    "if hasattr(final_model, 'steps'):\n",
    "    model = final_model.steps[-1][1]\n",
    "else:\n",
    "    model = final_model\n",
    "\n",
    "if isinstance(model, (xgboost.XGBRegressor, xgboost.XGBClassifier)):\n",
    "    explainer = shap.TreeExplainer(model)\n",
    "else:\n",
    "    explainer = shap.KernelExplainer(model.predict, df_train[features].iloc[:100, :])  \n",
    "\n",
    "shap_values = explainer.shap_values(df_test_sample[features])  \n",
    "\n",
    "shap.summary_plot(shap_values, df_test_sample[features])"
   ]
  },
  {
   "cell_type": "code",
   "execution_count": 24,
   "metadata": {},
   "outputs": [
    {
     "data": {
      "text/html": [],
      "text/plain": [
       "<IPython.core.display.HTML object>"
      ]
     },
     "metadata": {},
     "output_type": "display_data"
    },
    {
     "data": {
      "image/png": "[encoded data removed]",
      "text/plain": [
       "<Figure size 800x500 with 1 Axes>"
      ]
     },
     "metadata": {},
     "output_type": "display_data"
    }
   ],
   "source": [
    "plot_model(final_model, plot='feature')\n"
   ]
  },
  {
   "cell_type": "code",
   "execution_count": 25,
   "metadata": {},
   "outputs": [
    {
     "name": "stdout",
     "output_type": "stream",
     "text": [
      "              feature    impact\n",
      "7             TripPax  0.255183\n",
      "4   TravelHorizonDays  0.077446\n",
      "1                kind  0.060412\n",
      "8          flightWeek  0.021912\n",
      "2  isConnectingFlight  0.016184\n",
      "3    TripLengthNights  0.015276\n",
      "5  Average_FlightFare  0.011988\n",
      "6            Segments  0.011508\n",
      "9          weekOfYear  0.005163\n",
      "0          cabinClass  0.004113\n"
     ]
    },
    {
     "data": {
      "application/vnd.plotly.v1+json": {
       "config": {
        "plotlyServerURL": "https://plot.ly"
       },
       "data": [
        {
         "hovertemplate": "Features=%{y}<br>SHAP value (impact on model output)=%{x}<extra></extra>",
         "legendgroup": "TripPax",
         "marker": {
          "color": "#636efa",
          "symbol": "circle"
         },
         "mode": "markers",
         "name": "TripPax",
         "orientation": "h",
         "showlegend": true,
         "type": "scatter",
         "x": [
          0.25518325
         ],
         "xaxis": "x",
         "y": [
          "TripPax"
         ],
         "yaxis": "y"
        },
        {
         "hovertemplate": "Features=%{y}<br>SHAP value (impact on model output)=%{x}<extra></extra>",
         "legendgroup": "TravelHorizonDays",
         "marker": {
          "color": "#EF553B",
          "symbol": "circle"
         },
         "mode": "markers",
         "name": "TravelHorizonDays",
         "orientation": "h",
         "showlegend": true,
         "type": "scatter",
         "x": [
          0.077445745
         ],
         "xaxis": "x",
         "y": [
          "TravelHorizonDays"
         ],
         "yaxis": "y"
        },
        {
         "hovertemplate": "Features=%{y}<br>SHAP value (impact on model output)=%{x}<extra></extra>",
         "legendgroup": "kind",
         "marker": {
          "color": "#00cc96",
          "symbol": "circle"
         },
         "mode": "markers",
         "name": "kind",
         "orientation": "h",
         "showlegend": true,
         "type": "scatter",
         "x": [
          0.06041218
         ],
         "xaxis": "x",
         "y": [
          "kind"
         ],
         "yaxis": "y"
        },
        {
         "hovertemplate": "Features=%{y}<br>SHAP value (impact on model output)=%{x}<extra></extra>",
         "legendgroup": "flightWeek",
         "marker": {
          "color": "#ab63fa",
          "symbol": "circle"
         },
         "mode": "markers",
         "name": "flightWeek",
         "orientation": "h",
         "showlegend": true,
         "type": "scatter",
         "x": [
          0.021912122
         ],
         "xaxis": "x",
         "y": [
          "flightWeek"
         ],
         "yaxis": "y"
        },
        {
         "hovertemplate": "Features=%{y}<br>SHAP value (impact on model output)=%{x}<extra></extra>",
         "legendgroup": "isConnectingFlight",
         "marker": {
          "color": "#FFA15A",
          "symbol": "circle"
         },
         "mode": "markers",
         "name": "isConnectingFlight",
         "orientation": "h",
         "showlegend": true,
         "type": "scatter",
         "x": [
          0.016184043
         ],
         "xaxis": "x",
         "y": [
          "isConnectingFlight"
         ],
         "yaxis": "y"
        },
        {
         "hovertemplate": "Features=%{y}<br>SHAP value (impact on model output)=%{x}<extra></extra>",
         "legendgroup": "TripLengthNights",
         "marker": {
          "color": "#19d3f3",
          "symbol": "circle"
         },
         "mode": "markers",
         "name": "TripLengthNights",
         "orientation": "h",
         "showlegend": true,
         "type": "scatter",
         "x": [
          0.015276375
         ],
         "xaxis": "x",
         "y": [
          "TripLengthNights"
         ],
         "yaxis": "y"
        },
        {
         "hovertemplate": "Features=%{y}<br>SHAP value (impact on model output)=%{x}<extra></extra>",
         "legendgroup": "Average_FlightFare",
         "marker": {
          "color": "#FF6692",
          "symbol": "circle"
         },
         "mode": "markers",
         "name": "Average_FlightFare",
         "orientation": "h",
         "showlegend": true,
         "type": "scatter",
         "x": [
          0.01198836
         ],
         "xaxis": "x",
         "y": [
          "Average_FlightFare"
         ],
         "yaxis": "y"
        },
        {
         "hovertemplate": "Features=%{y}<br>SHAP value (impact on model output)=%{x}<extra></extra>",
         "legendgroup": "Segments",
         "marker": {
          "color": "#B6E880",
          "symbol": "circle"
         },
         "mode": "markers",
         "name": "Segments",
         "orientation": "h",
         "showlegend": true,
         "type": "scatter",
         "x": [
          0.011507745
         ],
         "xaxis": "x",
         "y": [
          "Segments"
         ],
         "yaxis": "y"
        },
        {
         "hovertemplate": "Features=%{y}<br>SHAP value (impact on model output)=%{x}<extra></extra>",
         "legendgroup": "weekOfYear",
         "marker": {
          "color": "#FF97FF",
          "symbol": "circle"
         },
         "mode": "markers",
         "name": "weekOfYear",
         "orientation": "h",
         "showlegend": true,
         "type": "scatter",
         "x": [
          0.0051634307
         ],
         "xaxis": "x",
         "y": [
          "weekOfYear"
         ],
         "yaxis": "y"
        },
        {
         "hovertemplate": "Features=%{y}<br>SHAP value (impact on model output)=%{x}<extra></extra>",
         "legendgroup": "cabinClass",
         "marker": {
          "color": "#FECB52",
          "symbol": "circle"
         },
         "mode": "markers",
         "name": "cabinClass",
         "orientation": "h",
         "showlegend": true,
         "type": "scatter",
         "x": [
          0.0041128523
         ],
         "xaxis": "x",
         "y": [
          "cabinClass"
         ],
         "yaxis": "y"
        }
       ],
       "layout": {
        "legend": {
         "title": {
          "text": "Features"
         },
         "tracegroupgap": 0
        },
        "template": {
         "data": {
          "bar": [
           {
            "error_x": {
             "color": "#2a3f5f"
            },
            "error_y": {
             "color": "#2a3f5f"
            },
            "marker": {
             "line": {
              "color": "#E5ECF6",
              "width": 0.5
             },
             "pattern": {
              "fillmode": "overlay",
              "size": 10,
              "solidity": 0.2
             }
            },
            "type": "bar"
           }
          ],
          "barpolar": [
           {
            "marker": {
             "line": {
              "color": "#E5ECF6",
              "width": 0.5
             },
             "pattern": {
              "fillmode": "overlay",
              "size": 10,
              "solidity": 0.2
             }
            },
            "type": "barpolar"
           }
          ],
          "carpet": [
           {
            "aaxis": {
             "endlinecolor": "#2a3f5f",
             "gridcolor": "white",
             "linecolor": "white",
             "minorgridcolor": "white",
             "startlinecolor": "#2a3f5f"
            },
            "baxis": {
             "endlinecolor": "#2a3f5f",
             "gridcolor": "white",
             "linecolor": "white",
             "minorgridcolor": "white",
             "startlinecolor": "#2a3f5f"
            },
            "type": "carpet"
           }
          ],
          "choropleth": [
           {
            "colorbar": {
             "outlinewidth": 0,
             "ticks": ""
            },
            "type": "choropleth"
           }
          ],
          "contour": [
           {
            "colorbar": {
             "outlinewidth": 0,
             "ticks": ""
            },
            "colorscale": [
             [
              0,
              "#0d0887"
             ],
             [
              0.1111111111111111,
              "#46039f"
             ],
             [
              0.2222222222222222,
              "#7201a8"
             ],
             [
              0.3333333333333333,
              "#9c179e"
             ],
             [
              0.4444444444444444,
              "#bd3786"
             ],
             [
              0.5555555555555556,
              "#d8576b"
             ],
             [
              0.6666666666666666,
              "#ed7953"
             ],
             [
              0.7777777777777778,
              "#fb9f3a"
             ],
             [
              0.8888888888888888,
              "#fdca26"
             ],
             [
              1,
              "#f0f921"
             ]
            ],
            "type": "contour"
           }
          ],
          "contourcarpet": [
           {
            "colorbar": {
             "outlinewidth": 0,
             "ticks": ""
            },
            "type": "contourcarpet"
           }
          ],
          "heatmap": [
           {
            "colorbar": {
             "outlinewidth": 0,
             "ticks": ""
            },
            "colorscale": [
             [
              0,
              "#0d0887"
             ],
             [
              0.1111111111111111,
              "#46039f"
             ],
             [
              0.2222222222222222,
              "#7201a8"
             ],
             [
              0.3333333333333333,
              "#9c179e"
             ],
             [
              0.4444444444444444,
              "#bd3786"
             ],
             [
              0.5555555555555556,
              "#d8576b"
             ],
             [
              0.6666666666666666,
              "#ed7953"
             ],
             [
              0.7777777777777778,
              "#fb9f3a"
             ],
             [
              0.8888888888888888,
              "#fdca26"
             ],
             [
              1,
              "#f0f921"
             ]
            ],
            "type": "heatmap"
           }
          ],
          "heatmapgl": [
           {
            "colorbar": {
             "outlinewidth": 0,
             "ticks": ""
            },
            "colorscale": [
             [
              0,
              "#0d0887"
             ],
             [
              0.1111111111111111,
              "#46039f"
             ],
             [
              0.2222222222222222,
              "#7201a8"
             ],
             [
              0.3333333333333333,
              "#9c179e"
             ],
             [
              0.4444444444444444,
              "#bd3786"
             ],
             [
              0.5555555555555556,
              "#d8576b"
             ],
             [
              0.6666666666666666,
              "#ed7953"
             ],
             [
              0.7777777777777778,
              "#fb9f3a"
             ],
             [
              0.8888888888888888,
              "#fdca26"
             ],
             [
              1,
              "#f0f921"
             ]
            ],
            "type": "heatmapgl"
           }
          ],
          "histogram": [
           {
            "marker": {
             "pattern": {
              "fillmode": "overlay",
              "size": 10,
              "solidity": 0.2
             }
            },
            "type": "histogram"
           }
          ],
          "histogram2d": [
           {
            "colorbar": {
             "outlinewidth": 0,
             "ticks": ""
            },
            "colorscale": [
             [
              0,
              "#0d0887"
             ],
             [
              0.1111111111111111,
              "#46039f"
             ],
             [
              0.2222222222222222,
              "#7201a8"
             ],
             [
              0.3333333333333333,
              "#9c179e"
             ],
             [
              0.4444444444444444,
              "#bd3786"
             ],
             [
              0.5555555555555556,
              "#d8576b"
             ],
             [
              0.6666666666666666,
              "#ed7953"
             ],
             [
              0.7777777777777778,
              "#fb9f3a"
             ],
             [
              0.8888888888888888,
              "#fdca26"
             ],
             [
              1,
              "#f0f921"
             ]
            ],
            "type": "histogram2d"
           }
          ],
          "histogram2dcontour": [
           {
            "colorbar": {
             "outlinewidth": 0,
             "ticks": ""
            },
            "colorscale": [
             [
              0,
              "#0d0887"
             ],
             [
              0.1111111111111111,
              "#46039f"
             ],
             [
              0.2222222222222222,
              "#7201a8"
             ],
             [
              0.3333333333333333,
              "#9c179e"
             ],
             [
              0.4444444444444444,
              "#bd3786"
             ],
             [
              0.5555555555555556,
              "#d8576b"
             ],
             [
              0.6666666666666666,
              "#ed7953"
             ],
             [
              0.7777777777777778,
              "#fb9f3a"
             ],
             [
              0.8888888888888888,
              "#fdca26"
             ],
             [
              1,
              "#f0f921"
             ]
            ],
            "type": "histogram2dcontour"
           }
          ],
          "mesh3d": [
           {
            "colorbar": {
             "outlinewidth": 0,
             "ticks": ""
            },
            "type": "mesh3d"
           }
          ],
          "parcoords": [
           {
            "line": {
             "colorbar": {
              "outlinewidth": 0,
              "ticks": ""
             }
            },
            "type": "parcoords"
           }
          ],
          "pie": [
           {
            "automargin": true,
            "type": "pie"
           }
          ],
          "scatter": [
           {
            "fillpattern": {
             "fillmode": "overlay",
             "size": 10,
             "solidity": 0.2
            },
            "type": "scatter"
           }
          ],
          "scatter3d": [
           {
            "line": {
             "colorbar": {
              "outlinewidth": 0,
              "ticks": ""
             }
            },
            "marker": {
             "colorbar": {
              "outlinewidth": 0,
              "ticks": ""
             }
            },
            "type": "scatter3d"
           }
          ],
          "scattercarpet": [
           {
            "marker": {
             "colorbar": {
              "outlinewidth": 0,
              "ticks": ""
             }
            },
            "type": "scattercarpet"
           }
          ],
          "scattergeo": [
           {
            "marker": {
             "colorbar": {
              "outlinewidth": 0,
              "ticks": ""
             }
            },
            "type": "scattergeo"
           }
          ],
          "scattergl": [
           {
            "marker": {
             "colorbar": {
              "outlinewidth": 0,
              "ticks": ""
             }
            },
            "type": "scattergl"
           }
          ],
          "scattermapbox": [
           {
            "marker": {
             "colorbar": {
              "outlinewidth": 0,
              "ticks": ""
             }
            },
            "type": "scattermapbox"
           }
          ],
          "scatterpolar": [
           {
            "marker": {
             "colorbar": {
              "outlinewidth": 0,
              "ticks": ""
             }
            },
            "type": "scatterpolar"
           }
          ],
          "scatterpolargl": [
           {
            "marker": {
             "colorbar": {
              "outlinewidth": 0,
              "ticks": ""
             }
            },
            "type": "scatterpolargl"
           }
          ],
          "scatterternary": [
           {
            "marker": {
             "colorbar": {
              "outlinewidth": 0,
              "ticks": ""
             }
            },
            "type": "scatterternary"
           }
          ],
          "surface": [
           {
            "colorbar": {
             "outlinewidth": 0,
             "ticks": ""
            },
            "colorscale": [
             [
              0,
              "#0d0887"
             ],
             [
              0.1111111111111111,
              "#46039f"
             ],
             [
              0.2222222222222222,
              "#7201a8"
             ],
             [
              0.3333333333333333,
              "#9c179e"
             ],
             [
              0.4444444444444444,
              "#bd3786"
             ],
             [
              0.5555555555555556,
              "#d8576b"
             ],
             [
              0.6666666666666666,
              "#ed7953"
             ],
             [
              0.7777777777777778,
              "#fb9f3a"
             ],
             [
              0.8888888888888888,
              "#fdca26"
             ],
             [
              1,
              "#f0f921"
             ]
            ],
            "type": "surface"
           }
          ],
          "table": [
           {
            "cells": {
             "fill": {
              "color": "#EBF0F8"
             },
             "line": {
              "color": "white"
             }
            },
            "header": {
             "fill": {
              "color": "#C8D4E3"
             },
             "line": {
              "color": "white"
             }
            },
            "type": "table"
           }
          ]
         },
         "layout": {
          "annotationdefaults": {
           "arrowcolor": "#2a3f5f",
           "arrowhead": 0,
           "arrowwidth": 1
          },
          "autotypenumbers": "strict",
          "coloraxis": {
           "colorbar": {
            "outlinewidth": 0,
            "ticks": ""
           }
          },
          "colorscale": {
           "diverging": [
            [
             0,
             "#8e0152"
            ],
            [
             0.1,
             "#c51b7d"
            ],
            [
             0.2,
             "#de77ae"
            ],
            [
             0.3,
             "#f1b6da"
            ],
            [
             0.4,
             "#fde0ef"
            ],
            [
             0.5,
             "#f7f7f7"
            ],
            [
             0.6,
             "#e6f5d0"
            ],
            [
             0.7,
             "#b8e186"
            ],
            [
             0.8,
             "#7fbc41"
            ],
            [
             0.9,
             "#4d9221"
            ],
            [
             1,
             "#276419"
            ]
           ],
           "sequential": [
            [
             0,
             "#0d0887"
            ],
            [
             0.1111111111111111,
             "#46039f"
            ],
            [
             0.2222222222222222,
             "#7201a8"
            ],
            [
             0.3333333333333333,
             "#9c179e"
            ],
            [
             0.4444444444444444,
             "#bd3786"
            ],
            [
             0.5555555555555556,
             "#d8576b"
            ],
            [
             0.6666666666666666,
             "#ed7953"
            ],
            [
             0.7777777777777778,
             "#fb9f3a"
            ],
            [
             0.8888888888888888,
             "#fdca26"
            ],
            [
             1,
             "#f0f921"
            ]
           ],
           "sequentialminus": [
            [
             0,
             "#0d0887"
            ],
            [
             0.1111111111111111,
             "#46039f"
            ],
            [
             0.2222222222222222,
             "#7201a8"
            ],
            [
             0.3333333333333333,
             "#9c179e"
            ],
            [
             0.4444444444444444,
             "#bd3786"
            ],
            [
             0.5555555555555556,
             "#d8576b"
            ],
            [
             0.6666666666666666,
             "#ed7953"
            ],
            [
             0.7777777777777778,
             "#fb9f3a"
            ],
            [
             0.8888888888888888,
             "#fdca26"
            ],
            [
             1,
             "#f0f921"
            ]
           ]
          },
          "colorway": [
           "#636efa",
           "#EF553B",
           "#00cc96",
           "#ab63fa",
           "#FFA15A",
           "#19d3f3",
           "#FF6692",
           "#B6E880",
           "#FF97FF",
           "#FECB52"
          ],
          "font": {
           "color": "#2a3f5f"
          },
          "geo": {
           "bgcolor": "white",
           "lakecolor": "white",
           "landcolor": "#E5ECF6",
           "showlakes": true,
           "showland": true,
           "subunitcolor": "white"
          },
          "hoverlabel": {
           "align": "left"
          },
          "hovermode": "closest",
          "mapbox": {
           "style": "light"
          },
          "paper_bgcolor": "white",
          "plot_bgcolor": "#E5ECF6",
          "polar": {
           "angularaxis": {
            "gridcolor": "white",
            "linecolor": "white",
            "ticks": ""
           },
           "bgcolor": "#E5ECF6",
           "radialaxis": {
            "gridcolor": "white",
            "linecolor": "white",
            "ticks": ""
           }
          },
          "scene": {
           "xaxis": {
            "backgroundcolor": "#E5ECF6",
            "gridcolor": "white",
            "gridwidth": 2,
            "linecolor": "white",
            "showbackground": true,
            "ticks": "",
            "zerolinecolor": "white"
           },
           "yaxis": {
            "backgroundcolor": "#E5ECF6",
            "gridcolor": "white",
            "gridwidth": 2,
            "linecolor": "white",
            "showbackground": true,
            "ticks": "",
            "zerolinecolor": "white"
           },
           "zaxis": {
            "backgroundcolor": "#E5ECF6",
            "gridcolor": "white",
            "gridwidth": 2,
            "linecolor": "white",
            "showbackground": true,
            "ticks": "",
            "zerolinecolor": "white"
           }
          },
          "shapedefaults": {
           "line": {
            "color": "#2a3f5f"
           }
          },
          "ternary": {
           "aaxis": {
            "gridcolor": "white",
            "linecolor": "white",
            "ticks": ""
           },
           "baxis": {
            "gridcolor": "white",
            "linecolor": "white",
            "ticks": ""
           },
           "bgcolor": "#E5ECF6",
           "caxis": {
            "gridcolor": "white",
            "linecolor": "white",
            "ticks": ""
           }
          },
          "title": {
           "x": 0.05
          },
          "xaxis": {
           "automargin": true,
           "gridcolor": "white",
           "linecolor": "white",
           "ticks": "",
           "title": {
            "standoff": 15
           },
           "zerolinecolor": "white",
           "zerolinewidth": 2
          },
          "yaxis": {
           "automargin": true,
           "gridcolor": "white",
           "linecolor": "white",
           "ticks": "",
           "title": {
            "standoff": 15
           },
           "zerolinecolor": "white",
           "zerolinewidth": 2
          }
         }
        },
        "title": {
         "text": "SHAP Values Impact on Model Output"
        },
        "xaxis": {
         "anchor": "y",
         "domain": [
          0,
          1
         ],
         "title": {
          "text": "SHAP value (impact on model output)"
         }
        },
        "yaxis": {
         "anchor": "x",
         "categoryarray": [
          "cabinClass",
          "weekOfYear",
          "Segments",
          "Average_FlightFare",
          "TripLengthNights",
          "isConnectingFlight",
          "flightWeek",
          "kind",
          "TravelHorizonDays",
          "TripPax"
         ],
         "categoryorder": "total ascending",
         "domain": [
          0,
          1
         ],
         "title": {
          "text": "Features"
         }
        }
       }
      }
     },
     "metadata": {},
     "output_type": "display_data"
    }
   ],
   "source": [
    "import plotly.express as px\n",
    "import pandas as pd\n",
    "\n",
    "shap_df = pd.DataFrame(shap_values, columns=df_test_sample[features].columns)\n",
    "shap_df = shap_df.abs().mean(axis=0).reset_index()\n",
    "shap_df.columns = ['feature', 'impact']\n",
    "shap_df = shap_df.sort_values(by='impact', ascending=False)\n",
    "\n",
    "print(shap_df)\n",
    "\n",
    "fig = px.scatter(\n",
    "    shap_df,\n",
    "    x='impact',\n",
    "    y='feature',\n",
    "    color='feature',\n",
    "    title='SHAP Values Impact on Model Output',\n",
    "    labels={'impact': 'SHAP value (impact on model output)', 'feature': 'Features'}\n",
    ")\n",
    "\n",
    "fig.update_layout(yaxis={'categoryorder': 'total ascending'})\n",
    "\n",
    "fig.show()\n"
   ]
  }
 ],
 "metadata": {
  "kernelspec": {
   "display_name": "Python 3",
   "language": "python",
   "name": "python3"
  },
  "language_info": {
   "codemirror_mode": {
    "name": "ipython",
    "version": 3
   },
   "file_extension": ".py",
   "mimetype": "text/x-python",
   "name": "python",
   "nbconvert_exporter": "python",
   "pygments_lexer": "ipython3",
   "version": "3.11.9"
  }
 },
 "nbformat": 4,
 "nbformat_minor": 2
}
