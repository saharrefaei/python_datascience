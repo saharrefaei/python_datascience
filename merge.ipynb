{
 "cells": [
  {
   "cell_type": "code",
   "execution_count": 63,
   "id": "5a7d0b45-4ab8-4349-a18a-fd83f71ccbf5",
   "metadata": {},
   "outputs": [
    {
     "name": "stdout",
     "output_type": "stream",
     "text": [
      "  Sales place Sales_place_name  Mercedes  Ford  Tata  Renault\n",
      "0         One         Europe 1         2     3     9       12\n",
      "1         Two      Australia 1         4     0     3        1\n",
      "2       Three            USA 1         0   132     4        0\n",
      "3        Four           Asia 1         4    54     1        0\n",
      "4        Five         Africa 1         0     6     0        3\n",
      "5         Six  South America 1         3   132     0        1\n",
      "6       Seven  South America 1         3     2     1        1\n",
      "7       Eight           Asia 1         4     1     1        0\n",
      "  Sales_place_name  Car_inv\n",
      "0         Europe 1      132\n",
      "1      Australia 1       54\n",
      "2            USA 1      132\n",
      "3           Asia 1      267\n",
      "4         Africa 1      183\n",
      "5  South America 1      172\n",
      "  Sales_place_name  Car_inv\n",
      "0         Europe 1      132\n",
      "1         Europe 1      131\n",
      "2      Australia 1       54\n",
      "3            USA 1      323\n",
      "4           Asia 1      267\n",
      "5         Canada 1       45\n",
      "6         Africa 1      183\n",
      "7  South America 1      172\n",
      "8  South America 2      144\n"
     ]
    }
   ],
   "source": [
    "# Create three Pandas DataFrames\n",
    "import pandas as pd\n",
    "\n",
    "# This is the basic Carsales DataFrame extended with two more Sales places plus the index column transformed to a feature column.\n",
    "Cardata = { \"Mercedes\": [2, 4, 0, 4, 0, 3], \"Ford\": [3, 0, 132, 54, 6, 132], \"Tata\":[9, 3, 4, 1, 0, 0], \"Renault\":[12, 1, 0, 0, 3, 1]}\n",
    "Carsales = pd.DataFrame(Cardata)\n",
    "Carsales.rename(index={0: \"One\", 1: \"Two\", 2: \"Three\", 3: \"Four\", 4: \"Five\", 5: \"Six\"}, inplace=True)\n",
    "Carsales.insert(0, \"Sales_place_name\", [\"Europe 1\", \"Australia 1\", \"USA 1\", \"Asia 1\", \"Africa 1\", \"South America 1\"], allow_duplicates=True)\n",
    "Carsales2 = pd.DataFrame({\"Sales_place_name\": [\"South America 1\", \"Asia 1\"], \"Mercedes\": [3, 4], \"Ford\": [2, 1], \"Tata\": [1, 1], \"Renault\": [1, 0]})\n",
    "Carsales2.rename(index={0: \"Seven\", 1: \"Eight\"}, inplace=True)\n",
    "Carsales.index.rename('index',inplace=True)\n",
    "Carsales = pd.concat([Carsales, Carsales2])\n",
    "Carsales.index.rename(\"Sales place\", inplace=True)\n",
    "Carsales.reset_index(inplace=True)  # Turns index column into a feature column\n",
    "print(Carsales)\n",
    "\n",
    "# This DataFrame includes Car inventory data. Unique column values for \"Sales_place_name\", all included in Carsales and fewer labels than in the Carsales DataFrame.\n",
    "Inv_data = pd.DataFrame({\"Sales_place_name\": [\"Europe 1\", \"Australia 1\", \"USA 1\", \"Asia 1\", \"Africa 1\", \"South America 1\"], \"Car_inv\": [132, 54, 132, 267, 183, 172]})\n",
    "print(Inv_data)\n",
    "\n",
    "# This DataFrame includes Car inventory data. Non-unique Column values for \"Sales_place_name\", some included in Carsales and more labels than in the Carsales DataFrame.\n",
    "Inv_data2 = pd.DataFrame({\"Sales_place_name\": [\"Europe 1\", \"Europe 1\", \"Australia 1\", \"USA 1\", \"Asia 1\", \"Canada 1\", \"Africa 1\", \"South America 1\", \"South America 2\"], \"Car_inv\": [132, 131, 54, 323, 267, 45, 183, 172, 144]})\n",
    "print(Inv_data2)"
   ]
  },
  {
   "cell_type": "code",
   "execution_count": 59,
   "id": "6ede8402-9987-4bbb-8b8b-8ef8af5e75ec",
   "metadata": {},
   "outputs": [
    {
     "name": "stdout",
     "output_type": "stream",
     "text": [
      "  Sales place Sales_place_name  Mercedes  Ford  Tata  Renault  Car_inv\n",
      "0         One         Europe 1         2     3     9       12      132\n",
      "1         Two      Australia 1         4     0     3        1       54\n",
      "2       Three            USA 1         0     0     4        0      323\n",
      "3        Four           Asia 1         4     1     1        0      267\n",
      "4       Eight           Asia 1         4     1     1        0      267\n",
      "5        Five         Africa 1         0     6     0        3      183\n",
      "6         Six  South America 1         3    12     0        1      172\n",
      "7       Seven  South America 1         3     2     1        1      172\n"
     ]
    }
   ],
   "source": [
    "print(Carsales.merge(Inv_data , how ='inner',on='Sales_place_name' ))"
   ]
  },
  {
   "cell_type": "code",
   "execution_count": 67,
   "id": "035e4cad-7320-405b-8285-3fb63445ead7",
   "metadata": {},
   "outputs": [
    {
     "name": "stdout",
     "output_type": "stream",
     "text": [
      "  Sales place Sales_place_name_x  Mercedes  Ford  Tata  Renault  \\\n",
      "0       Three              USA 1         0   132     4        0   \n",
      "1       Three              USA 1         0   132     4        0   \n",
      "2         Six    South America 1         3   132     0        1   \n",
      "3         Six    South America 1         3   132     0        1   \n",
      "4        Four             Asia 1         4    54     1        0   \n",
      "\n",
      "  Sales_place_name_y  Car_inv  \n",
      "0           Europe 1      132  \n",
      "1              USA 1      132  \n",
      "2           Europe 1      132  \n",
      "3              USA 1      132  \n",
      "4        Australia 1       54  \n"
     ]
    }
   ],
   "source": [
    "print(Carsales.merge(Inv_data , how ='inner',on=None ,left_on='Ford',right_on='Car_inv'))"
   ]
  },
  {
   "cell_type": "code",
   "execution_count": 69,
   "id": "8f698f03-a9e9-49ea-81e8-6f5263fb6624",
   "metadata": {},
   "outputs": [
    {
     "name": "stdout",
     "output_type": "stream",
     "text": [
      "  Sales_place_name  Car_inv Sales place  Mercedes  Ford  Tata  Renault\n",
      "0         Europe 1      132         One         2     3     9       12\n",
      "1      Australia 1       54         Two         4     0     3        1\n",
      "2            USA 1      132       Three         0   132     4        0\n",
      "3           Asia 1      267        Four         4    54     1        0\n",
      "4           Asia 1      267       Eight         4     1     1        0\n",
      "5         Africa 1      183        Five         0     6     0        3\n",
      "6  South America 1      172         Six         3   132     0        1\n",
      "7  South America 1      172       Seven         3     2     1        1\n"
     ]
    }
   ],
   "source": [
    "print(Inv_data.merge(Carsales , how='inner',left_on='Sales_place_name',right_on='Sales_place_name'))"
   ]
  },
  {
   "cell_type": "code",
   "execution_count": 73,
   "id": "01848221-250e-4d24-bcd3-3adc526de978",
   "metadata": {},
   "outputs": [
    {
     "name": "stdout",
     "output_type": "stream",
     "text": [
      "  Sales_place_name  Car_inv Sales place  Mercedes  Ford  Tata  Renault\n",
      "0         Europe 1      132         One         2     3     9       12\n",
      "1      Australia 1       54         Two         4     0     3        1\n",
      "2            USA 1      132       Three         0   132     4        0\n",
      "3           Asia 1      267        Four         4    54     1        0\n",
      "4         Africa 1      183        Five         0     6     0        3\n",
      "5  South America 1      172         Six         3   132     0        1\n",
      "6  South America 1      172       Seven         3     2     1        1\n",
      "7           Asia 1      267       Eight         4     1     1        0\n"
     ]
    }
   ],
   "source": [
    "print(Inv_data.merge(Carsales , how='right',left_on='Sales_place_name',right_on='Sales_place_name'))"
   ]
  },
  {
   "cell_type": "code",
   "execution_count": null,
   "id": "159e4ec2-2318-4122-b7e8-f1218d21abb8",
   "metadata": {},
   "outputs": [],
   "source": []
  },
  {
   "cell_type": "code",
   "execution_count": null,
   "id": "53fd982d-f58a-47c4-9c47-b43baad9f8e9",
   "metadata": {},
   "outputs": [],
   "source": []
  }
 ],
 "metadata": {
  "kernelspec": {
   "display_name": "anaconda-2024.02-py310",
   "language": "python",
   "name": "conda-env-anaconda-2024.02-py310-py"
  },
  "language_info": {
   "codemirror_mode": {
    "name": "ipython",
    "version": 3
   },
   "file_extension": ".py",
   "mimetype": "text/x-python",
   "name": "python",
   "nbconvert_exporter": "python",
   "pygments_lexer": "ipython3",
   "version": "3.10.14"
  }
 },
 "nbformat": 4,
 "nbformat_minor": 5
}
