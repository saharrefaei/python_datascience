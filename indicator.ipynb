{
 "cells": [
  {
   "cell_type": "code",
   "execution_count": 5,
   "id": "1021e99f-8fac-46a3-a665-ab892f47c801",
   "metadata": {},
   "outputs": [
    {
     "name": "stdout",
     "output_type": "stream",
     "text": [
      "      age     sex     bmi  children smoker     region      charges\n",
      "0      19  female  27.900         0    yes  southwest  16884.92400\n",
      "1      18    male  33.770         1     no  southeast   1725.55230\n",
      "2      28    male  33.000         3     no  southeast   4449.46200\n",
      "3      33    male  22.705         0     no  northwest  21984.47061\n",
      "4      32    male  28.880         0     no  northwest   3866.85520\n",
      "...   ...     ...     ...       ...    ...        ...          ...\n",
      "1333   50    male  30.970         3     no  northwest  10600.54830\n",
      "1334   18  female  31.920         0     no  northeast   2205.98080\n",
      "1335   18  female  36.850         0     no  southeast   1629.83350\n",
      "1336   21  female  25.800         0     no  southwest   2007.94500\n",
      "1337   61  female  29.070         0    yes  northwest  29141.36030\n",
      "\n",
      "[1338 rows x 7 columns]\n"
     ]
    }
   ],
   "source": [
    "import pandas as pd\n",
    "import statsmodels.formula.api as sm  # this library will be used to demonstrate Indicator features.\n",
    "\n",
    "# The medical costs dataset \"insurance.csv\" can be downloaded from Github.com and loaded into a Pandas DataFrame using this codeline. \n",
    "med_cost_DF = pd.read_csv(\"https://raw.githubusercontent.com/stedy/Machine-Learning-with-R-datasets/master/insurance.csv\")\n",
    "# Alternatively, the medical costs dataset can be downloaded from the video lecture as a resource, moved/copied into your\n",
    "# Python directory and loaded into a Pandas DataFrame with this code\n",
    "# med_cost_DF = pd.read_csv(\"insurance_data.csv\")\n",
    "print(med_cost_DF)"
   ]
  },
  {
   "cell_type": "code",
   "execution_count": 13,
   "id": "17b068ae-96dd-4d4a-bf2c-9075ed594f44",
   "metadata": {},
   "outputs": [
    {
     "name": "stdout",
     "output_type": "stream",
     "text": [
      "      age     sex     bmi  children smoker      charges  region_northeast  \\\n",
      "0      19  female  27.900         0    yes  16884.92400             False   \n",
      "1      18    male  33.770         1     no   1725.55230             False   \n",
      "2      28    male  33.000         3     no   4449.46200             False   \n",
      "3      33    male  22.705         0     no  21984.47061             False   \n",
      "4      32    male  28.880         0     no   3866.85520             False   \n",
      "...   ...     ...     ...       ...    ...          ...               ...   \n",
      "1333   50    male  30.970         3     no  10600.54830             False   \n",
      "1334   18  female  31.920         0     no   2205.98080              True   \n",
      "1335   18  female  36.850         0     no   1629.83350             False   \n",
      "1336   21  female  25.800         0     no   2007.94500             False   \n",
      "1337   61  female  29.070         0    yes  29141.36030             False   \n",
      "\n",
      "      region_northwest  region_southeast  region_southwest  \n",
      "0                False             False              True  \n",
      "1                False              True             False  \n",
      "2                False              True             False  \n",
      "3                 True             False             False  \n",
      "4                 True             False             False  \n",
      "...                ...               ...               ...  \n",
      "1333              True             False             False  \n",
      "1334             False             False             False  \n",
      "1335             False              True             False  \n",
      "1336             False             False              True  \n",
      "1337              True             False             False  \n",
      "\n",
      "[1338 rows x 10 columns]\n"
     ]
    }
   ],
   "source": [
    "med_cost_DF2 = pd.get_dummies(med_cost_DF, columns=['region'], dtype=bool) #fill with ture or false\n",
    "print(med_cost_DF2)"
   ]
  },
  {
   "cell_type": "code",
   "execution_count": 15,
   "id": "9cf692e3-0aab-4b71-b42e-e3babadbf852",
   "metadata": {},
   "outputs": [
    {
     "name": "stdout",
     "output_type": "stream",
     "text": [
      "      age     sex     bmi  children smoker      charges  region_northeast  \\\n",
      "0      19  female  27.900         0    yes  16884.92400                 0   \n",
      "1      18    male  33.770         1     no   1725.55230                 0   \n",
      "2      28    male  33.000         3     no   4449.46200                 0   \n",
      "3      33    male  22.705         0     no  21984.47061                 0   \n",
      "4      32    male  28.880         0     no   3866.85520                 0   \n",
      "...   ...     ...     ...       ...    ...          ...               ...   \n",
      "1333   50    male  30.970         3     no  10600.54830                 0   \n",
      "1334   18  female  31.920         0     no   2205.98080                 1   \n",
      "1335   18  female  36.850         0     no   1629.83350                 0   \n",
      "1336   21  female  25.800         0     no   2007.94500                 0   \n",
      "1337   61  female  29.070         0    yes  29141.36030                 0   \n",
      "\n",
      "      region_northwest  region_southeast  region_southwest  \n",
      "0                    0                 0                 1  \n",
      "1                    0                 1                 0  \n",
      "2                    0                 1                 0  \n",
      "3                    1                 0                 0  \n",
      "4                    1                 0                 0  \n",
      "...                ...               ...               ...  \n",
      "1333                 1                 0                 0  \n",
      "1334                 0                 0                 0  \n",
      "1335                 0                 1                 0  \n",
      "1336                 0                 0                 1  \n",
      "1337                 1                 0                 0  \n",
      "\n",
      "[1338 rows x 10 columns]\n"
     ]
    }
   ],
   "source": [
    "med_cost_DF3 = pd.get_dummies(med_cost_DF, columns=['region'], dtype=int)#fill with 0 and 1\n",
    "print(med_cost_DF2)"
   ]
  },
  {
   "cell_type": "code",
   "execution_count": 25,
   "id": "80fb1434-9a58-4213-999d-565b588383bf",
   "metadata": {},
   "outputs": [
    {
     "name": "stdout",
     "output_type": "stream",
     "text": [
      "Intercept           10581.261741\n",
      "region_northeast     2825.122775\n",
      "region_northwest     1836.313633\n",
      "region_southeast     4154.149697\n",
      "region_southwest     1765.675636\n",
      "dtype: float64\n",
      "                            OLS Regression Results                            \n",
      "==============================================================================\n",
      "Dep. Variable:                charges   R-squared:                       0.007\n",
      "Model:                            OLS   Adj. R-squared:                  0.004\n",
      "Method:                 Least Squares   F-statistic:                     2.970\n",
      "Date:                Sun, 02 Jun 2024   Prob (F-statistic):             0.0309\n",
      "Time:                        18:49:24   Log-Likelihood:                -14473.\n",
      "No. Observations:                1338   AIC:                         2.895e+04\n",
      "Df Residuals:                    1334   BIC:                         2.898e+04\n",
      "Df Model:                           3                                         \n",
      "Covariance Type:            nonrobust                                         \n",
      "====================================================================================\n",
      "                       coef    std err          t      P>|t|      [0.025      0.975]\n",
      "------------------------------------------------------------------------------------\n",
      "Intercept         1.058e+04    264.595     39.990      0.000    1.01e+04    1.11e+04\n",
      "region_northeast  2825.1228    583.433      4.842      0.000    1680.577    3969.669\n",
      "region_northwest  1836.3136    582.720      3.151      0.002     693.167    2979.460\n",
      "region_southeast  4154.1497    557.388      7.453      0.000    3060.697    5247.602\n",
      "region_southwest  1765.6756    582.720      3.030      0.002     622.529    2908.822\n",
      "==============================================================================\n",
      "Omnibus:                      327.391   Durbin-Watson:                   2.001\n",
      "Prob(Omnibus):                  0.000   Jarque-Bera (JB):              623.271\n",
      "Skew:                           1.484   Prob(JB):                    4.55e-136\n",
      "Kurtosis:                       4.541   Cond. No.                     4.90e+15\n",
      "==============================================================================\n",
      "\n",
      "Notes:\n",
      "[1] Standard Errors assume that the covariance matrix of the errors is correctly specified.\n",
      "[2] The smallest eigenvalue is 6.97e-29. This might indicate that there are\n",
      "strong multicollinearity problems or that the design matrix is singular.\n"
     ]
    }
   ],
   "source": [
    "model_1 = sm.ols(formula='charges ~ region_northeast + region_northwest + region_southeast + region_southwest', data=med_cost_DF2)\n",
    "results = model_1.fit()\n",
    "print(results.params)\n",
    "\n",
    "print(results.summary())\n"
   ]
  },
  {
   "cell_type": "code",
   "execution_count": 34,
   "id": "d613800f-76dd-4eae-98b1-22fb2e9dd3eb",
   "metadata": {},
   "outputs": [
    {
     "name": "stdout",
     "output_type": "stream",
     "text": [
      "Intercept           25395.919994\n",
      "region_northeast     4277.616478\n",
      "region_northwest     4796.083188\n",
      "region_southeast     9449.076829\n",
      "region_southwest     6873.143499\n",
      "dtype: float64\n",
      "                            OLS Regression Results                            \n",
      "==============================================================================\n",
      "Dep. Variable:                charges   R-squared:                       0.036\n",
      "Model:                            OLS   Adj. R-squared:                  0.025\n",
      "Method:                 Least Squares   F-statistic:                     3.316\n",
      "Date:                Sun, 02 Jun 2024   Prob (F-statistic):             0.0205\n",
      "Time:                        19:05:40   Log-Likelihood:                -2946.2\n",
      "No. Observations:                 274   AIC:                             5900.\n",
      "Df Residuals:                     270   BIC:                             5915.\n",
      "Df Model:                           3                                         \n",
      "Covariance Type:            nonrobust                                         \n",
      "====================================================================================\n",
      "                       coef    std err          t      P>|t|      [0.025      0.975]\n",
      "------------------------------------------------------------------------------------\n",
      "Intercept          2.54e+04    560.202     45.334      0.000    2.43e+04    2.65e+04\n",
      "region_northeast  4277.6165   1215.368      3.520      0.001    1884.813    6670.420\n",
      "region_northwest  4796.0832   1287.490      3.725      0.000    2261.286    7330.880\n",
      "region_southeast  9449.0768   1081.812      8.734      0.000    7319.217    1.16e+04\n",
      "region_southwest  6873.1435   1287.490      5.338      0.000    4338.347    9407.940\n",
      "==============================================================================\n",
      "Omnibus:                       41.132   Durbin-Watson:                   1.755\n",
      "Prob(Omnibus):                  0.000   Jarque-Bera (JB):               11.294\n",
      "Skew:                           0.141   Prob(JB):                      0.00353\n",
      "Kurtosis:                       2.046   Cond. No.                     2.70e+16\n",
      "==============================================================================\n",
      "\n",
      "Notes:\n",
      "[1] Standard Errors assume that the covariance matrix of the errors is correctly specified.\n",
      "[2] The smallest eigenvalue is 4.73e-31. This might indicate that there are\n",
      "strong multicollinearity problems or that the design matrix is singular.\n"
     ]
    }
   ],
   "source": [
    "med_cost_DF4 = med_cost_DF2.loc[med_cost_DF2['smoker']=='yes']\n",
    "model_2 = sm.ols(formula='charges ~ region_northeast + region_northwest + region_southeast + region_southwest', data=med_cost_DF4)\n",
    "results = model_2.fit()\n",
    "print(results.params)\n",
    "\n",
    "print(results.summary())"
   ]
  },
  {
   "cell_type": "code",
   "execution_count": 40,
   "id": "c3b965e2-9f41-4aa0-bc85-eb890efae602",
   "metadata": {},
   "outputs": [
    {
     "name": "stdout",
     "output_type": "stream",
     "text": [
      "Intercept           6754.699242\n",
      "region_northeast    2410.832430\n",
      "region_northwest    1801.764473\n",
      "region_southeast    1277.517067\n",
      "region_southwest    1264.585271\n",
      "dtype: float64\n",
      "                            OLS Regression Results                            \n",
      "==============================================================================\n",
      "Dep. Variable:                charges   R-squared:                       0.006\n",
      "Model:                            OLS   Adj. R-squared:                  0.003\n",
      "Method:                 Least Squares   F-statistic:                     2.155\n",
      "Date:                Sun, 02 Jun 2024   Prob (F-statistic):             0.0917\n",
      "Time:                        19:10:08   Log-Likelihood:                -10761.\n",
      "No. Observations:                1064   AIC:                         2.153e+04\n",
      "Df Residuals:                    1060   BIC:                         2.155e+04\n",
      "Df Model:                           3                                         \n",
      "Covariance Type:            nonrobust                                         \n",
      "====================================================================================\n",
      "                       coef    std err          t      P>|t|      [0.025      0.975]\n",
      "------------------------------------------------------------------------------------\n",
      "Intercept         6754.6992    146.797     46.014      0.000    6466.654    7042.744\n",
      "region_northeast  2410.8324    324.267      7.435      0.000    1774.554    3047.111\n",
      "region_northwest  1801.7645    319.403      5.641      0.000    1175.031    2428.498\n",
      "region_southeast  1277.5171    316.622      4.035      0.000     656.240    1898.795\n",
      "region_southwest  1264.5853    319.403      3.959      0.000     637.852    1891.319\n",
      "==============================================================================\n",
      "Omnibus:                      317.847   Durbin-Watson:                   2.082\n",
      "Prob(Omnibus):                  0.000   Jarque-Bera (JB):              864.291\n",
      "Skew:                           1.538   Prob(JB):                    2.10e-188\n",
      "Kurtosis:                       6.167   Cond. No.                     1.01e+16\n",
      "==============================================================================\n",
      "\n",
      "Notes:\n",
      "[1] Standard Errors assume that the covariance matrix of the errors is correctly specified.\n",
      "[2] The smallest eigenvalue is 1.3e-29. This might indicate that there are\n",
      "strong multicollinearity problems or that the design matrix is singular.\n"
     ]
    }
   ],
   "source": [
    "med_cost_DF5=med_cost_DF2.loc[med_cost_DF2['smoker']=='no']\n",
    "model_2 = sm.ols(formula='charges ~ region_northeast + region_northwest + region_southeast + region_southwest', data=med_cost_DF5)\n",
    "results = model_2.fit()\n",
    "print(results.params)\n",
    "\n",
    "print(results.summary())"
   ]
  },
  {
   "cell_type": "code",
   "execution_count": null,
   "id": "c2aa88fb-7b6a-42a9-ba06-9dd2fb6119a0",
   "metadata": {},
   "outputs": [],
   "source": []
  }
 ],
 "metadata": {
  "kernelspec": {
   "display_name": "anaconda-2024.02-py310",
   "language": "python",
   "name": "conda-env-anaconda-2024.02-py310-py"
  },
  "language_info": {
   "codemirror_mode": {
    "name": "ipython",
    "version": 3
   },
   "file_extension": ".py",
   "mimetype": "text/x-python",
   "name": "python",
   "nbconvert_exporter": "python",
   "pygments_lexer": "ipython3",
   "version": "3.10.14"
  }
 },
 "nbformat": 4,
 "nbformat_minor": 5
}
