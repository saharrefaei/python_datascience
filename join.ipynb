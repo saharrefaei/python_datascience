{
 "cells": [
  {
   "cell_type": "code",
   "execution_count": null,
   "id": "6c273d65-b672-49c6-9014-68786d1d70a2",
   "metadata": {},
   "outputs": [],
   "source": [
    "\n",
    "| Join Type | Explanation | Output Rows |\n",
    "|-----------|-------------|-------------|\n",
    "| `inner`   | Only common rows | Only rows that are common in both DataFrames |\n",
    "| `outer`   | All rows | All rows from both DataFrames |\n",
    "| `left`    | Rows from left DataFrame | All rows from the left DataFrame and matching rows from the right DataFrame |\n",
    "| `right`   | Rows from right DataFrame | All rows from the right DataFrame and matching rows from the left DataFrame |\n",
    "| `cross`   | All rows | Mix all rows with out anz conditions |\n",
    "\n"
   ]
  },
  {
   "cell_type": "code",
   "execution_count": 25,
   "id": "32cfce0f-66db-4591-af3c-a3b9e4a7fa4a",
   "metadata": {},
   "outputs": [
    {
     "name": "stdout",
     "output_type": "stream",
     "text": [
      "            Sales_place_name  Mercedes  Ford  Tata  Renault\n",
      "Sales place                                                \n",
      "One                 Europe 1         2     3     9       12\n",
      "Two              Australia 1         4     0     3        1\n",
      "Three                  USA 1         0     0     4        0\n",
      "Four                  Asia 1         4     1     1        0\n",
      "Five                Africa 1         0     6     0        3\n",
      "Six          South America 1         3    12     0        1\n",
      "       Volvo  Tesla\n",
      "One        3      2\n",
      "Nine       4      8\n",
      "Three      0      0\n",
      "Six        0      1\n",
      "Seven      1      1\n",
      "Eight      3      4\n",
      "       N_Employees\n",
      "One             12\n",
      "Two             18\n",
      "Three           13\n",
      "Four            14\n",
      "Five             8\n",
      "Six             12\n",
      "Seven            3\n",
      "Eight            9\n",
      "Nine             4\n",
      "Ten             21\n"
     ]
    }
   ],
   "source": [
    "# Import Pandas library\n",
    "import pandas as pd\n",
    "# This is the basic Carsales DataFrame\n",
    "Cardata = { \"Mercedes\": [2, 4, 0, 4, 0, 3], \"Ford\": [3, 0, 0, 1, 6, 12], \"Tata\":[9, 3, 4, 1, 0, 0], \"Renault\":[12, 1, 0, 0, 3, 1]}\n",
    "Carsales = pd.DataFrame(Cardata)\n",
    "Carsales.index.rename(\"Sales place\", inplace=True)\n",
    "Carsales.rename(index={0: \"One\", 1: \"Two\", 2: \"Three\", 3: \"Four\", 4: \"Five\", 5: \"Six\"}, inplace=True)\n",
    "Carsales.insert(0, \"Sales_place_name\", [\"Europe 1\", \"Australia 1\", \"USA 1\", \"Asia 1\", \"Africa 1\", \"South America 1\"], allow_duplicates=False)\n",
    "print(Carsales)\n",
    "\n",
    "# This DataFrame contains two Carbrands columns which can be joined to the Carsales DataFrame, horizontally. \n",
    "Carsales2 = pd.DataFrame({\"Volvo\": [3, 4, 0, 0, 1, 3], \"Tesla\": [2, 8, 0, 1, 1, 4]})\n",
    "Carsales2.rename(index={0: \"One\", 1: \"Nine\", 2: \"Three\", 3: \"Six\", 4: \"Seven\", 5: \"Eight\"}, inplace=True)\n",
    "print(Carsales2)\n",
    "\n",
    "# This DataFrame contains a number of employees per sales place. It will be used to show how joins can be used for tables.\n",
    "Car_emp = pd.DataFrame({\"N_Employees\": [12, 18, 13, 14, 8, 12, 3, 9, 4, 21]})\n",
    "Car_emp.rename(index={0: \"One\", 1: \"Two\", 2: \"Three\", 3: \"Four\", 4: \"Five\", 5: \"Six\", 6: \"Seven\", 7: \"Eight\", 8: \"Nine\", 9: \"Ten\"}, inplace=True)\n",
    "print(Car_emp)\n"
   ]
  },
  {
   "cell_type": "code",
   "execution_count": 27,
   "id": "830dbf8a-9e36-47bd-890a-887e8916cf1a",
   "metadata": {},
   "outputs": [
    {
     "name": "stdout",
     "output_type": "stream",
     "text": [
      "            Sales_place_name  Mercedes  Ford  Tata  Renault  Volvo  Tesla\n",
      "Sales place                                                              \n",
      "One                 Europe 1         2     3     9       12    3.0    2.0\n",
      "Two              Australia 1         4     0     3        1    NaN    NaN\n",
      "Three                  USA 1         0     0     4        0    0.0    0.0\n",
      "Four                  Asia 1         4     1     1        0    NaN    NaN\n",
      "Five                Africa 1         0     6     0        3    NaN    NaN\n",
      "Six          South America 1         3    12     0        1    0.0    1.0\n"
     ]
    }
   ],
   "source": [
    "carseles5 =Carsales.join(Carsales2, how='left')\n",
    "print(carseles5)"
   ]
  },
  {
   "cell_type": "code",
   "execution_count": 29,
   "id": "7e6c5fa2-2d8f-4d7f-8442-bf4acb000927",
   "metadata": {},
   "outputs": [
    {
     "name": "stdout",
     "output_type": "stream",
     "text": [
      "      Sales_place_name  Mercedes  Ford  Tata  Renault  Volvo  Tesla\n",
      "One           Europe 1         2     3     9       12      3      2\n",
      "Three            USA 1         0     0     4        0      0      0\n",
      "Six    South America 1         3    12     0        1      0      1\n"
     ]
    }
   ],
   "source": [
    "carseles6 =Carsales.join(Carsales2, how='inner')\n",
    "print(carseles6)"
   ]
  },
  {
   "cell_type": "code",
   "execution_count": 31,
   "id": "c30a2860-e4a1-4ea7-a803-27f5d2792e07",
   "metadata": {},
   "outputs": [
    {
     "name": "stdout",
     "output_type": "stream",
     "text": [
      "      Sales_place_name  Mercedes  Ford  Tata  Renault  Volvo  Tesla\n",
      "One           Europe 1       2.0   3.0   9.0     12.0      3      2\n",
      "Nine               NaN       NaN   NaN   NaN      NaN      4      8\n",
      "Three            USA 1       0.0   0.0   4.0      0.0      0      0\n",
      "Six    South America 1       3.0  12.0   0.0      1.0      0      1\n",
      "Seven              NaN       NaN   NaN   NaN      NaN      1      1\n",
      "Eight              NaN       NaN   NaN   NaN      NaN      3      4\n"
     ]
    }
   ],
   "source": [
    "carseles7 =Carsales.join(Carsales2, how='right')\n",
    "print(carseles7)"
   ]
  },
  {
   "cell_type": "code",
   "execution_count": 33,
   "id": "ad860b3c-fc95-414b-b996-257922b15960",
   "metadata": {},
   "outputs": [
    {
     "name": "stdout",
     "output_type": "stream",
     "text": [
      "   Sales_place_name  Mercedes  Ford  Tata  Renault  Volvo  Tesla\n",
      "0          Europe 1         2     3     9       12      3      2\n",
      "1          Europe 1         2     3     9       12      4      8\n",
      "2          Europe 1         2     3     9       12      0      0\n",
      "3          Europe 1         2     3     9       12      0      1\n",
      "4          Europe 1         2     3     9       12      1      1\n",
      "5          Europe 1         2     3     9       12      3      4\n",
      "6       Australia 1         4     0     3        1      3      2\n",
      "7       Australia 1         4     0     3        1      4      8\n",
      "8       Australia 1         4     0     3        1      0      0\n",
      "9       Australia 1         4     0     3        1      0      1\n",
      "10      Australia 1         4     0     3        1      1      1\n",
      "11      Australia 1         4     0     3        1      3      4\n",
      "12            USA 1         0     0     4        0      3      2\n",
      "13            USA 1         0     0     4        0      4      8\n",
      "14            USA 1         0     0     4        0      0      0\n",
      "15            USA 1         0     0     4        0      0      1\n",
      "16            USA 1         0     0     4        0      1      1\n",
      "17            USA 1         0     0     4        0      3      4\n",
      "18           Asia 1         4     1     1        0      3      2\n",
      "19           Asia 1         4     1     1        0      4      8\n",
      "20           Asia 1         4     1     1        0      0      0\n",
      "21           Asia 1         4     1     1        0      0      1\n",
      "22           Asia 1         4     1     1        0      1      1\n",
      "23           Asia 1         4     1     1        0      3      4\n",
      "24         Africa 1         0     6     0        3      3      2\n",
      "25         Africa 1         0     6     0        3      4      8\n",
      "26         Africa 1         0     6     0        3      0      0\n",
      "27         Africa 1         0     6     0        3      0      1\n",
      "28         Africa 1         0     6     0        3      1      1\n",
      "29         Africa 1         0     6     0        3      3      4\n",
      "30  South America 1         3    12     0        1      3      2\n",
      "31  South America 1         3    12     0        1      4      8\n",
      "32  South America 1         3    12     0        1      0      0\n",
      "33  South America 1         3    12     0        1      0      1\n",
      "34  South America 1         3    12     0        1      1      1\n",
      "35  South America 1         3    12     0        1      3      4\n"
     ]
    }
   ],
   "source": [
    "carseles8 =Carsales.join(Carsales2, how='cross')\n",
    "print(carseles8)"
   ]
  },
  {
   "cell_type": "code",
   "execution_count": null,
   "id": "02c1aa82-f5e8-4889-b0dd-b650e0acff32",
   "metadata": {},
   "outputs": [],
   "source": []
  }
 ],
 "metadata": {
  "kernelspec": {
   "display_name": "anaconda-2024.02-py310",
   "language": "python",
   "name": "conda-env-anaconda-2024.02-py310-py"
  },
  "language_info": {
   "codemirror_mode": {
    "name": "ipython",
    "version": 3
   },
   "file_extension": ".py",
   "mimetype": "text/x-python",
   "name": "python",
   "nbconvert_exporter": "python",
   "pygments_lexer": "ipython3",
   "version": "3.10.14"
  }
 },
 "nbformat": 4,
 "nbformat_minor": 5
}
