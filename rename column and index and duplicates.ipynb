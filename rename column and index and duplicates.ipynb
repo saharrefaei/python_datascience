{
 "cells": [
  {
   "cell_type": "code",
   "execution_count": 49,
   "id": "3aa1ace4-fa74-4b49-9677-baee1698dbee",
   "metadata": {},
   "outputs": [
    {
     "name": "stdout",
     "output_type": "stream",
     "text": [
      "      Sales_place_name  Mercedes  Ford  Tata  Renault Rating Target\n",
      "One           Europe 1         2     3     9       12   high      Y\n",
      "Two        Australia 1         4     0     3        1   med.      Y\n",
      "Three            USA 1         0     0     4        0    low      Y\n",
      "Four            Asia 1         4     1     1        0    low      N\n",
      "Five          Africa 1         0     6     0        3   med.      N\n",
      "Six    South America 1         3    12     0        1   high      N\n",
      "Index(['Sales_place_name', 'Mercedes', 'Ford', 'Tata', 'Renault', 'Rating',\n",
      "       'Target'],\n",
      "      dtype='object')\n",
      "Index(['One', 'Two', 'Three', 'Four', 'Five', 'Six'], dtype='object')\n"
     ]
    }
   ],
   "source": [
    "import pandas as pd\n",
    "\n",
    "# This code will become the Carsales DataFrame extended with two more Sales places plus the \"Rating\" and \"Target\" columns.\n",
    "Cardata = { \"Mercedes\": [2, 4, 0, 4, 0, 3], \"Ford\": [3, 0, 0, 1, 6, 12], \"Tata\":[9, 3, 4, 1, 0, 0], \"Renault\":[12, 1, 0, 0, 3, 1], \"Rating\":[\"high\", \"med.\", \"low\", \"low\", \"med.\", \"high\"], \"Target\":[\"Y\", \"Y\", \"Y\", \"N\", \"N\", \"N\"]}\n",
    "Carsales = pd.DataFrame(Cardata)\n",
    "Carsales.rename(index={0: \"One\", 1: \"Two\", 2: \"Three\", 3: \"Four\", 4: \"Five\", 5: \"Six\"}, inplace=True)\n",
    "Carsales.insert(0, \"Sales_place_name\", [\"Europe 1\", \"Australia 1\", \"USA 1\", \"Asia 1\", \"Africa 1\", \"South America 1\"], allow_duplicates=True)\n",
    "\n",
    "print(Carsales)\n",
    "print(Carsales.columns)\n",
    "print(Carsales.index)"
   ]
  },
  {
   "cell_type": "code",
   "execution_count": 33,
   "id": "b1be0b1e-f09d-4697-9802-d79e45a0bf10",
   "metadata": {},
   "outputs": [
    {
     "name": "stdout",
     "output_type": "stream",
     "text": [
      "      Sales_place_name  Mazda  Ford  Tata  Renault Rating Target\n",
      "One           Europe 1      2     3     9       12   high      Y\n",
      "51         Australia 1      4     0     3        1   med.      Y\n",
      "Three            USA 1      0     0     4        0    low      Y\n",
      "Four            Asia 1      4     1     1        0    low      N\n",
      "Five          Africa 1      0     6     0        3   med.      N\n",
      "Six    South America 1      3    12     0        1   high      N\n"
     ]
    }
   ],
   "source": [
    "Carsales.rename(index={'Two': 51}, columns={'Mercedes': 'Mazda'}, inplace=True)\n",
    "print(Carsales)\n"
   ]
  },
  {
   "cell_type": "code",
   "execution_count": 51,
   "id": "4813a589-9651-4198-9ac9-05fe780eeba3",
   "metadata": {},
   "outputs": [
    {
     "name": "stdout",
     "output_type": "stream",
     "text": [
      "One      False\n",
      "Two      False\n",
      "Three    False\n",
      "Four      True\n",
      "Five      True\n",
      "Six      False\n",
      "dtype: bool\n"
     ]
    }
   ],
   "source": [
    "print(Carsales.duplicated(subset=['Mercedes']))\n"
   ]
  },
  {
   "cell_type": "code",
   "execution_count": 53,
   "id": "78d1b015-11f5-44fe-8be1-72cbd911ed06",
   "metadata": {},
   "outputs": [
    {
     "name": "stdout",
     "output_type": "stream",
     "text": [
      "One      False\n",
      "Two      False\n",
      "Three    False\n",
      "Four     False\n",
      "Five     False\n",
      "Six      False\n",
      "dtype: bool\n"
     ]
    }
   ],
   "source": [
    "print(Carsales.duplicated(subset=['Sales_place_name'] , keep =\"last\"))\n"
   ]
  },
  {
   "cell_type": "code",
   "execution_count": 55,
   "id": "0f3eb39f-c615-4ec8-b4e5-710f63bf95dc",
   "metadata": {},
   "outputs": [
    {
     "name": "stdout",
     "output_type": "stream",
     "text": [
      "One      False\n",
      "Two      False\n",
      "Three    False\n",
      "Four      True\n",
      "Five      True\n",
      "Six      False\n",
      "dtype: bool\n"
     ]
    }
   ],
   "source": [
    "print(Carsales.duplicated(subset=['Mercedes'] , keep =\"first\"))\n"
   ]
  },
  {
   "cell_type": "code",
   "execution_count": 59,
   "id": "fe75b4a5-5526-4dd5-abaa-567304a3ccdd",
   "metadata": {},
   "outputs": [
    {
     "name": "stdout",
     "output_type": "stream",
     "text": [
      "      Sales_place_name  Mercedes  Ford  Tata  Renault Rating Target\n",
      "One           Europe 1         2     3     9       12   high      Y\n",
      "Two        Australia 1         4     0     3        1   med.      Y\n",
      "Three            USA 1         0     0     4        0    low      Y\n",
      "Six    South America 1         3    12     0        1   high      N\n"
     ]
    }
   ],
   "source": [
    "print(Carsales.drop_duplicates(subset=['Mercedes'] , keep =\"first\")) #delete the duplicate with key 'Mercedes' , each value which is/are duplicate in 'Mercedes' , delete.\n"
   ]
  },
  {
   "cell_type": "code",
   "execution_count": 73,
   "id": "38061f12-1cc9-4d90-a8f5-6a173409e156",
   "metadata": {},
   "outputs": [
    {
     "name": "stdout",
     "output_type": "stream",
     "text": [
      "      Sales_place_name  Mercedes  Ford  Tata  Renault Rating Target\n",
      "One           Europe 1         2     3     9       12   high      Y\n",
      "Two        Australia 1         4     0     3        1   med.      Y\n",
      "Three            USA 1         0     0     4        0    low      Y\n",
      "Four            Asia 1         4     1     1        0    low      N\n",
      "Five          Africa 1         0     6     0        3   med.      N\n",
      "Six    South America 1         3    12     0        1   high      N\n"
     ]
    }
   ],
   "source": [
    "print(Carsales.drop_duplicates(subset=['Tata','Ford'], keep='first'))\n"
   ]
  },
  {
   "cell_type": "code",
   "execution_count": null,
   "id": "e6539411-2a61-47e0-902c-53fceb218a21",
   "metadata": {},
   "outputs": [],
   "source": []
  }
 ],
 "metadata": {
  "kernelspec": {
   "display_name": "anaconda-2024.02-py310",
   "language": "python",
   "name": "conda-env-anaconda-2024.02-py310-py"
  },
  "language_info": {
   "codemirror_mode": {
    "name": "ipython",
    "version": 3
   },
   "file_extension": ".py",
   "mimetype": "text/x-python",
   "name": "python",
   "nbconvert_exporter": "python",
   "pygments_lexer": "ipython3",
   "version": "3.10.14"
  }
 },
 "nbformat": 4,
 "nbformat_minor": 5
}
