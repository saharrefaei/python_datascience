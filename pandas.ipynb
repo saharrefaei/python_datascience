{
 "cells": [
  {
   "cell_type": "code",
   "execution_count": 22,
   "id": "f2e21028-0f93-4c9a-8498-e2318000fa37",
   "metadata": {},
   "outputs": [
    {
     "name": "stdout",
     "output_type": "stream",
     "text": [
      "       mercedas  bmw  ford  reno\n",
      "index                           \n",
      "one           1    5     7     4\n",
      "1             5    8     8     9\n",
      "2             3    2     9     1\n",
      "3             5    6     1     4\n",
      "4             3    5     0     7\n"
     ]
    }
   ],
   "source": [
    "import pandas as pd\n",
    "\n",
    "cardata ={'mercedas':[1,5,3,5,3],'bmw':[5,8,2,6,5],'ford':[7,8,9,1,0],'reno':[4,9,1,4,7]}\n",
    "carcatalog=pd.DataFrame(cardata) \n",
    "carcatalog.index.rename(name='index',inplace=True) #rename the index name to 'index'\n",
    "carcatalog.rename(index={0:'one'},inplace=True) #rename the unique index to the unique name\n",
    "print(carcatalog)"
   ]
  },
  {
   "cell_type": "code",
   "execution_count": 7,
   "id": "3fd83657-a95b-4dda-bea6-e387385f84ac",
   "metadata": {},
   "outputs": [],
   "source": [
    "carcatalog.to_csv(\"example.csv\") #add the Data frame into the csv file"
   ]
  },
  {
   "cell_type": "code",
   "execution_count": 20,
   "id": "69655069-40d8-40d2-8b8a-3387f8e90d2a",
   "metadata": {},
   "outputs": [
    {
     "name": "stdout",
     "output_type": "stream",
     "text": [
      "             mercedas  bmw  ford  reno\n",
      "sales place                           \n",
      "ono                 1    5     7     4\n",
      "1                   5    8     8     9\n",
      "2                   3    2     9     1\n",
      "3                   5    6     1     4\n",
      "4                   3    5     0     7\n"
     ]
    }
   ],
   "source": [
    "carcatalog_Csvfile = pd.read_csv(\"example.csv\",index_col = 0) # read from the index column 0\n",
    "carcatalog_Csvfile.index.rename(name='sales place',inplace=True)\n",
    "print(carcatalog_file)"
   ]
  },
  {
   "cell_type": "code",
   "execution_count": 71,
   "id": "8bffa9aa-c7cf-4eaa-a051-bb1be8cb5a46",
   "metadata": {},
   "outputs": [
    {
     "name": "stdout",
     "output_type": "stream",
     "text": [
      "index\n",
      "one    5\n",
      "1      8\n",
      "2      2\n",
      "3      6\n",
      "4      5\n",
      "Name: bmw, dtype: int64   index  mercedas  bmw  ford  reno\n",
      "0   one         1    5     7     4\n",
      "1     1         5    8     8     9\n",
      "2     2         3    2     9     1\n",
      "3     3         5    6     1     4\n",
      "4     4         3    5     0     7        mercedas  bmw  ford  reno\n",
      "index                           \n",
      "one           1    5     7     4\n",
      "1             5    8     8     9\n",
      "2             3    2     9     1\n",
      "3             5    6     1     4\n",
      "4             3    5     0     7\n"
     ]
    }
   ],
   "source": [
    "carcatalog.to_excel(\"excelexmple.xlsx\") #add the Data frame into the excel file\n",
    "carcatalog_Csvexcel = pd.read_excel(\"excelexmple.xlsx\") #read from the excel file\n",
    "carcatalog_Csvexcel1 = pd.read_excel(\"excelexmple.xlsx\", index_col = 0) #read from the excel file from first column\n",
    "desiredatas=carcatalog_Csvexcel1['bmw'] #show the only bmw datas\n",
    "\n",
    "print(desiredatas , carcatalog_Csvexcel ,carcatalog_Csvexcel1 ) "
   ]
  },
  {
   "cell_type": "code",
   "execution_count": 101,
   "id": "a9f9c9f4-0d92-4e35-af0f-ae0e5272f0c7",
   "metadata": {},
   "outputs": [
    {
     "name": "stdout",
     "output_type": "stream",
     "text": [
      "       mercedas  bmw  ford  reno\n",
      "index                           \n",
      "one           1    5     7     4\n",
      "1             5    8     8     9\n",
      "2             3    2     9     1\n",
      "3             5    6     1     4\n",
      "4             3    5     0     7\n"
     ]
    }
   ],
   "source": [
    "import sqlite3 as sql\n",
    "connection =sql.connect(\"carcatalog.db\") # make connection to database with the desire name\n",
    "carcatalog.to_sql(\"carcatalog_table\",connection , if_exists = \"replace\") # add the carcatalog into the database with the desire table name\n",
    "carcatalog_DB = pd.read_sql_query(\" SELECT * FROM carcatalog_table\" ,connection )# get all datas from database\n",
    "carcatalog_DB=carcatalog_DB.set_index(\"index\")\n",
    "print(carcatalog_DB)"
   ]
  },
  {
   "cell_type": "code",
   "execution_count": 121,
   "id": "5b7c5538-920f-4573-8fb1-1324ebfafe3c",
   "metadata": {},
   "outputs": [
    {
     "name": "stdout",
     "output_type": "stream",
     "text": [
      "<class 'pandas.core.frame.DataFrame'>\n",
      "Index: 5 entries, one to 4\n",
      "Data columns (total 4 columns):\n",
      " #   Column    Non-Null Count  Dtype\n",
      "---  ------    --------------  -----\n",
      " 0   mercedas  5 non-null      int64\n",
      " 1   bmw       5 non-null      int64\n",
      " 2   ford      5 non-null      int64\n",
      " 3   reno      5 non-null      int64\n",
      "dtypes: int64(4)\n",
      "memory usage: 372.0+ bytes\n",
      "None\n",
      "<class 'pandas.core.series.Series'>\n",
      "Index: 5 entries, one to 4\n",
      "Series name: bmw\n",
      "Non-Null Count  Dtype\n",
      "--------------  -----\n",
      "5 non-null      int64\n",
      "dtypes: int64(1)\n",
      "memory usage: 252.0+ bytes\n",
      "None\n",
      "1\n"
     ]
    }
   ],
   "source": [
    "print(carcatalog.info()) #show\n",
    "print(carcatalog['bmw'].info())\n",
    "print(carcatalog.loc[2,\"reno\"]) #find the value of index 2 of the reno"
   ]
  },
  {
   "cell_type": "code",
   "execution_count": 178,
   "id": "40b94859-7ea8-4dd7-af71-50de8c7541ee",
   "metadata": {
    "scrolled": true
   },
   "outputs": [
    {
     "ename": "FileNotFoundError",
     "evalue": "[Errno 2] No such file or directory: 'image.jpg'",
     "output_type": "error",
     "traceback": [
      "\u001b[0;31m---------------------------------------------------------------------------\u001b[0m",
      "\u001b[0;31mFileNotFoundError\u001b[0m                         Traceback (most recent call last)",
      "Cell \u001b[0;32mIn[178], line 15\u001b[0m\n\u001b[1;32m     12\u001b[0m \u001b[38;5;28;01mfrom\u001b[39;00m \u001b[38;5;21;01mIPython\u001b[39;00m\u001b[38;5;21;01m.\u001b[39;00m\u001b[38;5;21;01mdisplay\u001b[39;00m \u001b[38;5;28;01mimport\u001b[39;00m Image, HTML, Video, Audio, Markdown, Javascript, JSON\n\u001b[1;32m     14\u001b[0m \u001b[38;5;66;03m# Display an image\u001b[39;00m\n\u001b[0;32m---> 15\u001b[0m \u001b[43mImage\u001b[49m\u001b[43m(\u001b[49m\u001b[43mfilename\u001b[49m\u001b[38;5;241;43m=\u001b[39;49m\u001b[38;5;124;43m'\u001b[39;49m\u001b[38;5;124;43mimage.jpg\u001b[39;49m\u001b[38;5;124;43m'\u001b[39;49m\u001b[43m)\u001b[49m\n\u001b[1;32m     17\u001b[0m \u001b[38;5;66;03m# Display HTML content\u001b[39;00m\n\u001b[1;32m     18\u001b[0m HTML(\u001b[38;5;124m'\u001b[39m\u001b[38;5;124m<h1>Hello, <i>world</i>!</h1>\u001b[39m\u001b[38;5;124m'\u001b[39m)\n",
      "File \u001b[0;32m/opt/conda/envs/anaconda-2024.02-py310/lib/python3.10/site-packages/IPython/core/display.py:970\u001b[0m, in \u001b[0;36mImage.__init__\u001b[0;34m(self, data, url, filename, format, embed, width, height, retina, unconfined, metadata, alt)\u001b[0m\n\u001b[1;32m    968\u001b[0m \u001b[38;5;28mself\u001b[39m\u001b[38;5;241m.\u001b[39munconfined \u001b[38;5;241m=\u001b[39m unconfined\n\u001b[1;32m    969\u001b[0m \u001b[38;5;28mself\u001b[39m\u001b[38;5;241m.\u001b[39malt \u001b[38;5;241m=\u001b[39m alt\n\u001b[0;32m--> 970\u001b[0m \u001b[38;5;28;43msuper\u001b[39;49m\u001b[43m(\u001b[49m\u001b[43mImage\u001b[49m\u001b[43m,\u001b[49m\u001b[43m \u001b[49m\u001b[38;5;28;43mself\u001b[39;49m\u001b[43m)\u001b[49m\u001b[38;5;241;43m.\u001b[39;49m\u001b[38;5;21;43m__init__\u001b[39;49m\u001b[43m(\u001b[49m\u001b[43mdata\u001b[49m\u001b[38;5;241;43m=\u001b[39;49m\u001b[43mdata\u001b[49m\u001b[43m,\u001b[49m\u001b[43m \u001b[49m\u001b[43murl\u001b[49m\u001b[38;5;241;43m=\u001b[39;49m\u001b[43murl\u001b[49m\u001b[43m,\u001b[49m\u001b[43m \u001b[49m\u001b[43mfilename\u001b[49m\u001b[38;5;241;43m=\u001b[39;49m\u001b[43mfilename\u001b[49m\u001b[43m,\u001b[49m\n\u001b[1;32m    971\u001b[0m \u001b[43m        \u001b[49m\u001b[43mmetadata\u001b[49m\u001b[38;5;241;43m=\u001b[39;49m\u001b[43mmetadata\u001b[49m\u001b[43m)\u001b[49m\n\u001b[1;32m    973\u001b[0m \u001b[38;5;28;01mif\u001b[39;00m \u001b[38;5;28mself\u001b[39m\u001b[38;5;241m.\u001b[39mwidth \u001b[38;5;129;01mis\u001b[39;00m \u001b[38;5;28;01mNone\u001b[39;00m \u001b[38;5;129;01mand\u001b[39;00m \u001b[38;5;28mself\u001b[39m\u001b[38;5;241m.\u001b[39mmetadata\u001b[38;5;241m.\u001b[39mget(\u001b[38;5;124m'\u001b[39m\u001b[38;5;124mwidth\u001b[39m\u001b[38;5;124m'\u001b[39m, {}):\n\u001b[1;32m    974\u001b[0m     \u001b[38;5;28mself\u001b[39m\u001b[38;5;241m.\u001b[39mwidth \u001b[38;5;241m=\u001b[39m metadata[\u001b[38;5;124m'\u001b[39m\u001b[38;5;124mwidth\u001b[39m\u001b[38;5;124m'\u001b[39m]\n",
      "File \u001b[0;32m/opt/conda/envs/anaconda-2024.02-py310/lib/python3.10/site-packages/IPython/core/display.py:327\u001b[0m, in \u001b[0;36mDisplayObject.__init__\u001b[0;34m(self, data, url, filename, metadata)\u001b[0m\n\u001b[1;32m    324\u001b[0m \u001b[38;5;28;01melif\u001b[39;00m \u001b[38;5;28mself\u001b[39m\u001b[38;5;241m.\u001b[39mmetadata \u001b[38;5;129;01mis\u001b[39;00m \u001b[38;5;28;01mNone\u001b[39;00m:\n\u001b[1;32m    325\u001b[0m     \u001b[38;5;28mself\u001b[39m\u001b[38;5;241m.\u001b[39mmetadata \u001b[38;5;241m=\u001b[39m {}\n\u001b[0;32m--> 327\u001b[0m \u001b[38;5;28;43mself\u001b[39;49m\u001b[38;5;241;43m.\u001b[39;49m\u001b[43mreload\u001b[49m\u001b[43m(\u001b[49m\u001b[43m)\u001b[49m\n\u001b[1;32m    328\u001b[0m \u001b[38;5;28mself\u001b[39m\u001b[38;5;241m.\u001b[39m_check_data()\n",
      "File \u001b[0;32m/opt/conda/envs/anaconda-2024.02-py310/lib/python3.10/site-packages/IPython/core/display.py:1005\u001b[0m, in \u001b[0;36mImage.reload\u001b[0;34m(self)\u001b[0m\n\u001b[1;32m   1003\u001b[0m \u001b[38;5;250m\u001b[39m\u001b[38;5;124;03m\"\"\"Reload the raw data from file or URL.\"\"\"\u001b[39;00m\n\u001b[1;32m   1004\u001b[0m \u001b[38;5;28;01mif\u001b[39;00m \u001b[38;5;28mself\u001b[39m\u001b[38;5;241m.\u001b[39membed:\n\u001b[0;32m-> 1005\u001b[0m     \u001b[38;5;28;43msuper\u001b[39;49m\u001b[43m(\u001b[49m\u001b[43mImage\u001b[49m\u001b[43m,\u001b[49m\u001b[38;5;28;43mself\u001b[39;49m\u001b[43m)\u001b[49m\u001b[38;5;241;43m.\u001b[39;49m\u001b[43mreload\u001b[49m\u001b[43m(\u001b[49m\u001b[43m)\u001b[49m\n\u001b[1;32m   1006\u001b[0m     \u001b[38;5;28;01mif\u001b[39;00m \u001b[38;5;28mself\u001b[39m\u001b[38;5;241m.\u001b[39mretina:\n\u001b[1;32m   1007\u001b[0m         \u001b[38;5;28mself\u001b[39m\u001b[38;5;241m.\u001b[39m_retina_shape()\n",
      "File \u001b[0;32m/opt/conda/envs/anaconda-2024.02-py310/lib/python3.10/site-packages/IPython/core/display.py:353\u001b[0m, in \u001b[0;36mDisplayObject.reload\u001b[0;34m(self)\u001b[0m\n\u001b[1;32m    351\u001b[0m \u001b[38;5;28;01mif\u001b[39;00m \u001b[38;5;28mself\u001b[39m\u001b[38;5;241m.\u001b[39mfilename \u001b[38;5;129;01mis\u001b[39;00m \u001b[38;5;129;01mnot\u001b[39;00m \u001b[38;5;28;01mNone\u001b[39;00m:\n\u001b[1;32m    352\u001b[0m     encoding \u001b[38;5;241m=\u001b[39m \u001b[38;5;28;01mNone\u001b[39;00m \u001b[38;5;28;01mif\u001b[39;00m \u001b[38;5;124m\"\u001b[39m\u001b[38;5;124mb\u001b[39m\u001b[38;5;124m\"\u001b[39m \u001b[38;5;129;01min\u001b[39;00m \u001b[38;5;28mself\u001b[39m\u001b[38;5;241m.\u001b[39m_read_flags \u001b[38;5;28;01melse\u001b[39;00m \u001b[38;5;124m\"\u001b[39m\u001b[38;5;124mutf-8\u001b[39m\u001b[38;5;124m\"\u001b[39m\n\u001b[0;32m--> 353\u001b[0m     \u001b[38;5;28;01mwith\u001b[39;00m \u001b[38;5;28;43mopen\u001b[39;49m\u001b[43m(\u001b[49m\u001b[38;5;28;43mself\u001b[39;49m\u001b[38;5;241;43m.\u001b[39;49m\u001b[43mfilename\u001b[49m\u001b[43m,\u001b[49m\u001b[43m \u001b[49m\u001b[38;5;28;43mself\u001b[39;49m\u001b[38;5;241;43m.\u001b[39;49m\u001b[43m_read_flags\u001b[49m\u001b[43m,\u001b[49m\u001b[43m \u001b[49m\u001b[43mencoding\u001b[49m\u001b[38;5;241;43m=\u001b[39;49m\u001b[43mencoding\u001b[49m\u001b[43m)\u001b[49m \u001b[38;5;28;01mas\u001b[39;00m f:\n\u001b[1;32m    354\u001b[0m         \u001b[38;5;28mself\u001b[39m\u001b[38;5;241m.\u001b[39mdata \u001b[38;5;241m=\u001b[39m f\u001b[38;5;241m.\u001b[39mread()\n\u001b[1;32m    355\u001b[0m \u001b[38;5;28;01melif\u001b[39;00m \u001b[38;5;28mself\u001b[39m\u001b[38;5;241m.\u001b[39murl \u001b[38;5;129;01mis\u001b[39;00m \u001b[38;5;129;01mnot\u001b[39;00m \u001b[38;5;28;01mNone\u001b[39;00m:\n\u001b[1;32m    356\u001b[0m     \u001b[38;5;66;03m# Deferred import\u001b[39;00m\n",
      "\u001b[0;31mFileNotFoundError\u001b[0m: [Errno 2] No such file or directory: 'image.jpg'"
     ]
    }
   ],
   "source": [
    "from IPython.display import display\n",
    "carcatalog_new = pd.concat([carcatalog]*5000,ignore_index = True ) # make 5000 sample data\n",
    "carcatalog_new_head = carcatalog_new.head() # returns the first 5 rows of the DataFrame (5 is defult)\n",
    "carcatalog_new_head20 = carcatalog_new.head(20)# returns the first 20 rows of the DataFrame \n",
    "carcatalog_new_last = carcatalog_new.tail(8)# returns the last 8 rows of the DataFrame \n",
    "carcatalog_new_bylocation = carcatalog_new.iloc[3500:4900,:]# returns data from 3500 untill 4900 of the DataFrame\n",
    "carcatalog_newstring = carcatalog_new.to_string() # convert to string\n",
    "# for row in carcatalog_new.itertuples() : #convert all data into tupels\n",
    "    # print(row)\n",
    "pd.set_option(\"display.max_rows\",None) #dispaly the Dataframe with better dispaly \n",
    "display(carcatalog_new)\n"
   ]
  },
  {
   "cell_type": "code",
   "execution_count": null,
   "id": "18b606ca-cb50-44f5-83a1-61fe0f2ae720",
   "metadata": {},
   "outputs": [],
   "source": []
  }
 ],
 "metadata": {
  "kernelspec": {
   "display_name": "anaconda-2024.02-py310",
   "language": "python",
   "name": "conda-env-anaconda-2024.02-py310-py"
  },
  "language_info": {
   "codemirror_mode": {
    "name": "ipython",
    "version": 3
   },
   "file_extension": ".py",
   "mimetype": "text/x-python",
   "name": "python",
   "nbconvert_exporter": "python",
   "pygments_lexer": "ipython3",
   "version": "3.10.14"
  }
 },
 "nbformat": 4,
 "nbformat_minor": 5
}
