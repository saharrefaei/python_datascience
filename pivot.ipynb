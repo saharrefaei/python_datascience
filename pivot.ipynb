{
 "cells": [
  {
   "cell_type": "code",
   "execution_count": null,
   "id": "92a93fab-0007-494a-848f-6ad84ee5f76f",
   "metadata": {},
   "outputs": [],
   "source": [
    "# تابع `pivot` در `pandas` برای تغییر شکل (reshape) داده‌ها مفید است، به ویژه زمانی که می‌خواهید داده‌ها را بر اساس مقادیر یک ستون به عنوان ستون‌های جدید و یک ستون دیگر به عنوان سطرهای جدید دسته‌بندی کنید. این تابع معمولاً زمانی مورد استفاده قرار می‌گیرد که می‌خواهید داده‌هایتان را برای تحلیل یا نمایش به شکل دیگری مرتب کنید.\n",
    "\n",
    "# برخی از موارد استفاده از تابع `pivot` شامل موارد زیر می‌شود:\n",
    "\n",
    "# 1. **تجزیه و تحلیل داده‌ها:** زمانی که می‌خواهید داده‌هایتان را بر اساس ویژگی‌های خاصی مانند نوع، محل یا زمان دسته‌بندی کنید، می‌توانید از تابع `pivot` استفاده کنید تا داده‌ها به شکلی جدید مرتب شوند که بتوانید الگوها و روندهای جدید را بررسی کنید.\n",
    "\n",
    "# 2. **نمایش داده‌ها:** تابع `pivot` به شما امکان می‌دهد داده‌ها را به شکل دلخواهی نمایش دهید، ممکن است برای نمایش داده‌های پیچیده به صورت ساده‌تر یا برای ایجاد گزارش‌ها و نمودارها استفاده شود.\n",
    "\n",
    "# 3. **پیش‌پردازش داده:** گاهی اوقات داده‌هایتان به شکلی نیاز دارند که متناسب با یک الگوی خاص در آنالیز داده‌ها قرار بگیرند، استفاده از `pivot` می‌تواند برای پیش‌پردازش داده‌ها قبل از انجام محاسبات یا مدل‌سازی مفید باشد.\n",
    "\n",
    "# 4. **محاسبات تجمعی (Aggregation):** زمانی که می‌خواهید مقادیر را بر اساس یک یا چند ویژگی دیگر تجمیع کنید، می‌توانید از `pivot` استفاده کنید تا مقادیر را به شکل مناسبی محاسبه و نمایش دهید.\n",
    "\n",
    "# مثال‌هایی از موارد استفاده از تابع `pivot` شامل نمایش فروش محصولات در مناطق مختلف به صورت مقابله‌ای، تجزیه و تحلیل اطلاعات درآمد بر اساس سن و جنسیت، نمایش داده‌های درخواست‌های وب بر اساس زمان و سایر موارد می‌باشد."
   ]
  },
  {
   "cell_type": "code",
   "execution_count": 53,
   "id": "ccc6eecd-a959-4fa6-9709-5804bed93027",
   "metadata": {},
   "outputs": [
    {
     "name": "stdout",
     "output_type": "stream",
     "text": [
      "      Sales_place_name  Mercedes  Ford  Tata  Renault Rating Target\n",
      "Seven  South America 1         3     2     1        1    low      N\n",
      "Eight           Asia 1         4     1     1        0    low      N\n"
     ]
    }
   ],
   "source": [
    "import pandas as pd\n",
    "\n",
    "# This code will become the Carsales DataFrame extended with two more Sales places plus the \"Rating\" and \"Target\" columns.\n",
    "Cardata = { \"Mercedes\": [2, 4, 0, 4, 0, 3], \"Ford\": [3, 0, 0, 1, 6, 12], \"Tata\":[9, 3, 4, 1, 0, 0], \"Renault\":[12, 1, 0, 0, 3, 1], \"Rating\":[\"high\", \"med.\", \"low\", \"low\", \"med.\", \"high\"], \"Target\":[\"Y\", \"Y\", \"Y\", \"N\", \"N\", \"N\"]}\n",
    "Carsales = pd.DataFrame(Cardata)\n",
    "Carsales.rename(index={0: \"One\", 1: \"Two\", 2: \"Three\", 3: \"Four\", 4: \"Five\", 5: \"Six\"}, inplace=True)\n",
    "Carsales.insert(0, \"Sales_place_name\", [\"Europe 1\", \"Australia 1\", \"USA 1\", \"Asia 1\", \"Africa 1\", \"South America 1\"], allow_duplicates=True)\n",
    "Carsales2 = pd.DataFrame({\"Sales_place_name\": [\"South America 1\", \"Asia 1\"], \"Mercedes\": [3, 4], \"Ford\": [2, 1], \"Tata\": [1, 1], \"Renault\": [1, 0], \"Rating\": [\"low\", \"low\"], \"Target\":[\"N\", \"N\"]})\n",
    "Carsales2.rename(index={0: \"Seven\", 1: \"Eight\"}, inplace=True)\n",
    "Carsales3 = pd.concat([Carsales, Carsales2])\n",
    "Carsales3.index.rename(\"Sales place\", inplace=True)\n",
    "\n",
    "print(Carsales2)\n"
   ]
  },
  {
   "cell_type": "code",
   "execution_count": 59,
   "id": "ed0b7e7f-bd41-4b94-99b3-d65d005d9847",
   "metadata": {},
   "outputs": [
    {
     "name": "stdout",
     "output_type": "stream",
     "text": [
      "None\n"
     ]
    }
   ],
   "source": [
    "carsels4=Carsales3.transpose() #change the row and columns\n",
    "print(carsels4)"
   ]
  },
  {
   "cell_type": "code",
   "execution_count": 16,
   "id": "21e262ad-82a2-4918-bbee-d883ce80371a",
   "metadata": {},
   "outputs": [
    {
     "name": "stdout",
     "output_type": "stream",
     "text": [
      "Rating            high  low  med.\n",
      "Sales_place_name                 \n",
      "Africa 1           NaN  NaN   0.0\n",
      "Asia 1             NaN  4.0   NaN\n",
      "Australia 1        NaN  NaN   4.0\n",
      "Europe 1           2.0  NaN   NaN\n",
      "South America 1    3.0  NaN   NaN\n",
      "USA 1              NaN  0.0   NaN\n"
     ]
    }
   ],
   "source": [
    "Carsales6=Carsales.pivot(index='Sales_place_name',columns='Rating',values='Mercedes')#the first column is (index header) Rating and the Rating values are the column title's . \n",
    "#the indexes are the Sales_place_name's value and the value of index's is the value of Mercedes\n",
    "print(Carsales6)"
   ]
  },
  {
   "cell_type": "code",
   "execution_count": 20,
   "id": "554e726d-46fa-4ed4-be2e-cfe24328365c",
   "metadata": {},
   "outputs": [
    {
     "name": "stdout",
     "output_type": "stream",
     "text": [
      "                 Mercedes            Ford          \n",
      "Rating               high  low med.  high  low med.\n",
      "Sales_place_name                                   \n",
      "Africa 1              NaN  NaN  0.0   NaN  NaN  6.0\n",
      "Asia 1                NaN  4.0  NaN   NaN  1.0  NaN\n",
      "Australia 1           NaN  NaN  4.0   NaN  NaN  0.0\n",
      "Europe 1              2.0  NaN  NaN   3.0  NaN  NaN\n",
      "South America 1       3.0  NaN  NaN  12.0  NaN  NaN\n",
      "USA 1                 NaN  0.0  NaN   NaN  0.0  NaN\n"
     ]
    }
   ],
   "source": [
    "Carsales7=Carsales.pivot(index='Sales_place_name',columns='Rating',values=['Mercedes','Ford'])\n",
    "print(Carsales7)"
   ]
  },
  {
   "cell_type": "code",
   "execution_count": 28,
   "id": "7f96a145-cf4d-409c-ba19-9dae40f9b43a",
   "metadata": {},
   "outputs": [
    {
     "name": "stdout",
     "output_type": "stream",
     "text": [
      "Rating  high  low  med.\n",
      "Target                 \n",
      "N          3    4     0\n",
      "Y          2    0     4\n"
     ]
    }
   ],
   "source": [
    "Carsales8=Carsales.pivot(index='Target',columns='Rating',values='Mercedes')\n",
    "print(Carsales8)\n",
    "# (columns) |    (columns value)   |  (columns value)     |  (columns value)       |\n",
    "# ----------------------------------------------\n",
    "# (index) |\n",
    "# --------------------------------------------- \n",
    "#  (index value)   | (values value)\n",
    "#    (index value) | (values value)\n",
    "    \n",
    "    \n"
   ]
  },
  {
   "cell_type": "code",
   "execution_count": 35,
   "id": "7b994acb-ad70-478b-90c3-4f27eab8b13c",
   "metadata": {},
   "outputs": [
    {
     "name": "stdout",
     "output_type": "stream",
     "text": [
      "       Sales_place_name              Mercedes    Ford    Tata    Renault    \n",
      "Target                N            Y        N  Y    N  Y    N  Y       N   Y\n",
      "Rating                                                                      \n",
      "high    South America 1     Europe 1        3  2   12  3    0  9       1  12\n",
      "low              Asia 1        USA 1        4  0    1  0    1  4       0   0\n",
      "med.           Africa 1  Australia 1        0  4    6  0    0  3       3   1\n"
     ]
    }
   ],
   "source": [
    "Carsales9=Carsales.pivot(columns='Target',index='Rating')\n",
    "print(Carsales9)"
   ]
  },
  {
   "cell_type": "code",
   "execution_count": 49,
   "id": "6c4dc3d1-ab90-4226-825b-518a308ec08a",
   "metadata": {},
   "outputs": [
    {
     "name": "stdout",
     "output_type": "stream",
     "text": [
      "None\n"
     ]
    }
   ],
   "source": [
    "Carsales10=Carsales.pivot_table(columns='Target',index='Rating',values=['Mercedes','Ford','Tata'])\n",
    "print(Carsales10)"
   ]
  },
  {
   "cell_type": "code",
   "execution_count": 61,
   "id": "2a0d2c60-b2ac-4a75-93e6-5a711ca6efc0",
   "metadata": {},
   "outputs": [
    {
     "name": "stdout",
     "output_type": "stream",
     "text": [
      "Original DataFrame:\n",
      "      Month  Source_1  Source_2  Source_3\n",
      "0   January      1000       900       800\n",
      "1  February      1200      1100      1000\n",
      "2     March      1100      1000       900\n",
      "3     April      1300      1200      1100\n",
      "\n",
      "Melted DataFrame:\n",
      "       Month    Source  Income\n",
      "0    January  Source_1    1000\n",
      "1   February  Source_1    1200\n",
      "2      March  Source_1    1100\n",
      "3      April  Source_1    1300\n",
      "4    January  Source_2     900\n",
      "5   February  Source_2    1100\n",
      "6      March  Source_2    1000\n",
      "7      April  Source_2    1200\n",
      "8    January  Source_3     800\n",
      "9   February  Source_3    1000\n",
      "10     March  Source_3     900\n",
      "11     April  Source_3    1100\n"
     ]
    }
   ],
   "source": [
    "import pandas as pd\n",
    "\n",
    "# داده‌های نمونه\n",
    "data = {\n",
    "    'Month': ['January', 'February', 'March', 'April'],\n",
    "    'Source_1': [1000, 1200, 1100, 1300],\n",
    "    'Source_2': [900, 1100, 1000, 1200],\n",
    "    'Source_3': [800, 1000, 900, 1100]\n",
    "}\n",
    "\n",
    "# ساخت DataFrame\n",
    "income_data = pd.DataFrame(data)\n",
    "print(\"Original DataFrame:\")\n",
    "print(income_data)\n",
    "\n",
    "# تبدیل داده‌ها به فرمت بلند\n",
    "melted_data = pd.melt(income_data, id_vars=['Month'], var_name='Source', value_name='Income')\n",
    "print(\"\\nMelted DataFrame:\")\n",
    "print(melted_data)\n"
   ]
  },
  {
   "cell_type": "code",
   "execution_count": null,
   "id": "2ce64c08-910d-47a5-8518-4b0b46df0345",
   "metadata": {},
   "outputs": [],
   "source": []
  }
 ],
 "metadata": {
  "kernelspec": {
   "display_name": "anaconda-2024.02-py310",
   "language": "python",
   "name": "conda-env-anaconda-2024.02-py310-py"
  },
  "language_info": {
   "codemirror_mode": {
    "name": "ipython",
    "version": 3
   },
   "file_extension": ".py",
   "mimetype": "text/x-python",
   "name": "python",
   "nbconvert_exporter": "python",
   "pygments_lexer": "ipython3",
   "version": "3.10.14"
  }
 },
 "nbformat": 4,
 "nbformat_minor": 5
}
