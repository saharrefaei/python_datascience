{
 "cells": [
  {
   "cell_type": "code",
   "execution_count": 1,
   "id": "bf0b0463-dbf7-4e7d-910e-ecefc0e05076",
   "metadata": {},
   "outputs": [
    {
     "name": "stdout",
     "output_type": "stream",
     "text": [
      "       Mercedes  Ford  Tata  Renault\n",
      "One           2     3     9       12\n",
      "Two           4     0     3        1\n",
      "Three         0   132     4        0\n",
      "Four          4    54     1        0\n",
      "Five          0     6     0        3\n",
      "Six           3   132     0        1\n"
     ]
    }
   ],
   "source": [
    "# Create three Pandas DataFrames\n",
    "import pandas as pd\n",
    "\n",
    "# This is the basic Carsales DataFrame extended with two more Sales places plus the index column transformed to a feature column.\n",
    "Cardata = { \"Mercedes\": [2, 4, 0, 4, 0, 3], \"Ford\": [3, 0, 132, 54, 6, 132], \"Tata\":[9, 3, 4, 1, 0, 0], \"Renault\":[12, 1, 0, 0, 3, 1]}\n",
    "Carsales = pd.DataFrame(Cardata)\n",
    "Carsales.rename(index={0: \"One\", 1: \"Two\", 2: \"Three\", 3: \"Four\", 4: \"Five\", 5: \"Six\"}, inplace=True)\n",
    "\n",
    "print(Carsales)"
   ]
  },
  {
   "cell_type": "code",
   "execution_count": 5,
   "id": "dc9249b8-f152-4799-8e34-4776eda0a1a7",
   "metadata": {},
   "outputs": [
    {
     "name": "stdout",
     "output_type": "stream",
     "text": [
      "     Mercedes  Ford  Tata  Renault\n",
      "sum        13   327    17       17\n",
      "min         0     0     0        0\n",
      "max         4   132     9       12\n"
     ]
    }
   ],
   "source": [
    "print(Carsales.agg(['sum','min','max']))"
   ]
  },
  {
   "cell_type": "code",
   "execution_count": 11,
   "id": "2717671e-6439-48d7-8271-2d32382cc476",
   "metadata": {},
   "outputs": [
    {
     "name": "stdout",
     "output_type": "stream",
     "text": [
      "         Ford\n",
      "sum       327\n",
      "Maximum   132\n",
      "Minimum     0\n"
     ]
    }
   ],
   "source": [
    "print(Carsales.agg(sum=('Ford','sum'), Maximum=(\"Ford\",\"max\"),Minimum=(\"Ford\",\"min\")))"
   ]
  },
  {
   "cell_type": "code",
   "execution_count": 19,
   "id": "fc66460f-dbd1-48ca-9248-02f6aa966d2a",
   "metadata": {},
   "outputs": [
    {
     "name": "stdout",
     "output_type": "stream",
     "text": [
      "       Ford  Tata\n",
      "sum     327  17.0\n",
      "min       0   0.0\n",
      "max     132   9.0\n",
      "count     6   NaN\n"
     ]
    }
   ],
   "source": [
    "print(Carsales.agg({\"Ford\":['sum','min','max','count'],\"Tata\":['sum','min','max']}))"
   ]
  },
  {
   "cell_type": "code",
   "execution_count": 23,
   "id": "7d5e99b4-92ca-473a-a657-056197cca262",
   "metadata": {},
   "outputs": [
    {
     "name": "stdout",
     "output_type": "stream",
     "text": [
      "Ford    327\n",
      "Tata     17\n",
      "dtype: int64\n"
     ]
    }
   ],
   "source": [
    "print(Carsales[['Ford','Tata']].agg(\"sum\"))"
   ]
  },
  {
   "cell_type": "code",
   "execution_count": 25,
   "id": "b1662046-e6f6-440a-94bc-9cba9a74e975",
   "metadata": {},
   "outputs": [
    {
     "name": "stdout",
     "output_type": "stream",
     "text": [
      "One       6.50\n",
      "Two       2.00\n",
      "Three    34.00\n",
      "Four     14.75\n",
      "Five      2.25\n",
      "Six      34.00\n",
      "dtype: float64\n"
     ]
    }
   ],
   "source": [
    "print(Carsales.agg(\"mean\",axis=1))"
   ]
  },
  {
   "cell_type": "code",
   "execution_count": 27,
   "id": "6615408e-891b-4524-b924-34da3ce4bd2b",
   "metadata": {},
   "outputs": [
    {
     "name": "stdout",
     "output_type": "stream",
     "text": [
      "       Mercedes        Ford      Tata    Renault\n",
      "count  6.000000    6.000000  6.000000   6.000000\n",
      "mean   2.166667   54.500000  2.833333   2.833333\n",
      "std    1.834848   63.225786  3.430258   4.622409\n",
      "min    0.000000    0.000000  0.000000   0.000000\n",
      "25%    0.500000    3.750000  0.250000   0.250000\n",
      "50%    2.500000   30.000000  2.000000   1.000000\n",
      "75%    3.750000  112.500000  3.750000   2.500000\n",
      "max    4.000000  132.000000  9.000000  12.000000\n"
     ]
    }
   ],
   "source": [
    "print(Carsales.describe())"
   ]
  },
  {
   "cell_type": "code",
   "execution_count": 31,
   "id": "3d490a90-59ed-45e7-8d46-2c363b8283fd",
   "metadata": {},
   "outputs": [
    {
     "name": "stdout",
     "output_type": "stream",
     "text": [
      "Ford\n",
      "132    2\n",
      "3      1\n",
      "0      1\n",
      "54     1\n",
      "6      1\n",
      "Name: count, dtype: int64\n"
     ]
    }
   ],
   "source": [
    "print(Carsales['Ford'].value_counts())# تکرار هر عدد"
   ]
  },
  {
   "cell_type": "code",
   "execution_count": 33,
   "id": "0d70381d-6c8b-4544-845a-cf9fc76e618f",
   "metadata": {},
   "outputs": [
    {
     "name": "stdout",
     "output_type": "stream",
     "text": [
      "Ford\n",
      "132    0.333333\n",
      "3      0.166667\n",
      "0      0.166667\n",
      "54     0.166667\n",
      "6      0.166667\n",
      "Name: proportion, dtype: float64\n"
     ]
    }
   ],
   "source": [
    "print(Carsales['Ford'].value_counts(normalize=True))"
   ]
  },
  {
   "cell_type": "code",
   "execution_count": 39,
   "id": "dc81bddb-cd89-435f-8a67-d8040538c4af",
   "metadata": {},
   "outputs": [
    {
     "ename": "KeyError",
     "evalue": "'tata'",
     "output_type": "error",
     "traceback": [
      "\u001b[0;31m---------------------------------------------------------------------------\u001b[0m",
      "\u001b[0;31mKeyError\u001b[0m                                  Traceback (most recent call last)",
      "File \u001b[0;32m/opt/conda/envs/anaconda-2024.02-py310/lib/python3.10/site-packages/pandas/core/indexes/base.py:3791\u001b[0m, in \u001b[0;36mIndex.get_loc\u001b[0;34m(self, key)\u001b[0m\n\u001b[1;32m   3790\u001b[0m \u001b[38;5;28;01mtry\u001b[39;00m:\n\u001b[0;32m-> 3791\u001b[0m     \u001b[38;5;28;01mreturn\u001b[39;00m \u001b[38;5;28;43mself\u001b[39;49m\u001b[38;5;241;43m.\u001b[39;49m\u001b[43m_engine\u001b[49m\u001b[38;5;241;43m.\u001b[39;49m\u001b[43mget_loc\u001b[49m\u001b[43m(\u001b[49m\u001b[43mcasted_key\u001b[49m\u001b[43m)\u001b[49m\n\u001b[1;32m   3792\u001b[0m \u001b[38;5;28;01mexcept\u001b[39;00m \u001b[38;5;167;01mKeyError\u001b[39;00m \u001b[38;5;28;01mas\u001b[39;00m err:\n",
      "File \u001b[0;32mindex.pyx:152\u001b[0m, in \u001b[0;36mpandas._libs.index.IndexEngine.get_loc\u001b[0;34m()\u001b[0m\n",
      "File \u001b[0;32mindex.pyx:181\u001b[0m, in \u001b[0;36mpandas._libs.index.IndexEngine.get_loc\u001b[0;34m()\u001b[0m\n",
      "File \u001b[0;32mpandas/_libs/hashtable_class_helper.pxi:7080\u001b[0m, in \u001b[0;36mpandas._libs.hashtable.PyObjectHashTable.get_item\u001b[0;34m()\u001b[0m\n",
      "File \u001b[0;32mpandas/_libs/hashtable_class_helper.pxi:7088\u001b[0m, in \u001b[0;36mpandas._libs.hashtable.PyObjectHashTable.get_item\u001b[0;34m()\u001b[0m\n",
      "\u001b[0;31mKeyError\u001b[0m: 'tata'",
      "\nThe above exception was the direct cause of the following exception:\n",
      "\u001b[0;31mKeyError\u001b[0m                                  Traceback (most recent call last)",
      "Cell \u001b[0;32mIn[39], line 9\u001b[0m\n\u001b[1;32m      6\u001b[0m     \u001b[38;5;28;01melse\u001b[39;00m:\n\u001b[1;32m      7\u001b[0m         \u001b[38;5;28;01mreturn\u001b[39;00m \u001b[38;5;124m\"\u001b[39m\u001b[38;5;124mbad\u001b[39m\u001b[38;5;124m\"\u001b[39m\n\u001b[0;32m----> 9\u001b[0m Carsales[\u001b[38;5;124m\"\u001b[39m\u001b[38;5;124mCarsales\u001b[39m\u001b[38;5;124m\"\u001b[39m]\u001b[38;5;241m=\u001b[39m\u001b[43mCarsales\u001b[49m\u001b[43m[\u001b[49m\u001b[38;5;124;43m'\u001b[39;49m\u001b[38;5;124;43mtata\u001b[39;49m\u001b[38;5;124;43m'\u001b[39;49m\u001b[43m]\u001b[49m\u001b[38;5;241m.\u001b[39mapply(sales_rating)\n\u001b[1;32m     10\u001b[0m \u001b[38;5;28mprint\u001b[39m(Carsales)\n",
      "File \u001b[0;32m/opt/conda/envs/anaconda-2024.02-py310/lib/python3.10/site-packages/pandas/core/frame.py:3893\u001b[0m, in \u001b[0;36mDataFrame.__getitem__\u001b[0;34m(self, key)\u001b[0m\n\u001b[1;32m   3891\u001b[0m \u001b[38;5;28;01mif\u001b[39;00m \u001b[38;5;28mself\u001b[39m\u001b[38;5;241m.\u001b[39mcolumns\u001b[38;5;241m.\u001b[39mnlevels \u001b[38;5;241m>\u001b[39m \u001b[38;5;241m1\u001b[39m:\n\u001b[1;32m   3892\u001b[0m     \u001b[38;5;28;01mreturn\u001b[39;00m \u001b[38;5;28mself\u001b[39m\u001b[38;5;241m.\u001b[39m_getitem_multilevel(key)\n\u001b[0;32m-> 3893\u001b[0m indexer \u001b[38;5;241m=\u001b[39m \u001b[38;5;28;43mself\u001b[39;49m\u001b[38;5;241;43m.\u001b[39;49m\u001b[43mcolumns\u001b[49m\u001b[38;5;241;43m.\u001b[39;49m\u001b[43mget_loc\u001b[49m\u001b[43m(\u001b[49m\u001b[43mkey\u001b[49m\u001b[43m)\u001b[49m\n\u001b[1;32m   3894\u001b[0m \u001b[38;5;28;01mif\u001b[39;00m is_integer(indexer):\n\u001b[1;32m   3895\u001b[0m     indexer \u001b[38;5;241m=\u001b[39m [indexer]\n",
      "File \u001b[0;32m/opt/conda/envs/anaconda-2024.02-py310/lib/python3.10/site-packages/pandas/core/indexes/base.py:3798\u001b[0m, in \u001b[0;36mIndex.get_loc\u001b[0;34m(self, key)\u001b[0m\n\u001b[1;32m   3793\u001b[0m     \u001b[38;5;28;01mif\u001b[39;00m \u001b[38;5;28misinstance\u001b[39m(casted_key, \u001b[38;5;28mslice\u001b[39m) \u001b[38;5;129;01mor\u001b[39;00m (\n\u001b[1;32m   3794\u001b[0m         \u001b[38;5;28misinstance\u001b[39m(casted_key, abc\u001b[38;5;241m.\u001b[39mIterable)\n\u001b[1;32m   3795\u001b[0m         \u001b[38;5;129;01mand\u001b[39;00m \u001b[38;5;28many\u001b[39m(\u001b[38;5;28misinstance\u001b[39m(x, \u001b[38;5;28mslice\u001b[39m) \u001b[38;5;28;01mfor\u001b[39;00m x \u001b[38;5;129;01min\u001b[39;00m casted_key)\n\u001b[1;32m   3796\u001b[0m     ):\n\u001b[1;32m   3797\u001b[0m         \u001b[38;5;28;01mraise\u001b[39;00m InvalidIndexError(key)\n\u001b[0;32m-> 3798\u001b[0m     \u001b[38;5;28;01mraise\u001b[39;00m \u001b[38;5;167;01mKeyError\u001b[39;00m(key) \u001b[38;5;28;01mfrom\u001b[39;00m \u001b[38;5;21;01merr\u001b[39;00m\n\u001b[1;32m   3799\u001b[0m \u001b[38;5;28;01mexcept\u001b[39;00m \u001b[38;5;167;01mTypeError\u001b[39;00m:\n\u001b[1;32m   3800\u001b[0m     \u001b[38;5;66;03m# If we have a listlike key, _check_indexing_error will raise\u001b[39;00m\n\u001b[1;32m   3801\u001b[0m     \u001b[38;5;66;03m#  InvalidIndexError. Otherwise we fall through and re-raise\u001b[39;00m\n\u001b[1;32m   3802\u001b[0m     \u001b[38;5;66;03m#  the TypeError.\u001b[39;00m\n\u001b[1;32m   3803\u001b[0m     \u001b[38;5;28mself\u001b[39m\u001b[38;5;241m.\u001b[39m_check_indexing_error(key)\n",
      "\u001b[0;31mKeyError\u001b[0m: 'tata'"
     ]
    }
   ],
   "source": [
    "def sales_rating(n_sold):\n",
    "    if n_sold > 4:\n",
    "        return \"excelent\"\n",
    "    elif n_sold == 3:\n",
    "        return \"not bad\"\n",
    "    else:\n",
    "        return \"bad\"\n",
    "\n",
    "Carsales[\"Carsales\"]=Carsales['tata'].apply(sales_rating)\n",
    "print(Carsales)"
   ]
  },
  {
   "cell_type": "code",
   "execution_count": null,
   "id": "27b0a603-ec6d-4a9f-bb46-b8012918957c",
   "metadata": {},
   "outputs": [],
   "source": []
  }
 ],
 "metadata": {
  "kernelspec": {
   "display_name": "anaconda-2024.02-py310",
   "language": "python",
   "name": "conda-env-anaconda-2024.02-py310-py"
  },
  "language_info": {
   "codemirror_mode": {
    "name": "ipython",
    "version": 3
   },
   "file_extension": ".py",
   "mimetype": "text/x-python",
   "name": "python",
   "nbconvert_exporter": "python",
   "pygments_lexer": "ipython3",
   "version": "3.10.14"
  }
 },
 "nbformat": 4,
 "nbformat_minor": 5
}
