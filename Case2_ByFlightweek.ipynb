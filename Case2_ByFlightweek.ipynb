{
 "cells": [
  {
   "cell_type": "code",
   "execution_count": 2,
   "metadata": {},
   "outputs": [],
   "source": [
    "import pandas as pd\n",
    "import datetime\n",
    "from sklearn.preprocessing import OrdinalEncoder, LabelEncoder\n",
    "\n",
    "df_large = pd.read_csv(r\"C:\\Users\\sahar\\OneDrive\\Desktop\\SkyScanner2.csv\")\n",
    "\n",
    "\n",
    "\n",
    "def extract_week_number(week_of_year):\n",
    "    try:\n",
    "        return week_of_year.split('-W')[1]\n",
    "    except IndexError:\n",
    "        return None  \n",
    "\n",
    "\n",
    "\n",
    "def prepare_data(df_large):\n",
    "    columns_to_drop = ['mainCarrier', 'Market', 'UserCountryCode', 'OriginCountry', 'DestinationCountry', 'Year','Revenue','ODPax']\n",
    "    existing_columns_to_drop = [col for col in columns_to_drop if col in df_large.columns]\n",
    "    df_large_Clean = df_large.drop(columns=existing_columns_to_drop, errors='ignore')\n",
    "\n",
    "    df_large_Clean['flightWeek'] = df_large_Clean['flightWeek'].apply(extract_week_number)\n",
    "    df_large_Clean['weekOfYear'] = df_large_Clean['weekOfYear'].apply(extract_week_number)\n",
    "\n",
    "    df_large_Clean['flightWeek'] = pd.to_numeric(df_large_Clean['flightWeek'], errors='coerce')\n",
    "    df_large_Clean['weekOfYear'] = pd.to_numeric(df_large_Clean['weekOfYear'], errors='coerce')\n",
    "\n",
    "    df_large_Clean['route'] = df_large_Clean['OriginAirport'] + '-' + df_large_Clean['DestinationAirport']\n",
    "    df_large_Clean = df_large_Clean.drop(columns=['OriginAirport', 'DestinationAirport'])\n",
    "\n",
    "    classes_order = ['ECONOMY', 'PREMIUMECONOMY', 'BUSINESS', 'FIRST']\n",
    "    encoder = OrdinalEncoder(categories=[classes_order])\n",
    "    df_large_Clean['cabinClass'] = encoder.fit_transform(df_large_Clean[['cabinClass']])\n",
    "\n",
    "    le = LabelEncoder()\n",
    "    df_large_Clean['kind'] = le.fit_transform(df_large_Clean['kind'])\n",
    "\n",
    "    median_value = df_large_Clean['TripLengthNights'].median()\n",
    "    df_large_Clean['TripLengthNights'].fillna(median_value, inplace=True)\n",
    "\n",
    "    df_Case2 = df_large_Clean[df_large_Clean['isEWRoute'] != 0]\n",
    "    df_Case2 = df_Case2.drop(columns=['isEWRoute'], errors='ignore')\n",
    "    df_Case2 = df_Case2.groupby(['route', 'cabinClass', 'kind', 'flightWeek', 'weekOfYear', 'isConnectingFlight'], as_index=False).mean()\n",
    "\n",
    "    return df_Case2\n",
    "\n",
    "\n",
    "\n"
   ]
  },
  {
   "cell_type": "code",
   "execution_count": 3,
   "metadata": {},
   "outputs": [
    {
     "data": {
      "text/html": [
       "<style type=\"text/css\">\n",
       "#T_0b8ff_row8_col1, #T_0b8ff_row12_col1 {\n",
       "  background-color: lightgreen;\n",
       "}\n",
       "</style>\n",
       "<table id=\"T_0b8ff\">\n",
       "  <thead>\n",
       "    <tr>\n",
       "      <th class=\"blank level0\" >&nbsp;</th>\n",
       "      <th id=\"T_0b8ff_level0_col0\" class=\"col_heading level0 col0\" >Description</th>\n",
       "      <th id=\"T_0b8ff_level0_col1\" class=\"col_heading level0 col1\" >Value</th>\n",
       "    </tr>\n",
       "  </thead>\n",
       "  <tbody>\n",
       "    <tr>\n",
       "      <th id=\"T_0b8ff_level0_row0\" class=\"row_heading level0 row0\" >0</th>\n",
       "      <td id=\"T_0b8ff_row0_col0\" class=\"data row0 col0\" >Session id</td>\n",
       "      <td id=\"T_0b8ff_row0_col1\" class=\"data row0 col1\" >42</td>\n",
       "    </tr>\n",
       "    <tr>\n",
       "      <th id=\"T_0b8ff_level0_row1\" class=\"row_heading level0 row1\" >1</th>\n",
       "      <td id=\"T_0b8ff_row1_col0\" class=\"data row1 col0\" >Target</td>\n",
       "      <td id=\"T_0b8ff_row1_col1\" class=\"data row1 col1\" >RedirectsCount</td>\n",
       "    </tr>\n",
       "    <tr>\n",
       "      <th id=\"T_0b8ff_level0_row2\" class=\"row_heading level0 row2\" >2</th>\n",
       "      <td id=\"T_0b8ff_row2_col0\" class=\"data row2 col0\" >Target type</td>\n",
       "      <td id=\"T_0b8ff_row2_col1\" class=\"data row2 col1\" >Regression</td>\n",
       "    </tr>\n",
       "    <tr>\n",
       "      <th id=\"T_0b8ff_level0_row3\" class=\"row_heading level0 row3\" >3</th>\n",
       "      <td id=\"T_0b8ff_row3_col0\" class=\"data row3 col0\" >Original data shape</td>\n",
       "      <td id=\"T_0b8ff_row3_col1\" class=\"data row3 col1\" >(136359, 11)</td>\n",
       "    </tr>\n",
       "    <tr>\n",
       "      <th id=\"T_0b8ff_level0_row4\" class=\"row_heading level0 row4\" >4</th>\n",
       "      <td id=\"T_0b8ff_row4_col0\" class=\"data row4 col0\" >Transformed data shape</td>\n",
       "      <td id=\"T_0b8ff_row4_col1\" class=\"data row4 col1\" >(136359, 11)</td>\n",
       "    </tr>\n",
       "    <tr>\n",
       "      <th id=\"T_0b8ff_level0_row5\" class=\"row_heading level0 row5\" >5</th>\n",
       "      <td id=\"T_0b8ff_row5_col0\" class=\"data row5 col0\" >Transformed train set shape</td>\n",
       "      <td id=\"T_0b8ff_row5_col1\" class=\"data row5 col1\" >(95451, 11)</td>\n",
       "    </tr>\n",
       "    <tr>\n",
       "      <th id=\"T_0b8ff_level0_row6\" class=\"row_heading level0 row6\" >6</th>\n",
       "      <td id=\"T_0b8ff_row6_col0\" class=\"data row6 col0\" >Transformed test set shape</td>\n",
       "      <td id=\"T_0b8ff_row6_col1\" class=\"data row6 col1\" >(40908, 11)</td>\n",
       "    </tr>\n",
       "    <tr>\n",
       "      <th id=\"T_0b8ff_level0_row7\" class=\"row_heading level0 row7\" >7</th>\n",
       "      <td id=\"T_0b8ff_row7_col0\" class=\"data row7 col0\" >Numeric features</td>\n",
       "      <td id=\"T_0b8ff_row7_col1\" class=\"data row7 col1\" >10</td>\n",
       "    </tr>\n",
       "    <tr>\n",
       "      <th id=\"T_0b8ff_level0_row8\" class=\"row_heading level0 row8\" >8</th>\n",
       "      <td id=\"T_0b8ff_row8_col0\" class=\"data row8 col0\" >Preprocess</td>\n",
       "      <td id=\"T_0b8ff_row8_col1\" class=\"data row8 col1\" >True</td>\n",
       "    </tr>\n",
       "    <tr>\n",
       "      <th id=\"T_0b8ff_level0_row9\" class=\"row_heading level0 row9\" >9</th>\n",
       "      <td id=\"T_0b8ff_row9_col0\" class=\"data row9 col0\" >Imputation type</td>\n",
       "      <td id=\"T_0b8ff_row9_col1\" class=\"data row9 col1\" >simple</td>\n",
       "    </tr>\n",
       "    <tr>\n",
       "      <th id=\"T_0b8ff_level0_row10\" class=\"row_heading level0 row10\" >10</th>\n",
       "      <td id=\"T_0b8ff_row10_col0\" class=\"data row10 col0\" >Numeric imputation</td>\n",
       "      <td id=\"T_0b8ff_row10_col1\" class=\"data row10 col1\" >mean</td>\n",
       "    </tr>\n",
       "    <tr>\n",
       "      <th id=\"T_0b8ff_level0_row11\" class=\"row_heading level0 row11\" >11</th>\n",
       "      <td id=\"T_0b8ff_row11_col0\" class=\"data row11 col0\" >Categorical imputation</td>\n",
       "      <td id=\"T_0b8ff_row11_col1\" class=\"data row11 col1\" >mode</td>\n",
       "    </tr>\n",
       "    <tr>\n",
       "      <th id=\"T_0b8ff_level0_row12\" class=\"row_heading level0 row12\" >12</th>\n",
       "      <td id=\"T_0b8ff_row12_col0\" class=\"data row12 col0\" >Remove multicollinearity</td>\n",
       "      <td id=\"T_0b8ff_row12_col1\" class=\"data row12 col1\" >True</td>\n",
       "    </tr>\n",
       "    <tr>\n",
       "      <th id=\"T_0b8ff_level0_row13\" class=\"row_heading level0 row13\" >13</th>\n",
       "      <td id=\"T_0b8ff_row13_col0\" class=\"data row13 col0\" >Multicollinearity threshold</td>\n",
       "      <td id=\"T_0b8ff_row13_col1\" class=\"data row13 col1\" >0.950000</td>\n",
       "    </tr>\n",
       "    <tr>\n",
       "      <th id=\"T_0b8ff_level0_row14\" class=\"row_heading level0 row14\" >14</th>\n",
       "      <td id=\"T_0b8ff_row14_col0\" class=\"data row14 col0\" >Fold Generator</td>\n",
       "      <td id=\"T_0b8ff_row14_col1\" class=\"data row14 col1\" >KFold</td>\n",
       "    </tr>\n",
       "    <tr>\n",
       "      <th id=\"T_0b8ff_level0_row15\" class=\"row_heading level0 row15\" >15</th>\n",
       "      <td id=\"T_0b8ff_row15_col0\" class=\"data row15 col0\" >Fold Number</td>\n",
       "      <td id=\"T_0b8ff_row15_col1\" class=\"data row15 col1\" >10</td>\n",
       "    </tr>\n",
       "    <tr>\n",
       "      <th id=\"T_0b8ff_level0_row16\" class=\"row_heading level0 row16\" >16</th>\n",
       "      <td id=\"T_0b8ff_row16_col0\" class=\"data row16 col0\" >CPU Jobs</td>\n",
       "      <td id=\"T_0b8ff_row16_col1\" class=\"data row16 col1\" >-1</td>\n",
       "    </tr>\n",
       "    <tr>\n",
       "      <th id=\"T_0b8ff_level0_row17\" class=\"row_heading level0 row17\" >17</th>\n",
       "      <td id=\"T_0b8ff_row17_col0\" class=\"data row17 col0\" >Use GPU</td>\n",
       "      <td id=\"T_0b8ff_row17_col1\" class=\"data row17 col1\" >False</td>\n",
       "    </tr>\n",
       "    <tr>\n",
       "      <th id=\"T_0b8ff_level0_row18\" class=\"row_heading level0 row18\" >18</th>\n",
       "      <td id=\"T_0b8ff_row18_col0\" class=\"data row18 col0\" >Log Experiment</td>\n",
       "      <td id=\"T_0b8ff_row18_col1\" class=\"data row18 col1\" >False</td>\n",
       "    </tr>\n",
       "    <tr>\n",
       "      <th id=\"T_0b8ff_level0_row19\" class=\"row_heading level0 row19\" >19</th>\n",
       "      <td id=\"T_0b8ff_row19_col0\" class=\"data row19 col0\" >Experiment Name</td>\n",
       "      <td id=\"T_0b8ff_row19_col1\" class=\"data row19 col1\" >reg-default-name</td>\n",
       "    </tr>\n",
       "    <tr>\n",
       "      <th id=\"T_0b8ff_level0_row20\" class=\"row_heading level0 row20\" >20</th>\n",
       "      <td id=\"T_0b8ff_row20_col0\" class=\"data row20 col0\" >USI</td>\n",
       "      <td id=\"T_0b8ff_row20_col1\" class=\"data row20 col1\" >03a2</td>\n",
       "    </tr>\n",
       "  </tbody>\n",
       "</table>\n"
      ],
      "text/plain": [
       "<pandas.io.formats.style.Styler at 0x1f044b6c8d0>"
      ]
     },
     "metadata": {},
     "output_type": "display_data"
    },
    {
     "data": {
      "text/html": [],
      "text/plain": [
       "<IPython.core.display.HTML object>"
      ]
     },
     "metadata": {},
     "output_type": "display_data"
    },
    {
     "data": {
      "text/html": [
       "<style type=\"text/css\">\n",
       "#T_68731 th {\n",
       "  text-align: left;\n",
       "}\n",
       "#T_68731_row0_col0, #T_68731_row1_col0, #T_68731_row1_col1, #T_68731_row1_col2, #T_68731_row1_col3, #T_68731_row1_col4, #T_68731_row1_col5, #T_68731_row1_col6, #T_68731_row2_col0, #T_68731_row2_col1, #T_68731_row2_col2, #T_68731_row2_col3, #T_68731_row2_col4, #T_68731_row2_col5, #T_68731_row2_col6, #T_68731_row3_col0, #T_68731_row3_col1, #T_68731_row3_col2, #T_68731_row3_col3, #T_68731_row3_col4, #T_68731_row3_col5, #T_68731_row3_col6 {\n",
       "  text-align: left;\n",
       "}\n",
       "#T_68731_row0_col1, #T_68731_row0_col2, #T_68731_row0_col3, #T_68731_row0_col4, #T_68731_row0_col5, #T_68731_row0_col6 {\n",
       "  text-align: left;\n",
       "  background-color: yellow;\n",
       "}\n",
       "#T_68731_row0_col7, #T_68731_row2_col7, #T_68731_row3_col7 {\n",
       "  text-align: left;\n",
       "  background-color: lightgrey;\n",
       "}\n",
       "#T_68731_row1_col7 {\n",
       "  text-align: left;\n",
       "  background-color: yellow;\n",
       "  background-color: lightgrey;\n",
       "}\n",
       "</style>\n",
       "<table id=\"T_68731\">\n",
       "  <thead>\n",
       "    <tr>\n",
       "      <th class=\"blank level0\" >&nbsp;</th>\n",
       "      <th id=\"T_68731_level0_col0\" class=\"col_heading level0 col0\" >Model</th>\n",
       "      <th id=\"T_68731_level0_col1\" class=\"col_heading level0 col1\" >MAE</th>\n",
       "      <th id=\"T_68731_level0_col2\" class=\"col_heading level0 col2\" >MSE</th>\n",
       "      <th id=\"T_68731_level0_col3\" class=\"col_heading level0 col3\" >RMSE</th>\n",
       "      <th id=\"T_68731_level0_col4\" class=\"col_heading level0 col4\" >R2</th>\n",
       "      <th id=\"T_68731_level0_col5\" class=\"col_heading level0 col5\" >RMSLE</th>\n",
       "      <th id=\"T_68731_level0_col6\" class=\"col_heading level0 col6\" >MAPE</th>\n",
       "      <th id=\"T_68731_level0_col7\" class=\"col_heading level0 col7\" >TT (Sec)</th>\n",
       "    </tr>\n",
       "  </thead>\n",
       "  <tbody>\n",
       "    <tr>\n",
       "      <th id=\"T_68731_level0_row0\" class=\"row_heading level0 row0\" >xgboost</th>\n",
       "      <td id=\"T_68731_row0_col0\" class=\"data row0 col0\" >Extreme Gradient Boosting</td>\n",
       "      <td id=\"T_68731_row0_col1\" class=\"data row0 col1\" >0.2926</td>\n",
       "      <td id=\"T_68731_row0_col2\" class=\"data row0 col2\" >0.2828</td>\n",
       "      <td id=\"T_68731_row0_col3\" class=\"data row0 col3\" >0.5316</td>\n",
       "      <td id=\"T_68731_row0_col4\" class=\"data row0 col4\" >0.5165</td>\n",
       "      <td id=\"T_68731_row0_col5\" class=\"data row0 col5\" >0.1585</td>\n",
       "      <td id=\"T_68731_row0_col6\" class=\"data row0 col6\" >0.1839</td>\n",
       "      <td id=\"T_68731_row0_col7\" class=\"data row0 col7\" >0.4110</td>\n",
       "    </tr>\n",
       "    <tr>\n",
       "      <th id=\"T_68731_level0_row1\" class=\"row_heading level0 row1\" >lr</th>\n",
       "      <td id=\"T_68731_row1_col0\" class=\"data row1 col0\" >Linear Regression</td>\n",
       "      <td id=\"T_68731_row1_col1\" class=\"data row1 col1\" >0.3287</td>\n",
       "      <td id=\"T_68731_row1_col2\" class=\"data row1 col2\" >0.2943</td>\n",
       "      <td id=\"T_68731_row1_col3\" class=\"data row1 col3\" >0.5423</td>\n",
       "      <td id=\"T_68731_row1_col4\" class=\"data row1 col4\" >0.4965</td>\n",
       "      <td id=\"T_68731_row1_col5\" class=\"data row1 col5\" >0.1657</td>\n",
       "      <td id=\"T_68731_row1_col6\" class=\"data row1 col6\" >0.2150</td>\n",
       "      <td id=\"T_68731_row1_col7\" class=\"data row1 col7\" >0.0590</td>\n",
       "    </tr>\n",
       "    <tr>\n",
       "      <th id=\"T_68731_level0_row2\" class=\"row_heading level0 row2\" >ridge</th>\n",
       "      <td id=\"T_68731_row2_col0\" class=\"data row2 col0\" >Ridge Regression</td>\n",
       "      <td id=\"T_68731_row2_col1\" class=\"data row2 col1\" >0.3287</td>\n",
       "      <td id=\"T_68731_row2_col2\" class=\"data row2 col2\" >0.2943</td>\n",
       "      <td id=\"T_68731_row2_col3\" class=\"data row2 col3\" >0.5423</td>\n",
       "      <td id=\"T_68731_row2_col4\" class=\"data row2 col4\" >0.4965</td>\n",
       "      <td id=\"T_68731_row2_col5\" class=\"data row2 col5\" >0.1657</td>\n",
       "      <td id=\"T_68731_row2_col6\" class=\"data row2 col6\" >0.2150</td>\n",
       "      <td id=\"T_68731_row2_col7\" class=\"data row2 col7\" >0.0650</td>\n",
       "    </tr>\n",
       "    <tr>\n",
       "      <th id=\"T_68731_level0_row3\" class=\"row_heading level0 row3\" >dt</th>\n",
       "      <td id=\"T_68731_row3_col0\" class=\"data row3 col0\" >Decision Tree Regressor</td>\n",
       "      <td id=\"T_68731_row3_col1\" class=\"data row3 col1\" >0.3751</td>\n",
       "      <td id=\"T_68731_row3_col2\" class=\"data row3 col2\" >0.5479</td>\n",
       "      <td id=\"T_68731_row3_col3\" class=\"data row3 col3\" >0.7399</td>\n",
       "      <td id=\"T_68731_row3_col4\" class=\"data row3 col4\" >0.0624</td>\n",
       "      <td id=\"T_68731_row3_col5\" class=\"data row3 col5\" >0.2211</td>\n",
       "      <td id=\"T_68731_row3_col6\" class=\"data row3 col6\" >0.2292</td>\n",
       "      <td id=\"T_68731_row3_col7\" class=\"data row3 col7\" >1.5740</td>\n",
       "    </tr>\n",
       "  </tbody>\n",
       "</table>\n"
      ],
      "text/plain": [
       "<pandas.io.formats.style.Styler at 0x1f045b59710>"
      ]
     },
     "metadata": {},
     "output_type": "display_data"
    },
    {
     "data": {
      "text/html": [],
      "text/plain": [
       "<IPython.core.display.HTML object>"
      ]
     },
     "metadata": {},
     "output_type": "display_data"
    },
    {
     "data": {
      "text/html": [
       "<style type=\"text/css\">\n",
       "</style>\n",
       "<table id=\"T_78a05\">\n",
       "  <thead>\n",
       "    <tr>\n",
       "      <th class=\"blank level0\" >&nbsp;</th>\n",
       "      <th id=\"T_78a05_level0_col0\" class=\"col_heading level0 col0\" >Model</th>\n",
       "      <th id=\"T_78a05_level0_col1\" class=\"col_heading level0 col1\" >MAE</th>\n",
       "      <th id=\"T_78a05_level0_col2\" class=\"col_heading level0 col2\" >MSE</th>\n",
       "      <th id=\"T_78a05_level0_col3\" class=\"col_heading level0 col3\" >RMSE</th>\n",
       "      <th id=\"T_78a05_level0_col4\" class=\"col_heading level0 col4\" >R2</th>\n",
       "      <th id=\"T_78a05_level0_col5\" class=\"col_heading level0 col5\" >RMSLE</th>\n",
       "      <th id=\"T_78a05_level0_col6\" class=\"col_heading level0 col6\" >MAPE</th>\n",
       "    </tr>\n",
       "  </thead>\n",
       "  <tbody>\n",
       "    <tr>\n",
       "      <th id=\"T_78a05_level0_row0\" class=\"row_heading level0 row0\" >0</th>\n",
       "      <td id=\"T_78a05_row0_col0\" class=\"data row0 col0\" >Extreme Gradient Boosting</td>\n",
       "      <td id=\"T_78a05_row0_col1\" class=\"data row0 col1\" >0.3834</td>\n",
       "      <td id=\"T_78a05_row0_col2\" class=\"data row0 col2\" >0.3494</td>\n",
       "      <td id=\"T_78a05_row0_col3\" class=\"data row0 col3\" >0.5911</td>\n",
       "      <td id=\"T_78a05_row0_col4\" class=\"data row0 col4\" >0.2150</td>\n",
       "      <td id=\"T_78a05_row0_col5\" class=\"data row0 col5\" >0.2028</td>\n",
       "      <td id=\"T_78a05_row0_col6\" class=\"data row0 col6\" >0.2947</td>\n",
       "    </tr>\n",
       "  </tbody>\n",
       "</table>\n"
      ],
      "text/plain": [
       "<pandas.io.formats.style.Styler at 0x1f045928850>"
      ]
     },
     "metadata": {},
     "output_type": "display_data"
    },
    {
     "data": {
      "text/html": [
       "<div>\n",
       "<style scoped>\n",
       "    .dataframe tbody tr th:only-of-type {\n",
       "        vertical-align: middle;\n",
       "    }\n",
       "\n",
       "    .dataframe tbody tr th {\n",
       "        vertical-align: top;\n",
       "    }\n",
       "\n",
       "    .dataframe thead th {\n",
       "        text-align: right;\n",
       "    }\n",
       "</style>\n",
       "<table border=\"1\" class=\"dataframe\">\n",
       "  <thead>\n",
       "    <tr style=\"text-align: right;\">\n",
       "      <th></th>\n",
       "      <th>cabinClass</th>\n",
       "      <th>kind</th>\n",
       "      <th>isConnectingFlight</th>\n",
       "      <th>TripLengthNights</th>\n",
       "      <th>TravelHorizonDays</th>\n",
       "      <th>Segments</th>\n",
       "      <th>TripPax</th>\n",
       "      <th>flightWeek</th>\n",
       "      <th>weekOfYear</th>\n",
       "      <th>Average_FlightFare</th>\n",
       "      <th>RedirectsCount</th>\n",
       "      <th>prediction_label</th>\n",
       "    </tr>\n",
       "  </thead>\n",
       "  <tbody>\n",
       "    <tr>\n",
       "      <th>0</th>\n",
       "      <td>0.0</td>\n",
       "      <td>1</td>\n",
       "      <td>1</td>\n",
       "      <td>7.0</td>\n",
       "      <td>310.0</td>\n",
       "      <td>2.0</td>\n",
       "      <td>2.0</td>\n",
       "      <td>12</td>\n",
       "      <td>19</td>\n",
       "      <td>103.934998</td>\n",
       "      <td>1.0</td>\n",
       "      <td>1.232531</td>\n",
       "    </tr>\n",
       "    <tr>\n",
       "      <th>1</th>\n",
       "      <td>0.0</td>\n",
       "      <td>1</td>\n",
       "      <td>0</td>\n",
       "      <td>7.0</td>\n",
       "      <td>329.0</td>\n",
       "      <td>1.0</td>\n",
       "      <td>1.0</td>\n",
       "      <td>13</td>\n",
       "      <td>18</td>\n",
       "      <td>220.649994</td>\n",
       "      <td>1.0</td>\n",
       "      <td>0.958410</td>\n",
       "    </tr>\n",
       "    <tr>\n",
       "      <th>2</th>\n",
       "      <td>0.0</td>\n",
       "      <td>1</td>\n",
       "      <td>1</td>\n",
       "      <td>7.0</td>\n",
       "      <td>350.0</td>\n",
       "      <td>1.0</td>\n",
       "      <td>1.0</td>\n",
       "      <td>17</td>\n",
       "      <td>19</td>\n",
       "      <td>367.459991</td>\n",
       "      <td>1.0</td>\n",
       "      <td>0.996913</td>\n",
       "    </tr>\n",
       "    <tr>\n",
       "      <th>3</th>\n",
       "      <td>0.0</td>\n",
       "      <td>1</td>\n",
       "      <td>0</td>\n",
       "      <td>7.0</td>\n",
       "      <td>307.0</td>\n",
       "      <td>4.0</td>\n",
       "      <td>4.0</td>\n",
       "      <td>12</td>\n",
       "      <td>20</td>\n",
       "      <td>97.992500</td>\n",
       "      <td>1.0</td>\n",
       "      <td>1.653566</td>\n",
       "    </tr>\n",
       "    <tr>\n",
       "      <th>4</th>\n",
       "      <td>0.0</td>\n",
       "      <td>1</td>\n",
       "      <td>0</td>\n",
       "      <td>7.0</td>\n",
       "      <td>315.0</td>\n",
       "      <td>4.0</td>\n",
       "      <td>4.0</td>\n",
       "      <td>13</td>\n",
       "      <td>20</td>\n",
       "      <td>57.639999</td>\n",
       "      <td>2.0</td>\n",
       "      <td>1.689483</td>\n",
       "    </tr>\n",
       "    <tr>\n",
       "      <th>...</th>\n",
       "      <td>...</td>\n",
       "      <td>...</td>\n",
       "      <td>...</td>\n",
       "      <td>...</td>\n",
       "      <td>...</td>\n",
       "      <td>...</td>\n",
       "      <td>...</td>\n",
       "      <td>...</td>\n",
       "      <td>...</td>\n",
       "      <td>...</td>\n",
       "      <td>...</td>\n",
       "      <td>...</td>\n",
       "    </tr>\n",
       "    <tr>\n",
       "      <th>2036</th>\n",
       "      <td>0.0</td>\n",
       "      <td>2</td>\n",
       "      <td>0</td>\n",
       "      <td>3.0</td>\n",
       "      <td>356.0</td>\n",
       "      <td>2.0</td>\n",
       "      <td>1.0</td>\n",
       "      <td>18</td>\n",
       "      <td>19</td>\n",
       "      <td>80.220001</td>\n",
       "      <td>1.0</td>\n",
       "      <td>1.401278</td>\n",
       "    </tr>\n",
       "    <tr>\n",
       "      <th>2037</th>\n",
       "      <td>0.0</td>\n",
       "      <td>2</td>\n",
       "      <td>0</td>\n",
       "      <td>3.0</td>\n",
       "      <td>352.0</td>\n",
       "      <td>4.0</td>\n",
       "      <td>2.0</td>\n",
       "      <td>18</td>\n",
       "      <td>20</td>\n",
       "      <td>330.982513</td>\n",
       "      <td>2.0</td>\n",
       "      <td>1.412174</td>\n",
       "    </tr>\n",
       "    <tr>\n",
       "      <th>2038</th>\n",
       "      <td>2.0</td>\n",
       "      <td>2</td>\n",
       "      <td>0</td>\n",
       "      <td>13.0</td>\n",
       "      <td>347.0</td>\n",
       "      <td>4.0</td>\n",
       "      <td>2.0</td>\n",
       "      <td>17</td>\n",
       "      <td>20</td>\n",
       "      <td>372.772491</td>\n",
       "      <td>1.0</td>\n",
       "      <td>1.004725</td>\n",
       "    </tr>\n",
       "    <tr>\n",
       "      <th>2039</th>\n",
       "      <td>0.0</td>\n",
       "      <td>2</td>\n",
       "      <td>1</td>\n",
       "      <td>14.0</td>\n",
       "      <td>336.0</td>\n",
       "      <td>2.0</td>\n",
       "      <td>1.0</td>\n",
       "      <td>14</td>\n",
       "      <td>18</td>\n",
       "      <td>113.254997</td>\n",
       "      <td>1.0</td>\n",
       "      <td>1.024999</td>\n",
       "    </tr>\n",
       "    <tr>\n",
       "      <th>2040</th>\n",
       "      <td>0.0</td>\n",
       "      <td>2</td>\n",
       "      <td>1</td>\n",
       "      <td>6.0</td>\n",
       "      <td>347.0</td>\n",
       "      <td>4.0</td>\n",
       "      <td>2.0</td>\n",
       "      <td>18</td>\n",
       "      <td>20</td>\n",
       "      <td>185.679993</td>\n",
       "      <td>1.0</td>\n",
       "      <td>1.463739</td>\n",
       "    </tr>\n",
       "  </tbody>\n",
       "</table>\n",
       "<p>2041 rows × 12 columns</p>\n",
       "</div>"
      ],
      "text/plain": [
       "      cabinClass  kind  isConnectingFlight  TripLengthNights  \\\n",
       "0            0.0     1                   1               7.0   \n",
       "1            0.0     1                   0               7.0   \n",
       "2            0.0     1                   1               7.0   \n",
       "3            0.0     1                   0               7.0   \n",
       "4            0.0     1                   0               7.0   \n",
       "...          ...   ...                 ...               ...   \n",
       "2036         0.0     2                   0               3.0   \n",
       "2037         0.0     2                   0               3.0   \n",
       "2038         2.0     2                   0              13.0   \n",
       "2039         0.0     2                   1              14.0   \n",
       "2040         0.0     2                   1               6.0   \n",
       "\n",
       "      TravelHorizonDays  Segments  TripPax  flightWeek  weekOfYear  \\\n",
       "0                 310.0       2.0      2.0          12          19   \n",
       "1                 329.0       1.0      1.0          13          18   \n",
       "2                 350.0       1.0      1.0          17          19   \n",
       "3                 307.0       4.0      4.0          12          20   \n",
       "4                 315.0       4.0      4.0          13          20   \n",
       "...                 ...       ...      ...         ...         ...   \n",
       "2036              356.0       2.0      1.0          18          19   \n",
       "2037              352.0       4.0      2.0          18          20   \n",
       "2038              347.0       4.0      2.0          17          20   \n",
       "2039              336.0       2.0      1.0          14          18   \n",
       "2040              347.0       4.0      2.0          18          20   \n",
       "\n",
       "      Average_FlightFare  RedirectsCount  prediction_label  \n",
       "0             103.934998             1.0          1.232531  \n",
       "1             220.649994             1.0          0.958410  \n",
       "2             367.459991             1.0          0.996913  \n",
       "3              97.992500             1.0          1.653566  \n",
       "4              57.639999             2.0          1.689483  \n",
       "...                  ...             ...               ...  \n",
       "2036           80.220001             1.0          1.401278  \n",
       "2037          330.982513             2.0          1.412174  \n",
       "2038          372.772491             1.0          1.004725  \n",
       "2039          113.254997             1.0          1.024999  \n",
       "2040          185.679993             1.0          1.463739  \n",
       "\n",
       "[2041 rows x 12 columns]"
      ]
     },
     "execution_count": 3,
     "metadata": {},
     "output_type": "execute_result"
    }
   ],
   "source": [
    "\n",
    "import pandas as pd\n",
    "from pycaret.regression import *\n",
    "import shap\n",
    "import pycaret.classification\n",
    "\n",
    "\n",
    "df_Case2_sortedBy_flightWeek = df_large.sort_values(by='flightWeek')\n",
    "\n",
    "\n",
    "unique_weeks = df_Case2_sortedBy_flightWeek['flightWeek'].unique()\n",
    "\n",
    "train_Index = unique_weeks[:round(len(unique_weeks) * 0.8)]\n",
    "test_Index = unique_weeks[round(len(unique_weeks) * 0.8):]\n",
    "\n",
    "\n",
    "\n",
    "df_train_raw = df_Case2_sortedBy_flightWeek[df_Case2_sortedBy_flightWeek['flightWeek'].isin(train_Index)]\n",
    "df_test_raw = df_Case2_sortedBy_flightWeek[df_Case2_sortedBy_flightWeek['flightWeek'].isin(test_Index)]\n",
    "\n",
    "df_train = prepare_data(df_train_raw)\n",
    "df_test = prepare_data(df_test_raw)\n",
    "\n",
    "features = ['cabinClass','kind','isConnectingFlight','TripLengthNights', 'TravelHorizonDays', \n",
    "            'Segments',  'TripPax'\n",
    "            ,'flightWeek','weekOfYear','Average_FlightFare']\n",
    "target = 'RedirectsCount'\n",
    "\n",
    "reg_setup = setup(data=df_train[features + [target]], target=target,  session_id=42, log_experiment=False, \n",
    "                  log_plots=False,remove_multicollinearity=True,multicollinearity_threshold=0.95)\n",
    "\n",
    "\n",
    "models_to_include = ['dt',  'lr',  'ridge','xgboost']\n",
    "\n",
    "best_model = compare_models(include=models_to_include)\n",
    "final_model = finalize_model(best_model)\n",
    "\n",
    "predictions = predict_model(final_model, data=df_test[features + [target]])\n",
    "\n",
    "predictions\n"
   ]
  },
  {
   "cell_type": "code",
   "execution_count": 7,
   "metadata": {},
   "outputs": [
    {
     "data": {
      "image/png": "[encoded data removed]",
      "text/plain": [
       "<Figure size 800x550 with 2 Axes>"
      ]
     },
     "metadata": {},
     "output_type": "display_data"
    }
   ],
   "source": [
    "import shap\n",
    "import matplotlib.pyplot as plt\n",
    "import xgboost\n",
    "df_test_sample = df_test.sample(n=min(50, len(df_test)), random_state=42)\n",
    "\n",
    "if hasattr(final_model, 'steps'):\n",
    "    model = final_model.steps[-1][1]\n",
    "else:\n",
    "    model = final_model\n",
    "\n",
    "if isinstance(model, (xgboost.XGBRegressor, xgboost.XGBClassifier)):\n",
    "    explainer = shap.TreeExplainer(model)\n",
    "else:\n",
    "    explainer = shap.KernelExplainer(model.predict, df_train[features].iloc[:100, :])  \n",
    "\n",
    "shap_values = explainer.shap_values(df_test_sample[features])  \n",
    "\n",
    "shap.summary_plot(shap_values, df_test_sample[features])"
   ]
  },
  {
   "cell_type": "code",
   "execution_count": 5,
   "metadata": {},
   "outputs": [
    {
     "data": {
      "text/html": [],
      "text/plain": [
       "<IPython.core.display.HTML object>"
      ]
     },
     "metadata": {},
     "output_type": "display_data"
    },
    {
     "data": {
      "image/png": "[encoded data removed]",
      "text/plain": [
       "<Figure size 800x500 with 1 Axes>"
      ]
     },
     "metadata": {},
     "output_type": "display_data"
    }
   ],
   "source": [
    "plot_model(final_model, plot='feature')\n"
   ]
  },
  {
   "cell_type": "code",
   "execution_count": 6,
   "metadata": {},
   "outputs": [
    {
     "name": "stdout",
     "output_type": "stream",
     "text": [
      "              feature    impact\n",
      "6             TripPax  0.394000\n",
      "3    TripLengthNights  0.126627\n",
      "4   TravelHorizonDays  0.126142\n",
      "1                kind  0.051469\n",
      "9  Average_FlightFare  0.029412\n",
      "7          flightWeek  0.022588\n",
      "5            Segments  0.021355\n",
      "2  isConnectingFlight  0.018617\n",
      "8          weekOfYear  0.011211\n",
      "0          cabinClass  0.001842\n"
     ]
    },
    {
     "data": {
      "application/vnd.plotly.v1+json": {
       "config": {
        "plotlyServerURL": "https://plot.ly"
       },
       "data": [
        {
         "hovertemplate": "Features=%{y}<br>SHAP value (impact on model output)=%{x}<extra></extra>",
         "legendgroup": "TripPax",
         "marker": {
          "color": "#636efa",
          "symbol": "circle"
         },
         "mode": "markers",
         "name": "TripPax",
         "orientation": "h",
         "showlegend": true,
         "type": "scatter",
         "x": [
          0.3940002
         ],
         "xaxis": "x",
         "y": [
          "TripPax"
         ],
         "yaxis": "y"
        },
        {
         "hovertemplate": "Features=%{y}<br>SHAP value (impact on model output)=%{x}<extra></extra>",
         "legendgroup": "TripLengthNights",
         "marker": {
          "color": "#EF553B",
          "symbol": "circle"
         },
         "mode": "markers",
         "name": "TripLengthNights",
         "orientation": "h",
         "showlegend": true,
         "type": "scatter",
         "x": [
          0.12662715
         ],
         "xaxis": "x",
         "y": [
          "TripLengthNights"
         ],
         "yaxis": "y"
        },
        {
         "hovertemplate": "Features=%{y}<br>SHAP value (impact on model output)=%{x}<extra></extra>",
         "legendgroup": "TravelHorizonDays",
         "marker": {
          "color": "#00cc96",
          "symbol": "circle"
         },
         "mode": "markers",
         "name": "TravelHorizonDays",
         "orientation": "h",
         "showlegend": true,
         "type": "scatter",
         "x": [
          0.12614183
         ],
         "xaxis": "x",
         "y": [
          "TravelHorizonDays"
         ],
         "yaxis": "y"
        },
        {
         "hovertemplate": "Features=%{y}<br>SHAP value (impact on model output)=%{x}<extra></extra>",
         "legendgroup": "kind",
         "marker": {
          "color": "#ab63fa",
          "symbol": "circle"
         },
         "mode": "markers",
         "name": "kind",
         "orientation": "h",
         "showlegend": true,
         "type": "scatter",
         "x": [
          0.051469374
         ],
         "xaxis": "x",
         "y": [
          "kind"
         ],
         "yaxis": "y"
        },
        {
         "hovertemplate": "Features=%{y}<br>SHAP value (impact on model output)=%{x}<extra></extra>",
         "legendgroup": "Average_FlightFare",
         "marker": {
          "color": "#FFA15A",
          "symbol": "circle"
         },
         "mode": "markers",
         "name": "Average_FlightFare",
         "orientation": "h",
         "showlegend": true,
         "type": "scatter",
         "x": [
          0.029412221
         ],
         "xaxis": "x",
         "y": [
          "Average_FlightFare"
         ],
         "yaxis": "y"
        },
        {
         "hovertemplate": "Features=%{y}<br>SHAP value (impact on model output)=%{x}<extra></extra>",
         "legendgroup": "flightWeek",
         "marker": {
          "color": "#19d3f3",
          "symbol": "circle"
         },
         "mode": "markers",
         "name": "flightWeek",
         "orientation": "h",
         "showlegend": true,
         "type": "scatter",
         "x": [
          0.022587715
         ],
         "xaxis": "x",
         "y": [
          "flightWeek"
         ],
         "yaxis": "y"
        },
        {
         "hovertemplate": "Features=%{y}<br>SHAP value (impact on model output)=%{x}<extra></extra>",
         "legendgroup": "Segments",
         "marker": {
          "color": "#FF6692",
          "symbol": "circle"
         },
         "mode": "markers",
         "name": "Segments",
         "orientation": "h",
         "showlegend": true,
         "type": "scatter",
         "x": [
          0.021355469
         ],
         "xaxis": "x",
         "y": [
          "Segments"
         ],
         "yaxis": "y"
        },
        {
         "hovertemplate": "Features=%{y}<br>SHAP value (impact on model output)=%{x}<extra></extra>",
         "legendgroup": "isConnectingFlight",
         "marker": {
          "color": "#B6E880",
          "symbol": "circle"
         },
         "mode": "markers",
         "name": "isConnectingFlight",
         "orientation": "h",
         "showlegend": true,
         "type": "scatter",
         "x": [
          0.018616937
         ],
         "xaxis": "x",
         "y": [
          "isConnectingFlight"
         ],
         "yaxis": "y"
        },
        {
         "hovertemplate": "Features=%{y}<br>SHAP value (impact on model output)=%{x}<extra></extra>",
         "legendgroup": "weekOfYear",
         "marker": {
          "color": "#FF97FF",
          "symbol": "circle"
         },
         "mode": "markers",
         "name": "weekOfYear",
         "orientation": "h",
         "showlegend": true,
         "type": "scatter",
         "x": [
          0.011210826
         ],
         "xaxis": "x",
         "y": [
          "weekOfYear"
         ],
         "yaxis": "y"
        },
        {
         "hovertemplate": "Features=%{y}<br>SHAP value (impact on model output)=%{x}<extra></extra>",
         "legendgroup": "cabinClass",
         "marker": {
          "color": "#FECB52",
          "symbol": "circle"
         },
         "mode": "markers",
         "name": "cabinClass",
         "orientation": "h",
         "showlegend": true,
         "type": "scatter",
         "x": [
          0.0018422892
         ],
         "xaxis": "x",
         "y": [
          "cabinClass"
         ],
         "yaxis": "y"
        }
       ],
       "layout": {
        "legend": {
         "title": {
          "text": "Features"
         },
         "tracegroupgap": 0
        },
        "template": {
         "data": {
          "bar": [
           {
            "error_x": {
             "color": "#2a3f5f"
            },
            "error_y": {
             "color": "#2a3f5f"
            },
            "marker": {
             "line": {
              "color": "#E5ECF6",
              "width": 0.5
             },
             "pattern": {
              "fillmode": "overlay",
              "size": 10,
              "solidity": 0.2
             }
            },
            "type": "bar"
           }
          ],
          "barpolar": [
           {
            "marker": {
             "line": {
              "color": "#E5ECF6",
              "width": 0.5
             },
             "pattern": {
              "fillmode": "overlay",
              "size": 10,
              "solidity": 0.2
             }
            },
            "type": "barpolar"
           }
          ],
          "carpet": [
           {
            "aaxis": {
             "endlinecolor": "#2a3f5f",
             "gridcolor": "white",
             "linecolor": "white",
             "minorgridcolor": "white",
             "startlinecolor": "#2a3f5f"
            },
            "baxis": {
             "endlinecolor": "#2a3f5f",
             "gridcolor": "white",
             "linecolor": "white",
             "minorgridcolor": "white",
             "startlinecolor": "#2a3f5f"
            },
            "type": "carpet"
           }
          ],
          "choropleth": [
           {
            "colorbar": {
             "outlinewidth": 0,
             "ticks": ""
            },
            "type": "choropleth"
           }
          ],
          "contour": [
           {
            "colorbar": {
             "outlinewidth": 0,
             "ticks": ""
            },
            "colorscale": [
             [
              0,
              "#0d0887"
             ],
             [
              0.1111111111111111,
              "#46039f"
             ],
             [
              0.2222222222222222,
              "#7201a8"
             ],
             [
              0.3333333333333333,
              "#9c179e"
             ],
             [
              0.4444444444444444,
              "#bd3786"
             ],
             [
              0.5555555555555556,
              "#d8576b"
             ],
             [
              0.6666666666666666,
              "#ed7953"
             ],
             [
              0.7777777777777778,
              "#fb9f3a"
             ],
             [
              0.8888888888888888,
              "#fdca26"
             ],
             [
              1,
              "#f0f921"
             ]
            ],
            "type": "contour"
           }
          ],
          "contourcarpet": [
           {
            "colorbar": {
             "outlinewidth": 0,
             "ticks": ""
            },
            "type": "contourcarpet"
           }
          ],
          "heatmap": [
           {
            "colorbar": {
             "outlinewidth": 0,
             "ticks": ""
            },
            "colorscale": [
             [
              0,
              "#0d0887"
             ],
             [
              0.1111111111111111,
              "#46039f"
             ],
             [
              0.2222222222222222,
              "#7201a8"
             ],
             [
              0.3333333333333333,
              "#9c179e"
             ],
             [
              0.4444444444444444,
              "#bd3786"
             ],
             [
              0.5555555555555556,
              "#d8576b"
             ],
             [
              0.6666666666666666,
              "#ed7953"
             ],
             [
              0.7777777777777778,
              "#fb9f3a"
             ],
             [
              0.8888888888888888,
              "#fdca26"
             ],
             [
              1,
              "#f0f921"
             ]
            ],
            "type": "heatmap"
           }
          ],
          "heatmapgl": [
           {
            "colorbar": {
             "outlinewidth": 0,
             "ticks": ""
            },
            "colorscale": [
             [
              0,
              "#0d0887"
             ],
             [
              0.1111111111111111,
              "#46039f"
             ],
             [
              0.2222222222222222,
              "#7201a8"
             ],
             [
              0.3333333333333333,
              "#9c179e"
             ],
             [
              0.4444444444444444,
              "#bd3786"
             ],
             [
              0.5555555555555556,
              "#d8576b"
             ],
             [
              0.6666666666666666,
              "#ed7953"
             ],
             [
              0.7777777777777778,
              "#fb9f3a"
             ],
             [
              0.8888888888888888,
              "#fdca26"
             ],
             [
              1,
              "#f0f921"
             ]
            ],
            "type": "heatmapgl"
           }
          ],
          "histogram": [
           {
            "marker": {
             "pattern": {
              "fillmode": "overlay",
              "size": 10,
              "solidity": 0.2
             }
            },
            "type": "histogram"
           }
          ],
          "histogram2d": [
           {
            "colorbar": {
             "outlinewidth": 0,
             "ticks": ""
            },
            "colorscale": [
             [
              0,
              "#0d0887"
             ],
             [
              0.1111111111111111,
              "#46039f"
             ],
             [
              0.2222222222222222,
              "#7201a8"
             ],
             [
              0.3333333333333333,
              "#9c179e"
             ],
             [
              0.4444444444444444,
              "#bd3786"
             ],
             [
              0.5555555555555556,
              "#d8576b"
             ],
             [
              0.6666666666666666,
              "#ed7953"
             ],
             [
              0.7777777777777778,
              "#fb9f3a"
             ],
             [
              0.8888888888888888,
              "#fdca26"
             ],
             [
              1,
              "#f0f921"
             ]
            ],
            "type": "histogram2d"
           }
          ],
          "histogram2dcontour": [
           {
            "colorbar": {
             "outlinewidth": 0,
             "ticks": ""
            },
            "colorscale": [
             [
              0,
              "#0d0887"
             ],
             [
              0.1111111111111111,
              "#46039f"
             ],
             [
              0.2222222222222222,
              "#7201a8"
             ],
             [
              0.3333333333333333,
              "#9c179e"
             ],
             [
              0.4444444444444444,
              "#bd3786"
             ],
             [
              0.5555555555555556,
              "#d8576b"
             ],
             [
              0.6666666666666666,
              "#ed7953"
             ],
             [
              0.7777777777777778,
              "#fb9f3a"
             ],
             [
              0.8888888888888888,
              "#fdca26"
             ],
             [
              1,
              "#f0f921"
             ]
            ],
            "type": "histogram2dcontour"
           }
          ],
          "mesh3d": [
           {
            "colorbar": {
             "outlinewidth": 0,
             "ticks": ""
            },
            "type": "mesh3d"
           }
          ],
          "parcoords": [
           {
            "line": {
             "colorbar": {
              "outlinewidth": 0,
              "ticks": ""
             }
            },
            "type": "parcoords"
           }
          ],
          "pie": [
           {
            "automargin": true,
            "type": "pie"
           }
          ],
          "scatter": [
           {
            "fillpattern": {
             "fillmode": "overlay",
             "size": 10,
             "solidity": 0.2
            },
            "type": "scatter"
           }
          ],
          "scatter3d": [
           {
            "line": {
             "colorbar": {
              "outlinewidth": 0,
              "ticks": ""
             }
            },
            "marker": {
             "colorbar": {
              "outlinewidth": 0,
              "ticks": ""
             }
            },
            "type": "scatter3d"
           }
          ],
          "scattercarpet": [
           {
            "marker": {
             "colorbar": {
              "outlinewidth": 0,
              "ticks": ""
             }
            },
            "type": "scattercarpet"
           }
          ],
          "scattergeo": [
           {
            "marker": {
             "colorbar": {
              "outlinewidth": 0,
              "ticks": ""
             }
            },
            "type": "scattergeo"
           }
          ],
          "scattergl": [
           {
            "marker": {
             "colorbar": {
              "outlinewidth": 0,
              "ticks": ""
             }
            },
            "type": "scattergl"
           }
          ],
          "scattermapbox": [
           {
            "marker": {
             "colorbar": {
              "outlinewidth": 0,
              "ticks": ""
             }
            },
            "type": "scattermapbox"
           }
          ],
          "scatterpolar": [
           {
            "marker": {
             "colorbar": {
              "outlinewidth": 0,
              "ticks": ""
             }
            },
            "type": "scatterpolar"
           }
          ],
          "scatterpolargl": [
           {
            "marker": {
             "colorbar": {
              "outlinewidth": 0,
              "ticks": ""
             }
            },
            "type": "scatterpolargl"
           }
          ],
          "scatterternary": [
           {
            "marker": {
             "colorbar": {
              "outlinewidth": 0,
              "ticks": ""
             }
            },
            "type": "scatterternary"
           }
          ],
          "surface": [
           {
            "colorbar": {
             "outlinewidth": 0,
             "ticks": ""
            },
            "colorscale": [
             [
              0,
              "#0d0887"
             ],
             [
              0.1111111111111111,
              "#46039f"
             ],
             [
              0.2222222222222222,
              "#7201a8"
             ],
             [
              0.3333333333333333,
              "#9c179e"
             ],
             [
              0.4444444444444444,
              "#bd3786"
             ],
             [
              0.5555555555555556,
              "#d8576b"
             ],
             [
              0.6666666666666666,
              "#ed7953"
             ],
             [
              0.7777777777777778,
              "#fb9f3a"
             ],
             [
              0.8888888888888888,
              "#fdca26"
             ],
             [
              1,
              "#f0f921"
             ]
            ],
            "type": "surface"
           }
          ],
          "table": [
           {
            "cells": {
             "fill": {
              "color": "#EBF0F8"
             },
             "line": {
              "color": "white"
             }
            },
            "header": {
             "fill": {
              "color": "#C8D4E3"
             },
             "line": {
              "color": "white"
             }
            },
            "type": "table"
           }
          ]
         },
         "layout": {
          "annotationdefaults": {
           "arrowcolor": "#2a3f5f",
           "arrowhead": 0,
           "arrowwidth": 1
          },
          "autotypenumbers": "strict",
          "coloraxis": {
           "colorbar": {
            "outlinewidth": 0,
            "ticks": ""
           }
          },
          "colorscale": {
           "diverging": [
            [
             0,
             "#8e0152"
            ],
            [
             0.1,
             "#c51b7d"
            ],
            [
             0.2,
             "#de77ae"
            ],
            [
             0.3,
             "#f1b6da"
            ],
            [
             0.4,
             "#fde0ef"
            ],
            [
             0.5,
             "#f7f7f7"
            ],
            [
             0.6,
             "#e6f5d0"
            ],
            [
             0.7,
             "#b8e186"
            ],
            [
             0.8,
             "#7fbc41"
            ],
            [
             0.9,
             "#4d9221"
            ],
            [
             1,
             "#276419"
            ]
           ],
           "sequential": [
            [
             0,
             "#0d0887"
            ],
            [
             0.1111111111111111,
             "#46039f"
            ],
            [
             0.2222222222222222,
             "#7201a8"
            ],
            [
             0.3333333333333333,
             "#9c179e"
            ],
            [
             0.4444444444444444,
             "#bd3786"
            ],
            [
             0.5555555555555556,
             "#d8576b"
            ],
            [
             0.6666666666666666,
             "#ed7953"
            ],
            [
             0.7777777777777778,
             "#fb9f3a"
            ],
            [
             0.8888888888888888,
             "#fdca26"
            ],
            [
             1,
             "#f0f921"
            ]
           ],
           "sequentialminus": [
            [
             0,
             "#0d0887"
            ],
            [
             0.1111111111111111,
             "#46039f"
            ],
            [
             0.2222222222222222,
             "#7201a8"
            ],
            [
             0.3333333333333333,
             "#9c179e"
            ],
            [
             0.4444444444444444,
             "#bd3786"
            ],
            [
             0.5555555555555556,
             "#d8576b"
            ],
            [
             0.6666666666666666,
             "#ed7953"
            ],
            [
             0.7777777777777778,
             "#fb9f3a"
            ],
            [
             0.8888888888888888,
             "#fdca26"
            ],
            [
             1,
             "#f0f921"
            ]
           ]
          },
          "colorway": [
           "#636efa",
           "#EF553B",
           "#00cc96",
           "#ab63fa",
           "#FFA15A",
           "#19d3f3",
           "#FF6692",
           "#B6E880",
           "#FF97FF",
           "#FECB52"
          ],
          "font": {
           "color": "#2a3f5f"
          },
          "geo": {
           "bgcolor": "white",
           "lakecolor": "white",
           "landcolor": "#E5ECF6",
           "showlakes": true,
           "showland": true,
           "subunitcolor": "white"
          },
          "hoverlabel": {
           "align": "left"
          },
          "hovermode": "closest",
          "mapbox": {
           "style": "light"
          },
          "paper_bgcolor": "white",
          "plot_bgcolor": "#E5ECF6",
          "polar": {
           "angularaxis": {
            "gridcolor": "white",
            "linecolor": "white",
            "ticks": ""
           },
           "bgcolor": "#E5ECF6",
           "radialaxis": {
            "gridcolor": "white",
            "linecolor": "white",
            "ticks": ""
           }
          },
          "scene": {
           "xaxis": {
            "backgroundcolor": "#E5ECF6",
            "gridcolor": "white",
            "gridwidth": 2,
            "linecolor": "white",
            "showbackground": true,
            "ticks": "",
            "zerolinecolor": "white"
           },
           "yaxis": {
            "backgroundcolor": "#E5ECF6",
            "gridcolor": "white",
            "gridwidth": 2,
            "linecolor": "white",
            "showbackground": true,
            "ticks": "",
            "zerolinecolor": "white"
           },
           "zaxis": {
            "backgroundcolor": "#E5ECF6",
            "gridcolor": "white",
            "gridwidth": 2,
            "linecolor": "white",
            "showbackground": true,
            "ticks": "",
            "zerolinecolor": "white"
           }
          },
          "shapedefaults": {
           "line": {
            "color": "#2a3f5f"
           }
          },
          "ternary": {
           "aaxis": {
            "gridcolor": "white",
            "linecolor": "white",
            "ticks": ""
           },
           "baxis": {
            "gridcolor": "white",
            "linecolor": "white",
            "ticks": ""
           },
           "bgcolor": "#E5ECF6",
           "caxis": {
            "gridcolor": "white",
            "linecolor": "white",
            "ticks": ""
           }
          },
          "title": {
           "x": 0.05
          },
          "xaxis": {
           "automargin": true,
           "gridcolor": "white",
           "linecolor": "white",
           "ticks": "",
           "title": {
            "standoff": 15
           },
           "zerolinecolor": "white",
           "zerolinewidth": 2
          },
          "yaxis": {
           "automargin": true,
           "gridcolor": "white",
           "linecolor": "white",
           "ticks": "",
           "title": {
            "standoff": 15
           },
           "zerolinecolor": "white",
           "zerolinewidth": 2
          }
         }
        },
        "title": {
         "text": "SHAP Values Impact on Model Output"
        },
        "xaxis": {
         "anchor": "y",
         "domain": [
          0,
          1
         ],
         "title": {
          "text": "SHAP value (impact on model output)"
         }
        },
        "yaxis": {
         "anchor": "x",
         "categoryarray": [
          "cabinClass",
          "weekOfYear",
          "isConnectingFlight",
          "Segments",
          "flightWeek",
          "Average_FlightFare",
          "kind",
          "TravelHorizonDays",
          "TripLengthNights",
          "TripPax"
         ],
         "categoryorder": "total ascending",
         "domain": [
          0,
          1
         ],
         "title": {
          "text": "Features"
         }
        }
       }
      }
     },
     "metadata": {},
     "output_type": "display_data"
    }
   ],
   "source": [
    "import plotly.express as px\n",
    "import pandas as pd\n",
    "\n",
    "shap_df = pd.DataFrame(shap_values, columns=df_test_sample[features].columns)\n",
    "shap_df = shap_df.abs().mean(axis=0).reset_index()\n",
    "shap_df.columns = ['feature', 'impact']\n",
    "shap_df = shap_df.sort_values(by='impact', ascending=False)\n",
    "\n",
    "print(shap_df)\n",
    "\n",
    "fig = px.scatter(\n",
    "    shap_df,\n",
    "    x='impact',\n",
    "    y='feature',\n",
    "    color='feature',\n",
    "    title='SHAP Values Impact on Model Output',\n",
    "    labels={'impact': 'SHAP value (impact on model output)', 'feature': 'Features'}\n",
    ")\n",
    "\n",
    "fig.update_layout(yaxis={'categoryorder': 'total ascending'})\n",
    "\n",
    "fig.show()\n"
   ]
  }
 ],
 "metadata": {
  "kernelspec": {
   "display_name": "Python 3",
   "language": "python",
   "name": "python3"
  },
  "language_info": {
   "codemirror_mode": {
    "name": "ipython",
    "version": 3
   },
   "file_extension": ".py",
   "mimetype": "text/x-python",
   "name": "python",
   "nbconvert_exporter": "python",
   "pygments_lexer": "ipython3",
   "version": "3.11.9"
  }
 },
 "nbformat": 4,
 "nbformat_minor": 2
}
