{
 "cells": [
  {
   "cell_type": "code",
   "execution_count": 43,
   "id": "c461dcb2-a9c7-4fe3-bb4d-4aea852e73d8",
   "metadata": {},
   "outputs": [
    {
     "name": "stdout",
     "output_type": "stream",
     "text": [
      "     mercedas  bmw  ford  reno\n",
      "one                           \n",
      "0         1.0    5     7   4.0\n",
      "1         5.0    8     8   9.0\n",
      "2         NaN    2     9   NaN\n",
      "3         5.0    6     1   NaN\n",
      "4         3.0    5     0   7.0\n"
     ]
    }
   ],
   "source": [
    "import pandas as pd\n",
    "import matplotlib.pyplot as plt\n",
    "import seaborn as sns\n",
    "cardata ={'mercedas':[1,5,None,5,3],'bmw':[5,8,2,6,5],'ford':[7,8,9,1,0],'reno':[4,9,None,None,7]}\n",
    "carcatalog=pd.DataFrame(cardata)\n",
    "carcatalog.index.rename(\"one\",inplace=True)\n",
    "print(carcatalog)"
   ]
  },
  {
   "cell_type": "code",
   "execution_count": 4,
   "id": "b5a55c39-8909-4de6-af06-9de398d57087",
   "metadata": {},
   "outputs": [
    {
     "name": "stdout",
     "output_type": "stream",
     "text": [
      "     mercedas    bmw   ford   reno\n",
      "one                               \n",
      "0       False  False  False  False\n",
      "1       False  False  False  False\n",
      "2        True  False  False   True\n",
      "3       False  False  False   True\n",
      "4       False  False  False  False\n"
     ]
    }
   ],
   "source": [
    "carcatalog_null = carcatalog.isnull()\n",
    "print(carcatalog_null)"
   ]
  },
  {
   "cell_type": "code",
   "execution_count": 8,
   "id": "b022a82d-d108-408a-b7fc-fc04c64c9223",
   "metadata": {},
   "outputs": [
    {
     "name": "stdout",
     "output_type": "stream",
     "text": [
      "mercedas    1\n",
      "bmw         0\n",
      "ford        0\n",
      "reno        2\n",
      "dtype: int64\n"
     ]
    }
   ],
   "source": [
    "carcatalog_null_sum = carcatalog.isnull().sum()\n",
    "print(carcatalog_null_sum)"
   ]
  },
  {
   "cell_type": "code",
   "execution_count": 10,
   "id": "f3b61e72-9662-478b-a5d9-58d24c93e946",
   "metadata": {},
   "outputs": [
    {
     "name": "stdout",
     "output_type": "stream",
     "text": [
      "       mercedas       bmw    ford      reno\n",
      "count  4.000000  5.000000  5.0000  3.000000\n",
      "mean   3.500000  5.200000  5.0000  6.666667\n",
      "std    1.914854  2.167948  4.1833  2.516611\n",
      "min    1.000000  2.000000  0.0000  4.000000\n",
      "25%    2.500000  5.000000  1.0000  5.500000\n",
      "50%    4.000000  5.000000  7.0000  7.000000\n",
      "75%    5.000000  6.000000  8.0000  8.000000\n",
      "max    5.000000  8.000000  9.0000  9.000000\n"
     ]
    }
   ],
   "source": [
    "carcatalog_describe = carcatalog.describe()\n",
    "print(carcatalog_describe)"
   ]
  },
  {
   "cell_type": "code",
   "execution_count": 14,
   "id": "d873d97e-839c-464f-968e-42f66fd8a300",
   "metadata": {},
   "outputs": [
    {
     "name": "stdout",
     "output_type": "stream",
     "text": [
      "2.16794833886788\n"
     ]
    }
   ],
   "source": [
    "print(carcatalog['bmw'].std())\n",
    "# count: تعداد مقادیر غیر نال در ستون.\n",
    "# mean: میانگین مقادیر ستون.\n",
    "# std: انحراف معیار مقادیر ستون.\n",
    "# min: حداقل مقدار ستون.\n",
    "# 25%: صدک بیست و پنج درصدی (چارک اول).\n",
    "# 50%: صدک پنجاه درصدی (میانه یا مدیان).\n",
    "# 75%: صدک هفتاد و پنج درصدی (چارک سوم).\n",
    "# max: حداکثر مقدار ستون."
   ]
  },
  {
   "cell_type": "code",
   "execution_count": 35,
   "id": "8406df28-c214-4869-bb4a-a165de99195e",
   "metadata": {},
   "outputs": [
    {
     "name": "stdout",
     "output_type": "stream",
     "text": [
      "     mercedas  bmw  ford  reno\n",
      "one                           \n",
      "0         1.0    5     7   4.0\n",
      "1         5.0    8     8   9.0\n",
      "2         2.0    2     9   2.0\n",
      "3         5.0    6     1   2.0\n",
      "4         3.0    5     0   7.0      mercedas  bmw  ford  reno\n",
      "one                           \n",
      "0         1.0    5     7   4.0\n",
      "1         5.0    8     8   9.0\n",
      "2         2.0    2     9   2.0\n",
      "3         5.0    6     1   2.0\n",
      "4         3.0    5     0   7.0\n"
     ]
    }
   ],
   "source": [
    "carcatalog_dropmissingvalue= carcatalog.dropna() #drop all rows which have missing value\n",
    "carcatalog_dropmissingvalue2= carcatalog.dropna(axis=1)#axis=1 به معنی ستون‌ها (columns) است. drop all column which have missing value\n",
    "print(carcatalog_dropmissingvalue,carcatalog_dropmissingvalue2)\n"
   ]
  },
  {
   "cell_type": "code",
   "execution_count": 37,
   "id": "89f26117-f383-4700-adb2-6d7edeba9b4b",
   "metadata": {},
   "outputs": [
    {
     "name": "stdout",
     "output_type": "stream",
     "text": [
      "     mercedas  bmw  ford  reno\n",
      "one                           \n",
      "0         1.0    5     7   4.0\n",
      "1         5.0    8     8   9.0\n",
      "2         2.0    2     9   2.0\n",
      "3         5.0    6     1   2.0\n",
      "4         3.0    5     0   7.0\n"
     ]
    }
   ],
   "source": [
    "carcatalog_fill = carcatalog.fillna(2, inplace=False) #replace 2 with the Nan values\n",
    "print(carcatalog_fill)"
   ]
  },
  {
   "cell_type": "code",
   "execution_count": 51,
   "id": "ad8dff0d-5355-4a36-a19e-8f98e065e15c",
   "metadata": {},
   "outputs": [
    {
     "name": "stdout",
     "output_type": "stream",
     "text": [
      "     duration  waiting   kind\n",
      "0       3.600       79   long\n",
      "1       1.800       54  short\n",
      "2       3.333       74   long\n",
      "3       2.283       62  short\n",
      "4       4.533       85   long\n",
      "..        ...      ...    ...\n",
      "267     4.117       81   long\n",
      "268     2.150       46  short\n",
      "269     4.417       90   long\n",
      "270     1.817       46  short\n",
      "271     4.467       74   long\n",
      "\n",
      "[272 rows x 3 columns]\n"
     ]
    }
   ],
   "source": [
    "gayser = sns.load_dataset('geyser')\n",
    "print(gayser)\n",
    "gayser2=gayser.copy()"
   ]
  },
  {
   "cell_type": "code",
   "execution_count": 103,
   "id": "cef70601-b3df-4055-8819-cdbda3cc0f9b",
   "metadata": {},
   "outputs": [
    {
     "name": "stdout",
     "output_type": "stream",
     "text": [
      "     duration  waiting\n",
      "0        1.50     50.0\n",
      "1        2.25     55.0\n",
      "2         NaN     60.0\n",
      "3        4.00      NaN\n",
      "4        5.00     90.0\n",
      "5         NaN      NaN\n",
      "8         NaN      NaN\n",
      "6         NaN      NaN\n",
      "98        NaN      NaN\n",
      "23        NaN      NaN\n",
      "12        NaN      NaN\n",
      "52        NaN      NaN\n",
      "38        NaN      NaN\n",
      "46        NaN      NaN\n",
      "55        NaN      NaN\n",
      "112       NaN      NaN\n"
     ]
    }
   ],
   "source": [
    "Nondata1=[5,8,2,6,5,8,98,23,12]\n",
    "Nondata2=[52,38,12,46,55,6,98,3,112]\n",
    "                                            #add None value in the duration and waiting rows\n",
    "for N in Nondata1 :\n",
    "    gayser2.loc[N,'duration'] = None\n",
    "\n",
    "\n",
    "for M in Nondata2 :\n",
    "    gayser2.loc[M,'waiting'] = None\n",
    "gayser3 = gayser2.copy()\n",
    "print(gayser2)"
   ]
  },
  {
   "cell_type": "code",
   "execution_count": 69,
   "id": "7d33134d-a43e-4e30-8c23-8391319090f6",
   "metadata": {},
   "outputs": [
    {
     "data": {
      "text/plain": [
       "<function matplotlib.pyplot.show(close=None, block=None)>"
      ]
     },
     "execution_count": 69,
     "metadata": {},
     "output_type": "execute_result"
    },
    {
     "data": {
      "image/png": "[encoded data removed]",
      "text/plain": [
       "<Figure size 640x480 with 1 Axes>"
      ]
     },
     "metadata": {},
     "output_type": "display_data"
    }
   ],
   "source": [
    "gayser2['duration'].interpolate(method='linear',inplace=True)\n",
    "gayser2['waiting'].interpolate(method='linear',inplace=True)\n",
    "\n",
    "# میان‌یابی خطی (linear interpolation) \n",
    "# Original DataFrame:\n",
    "#    duration\n",
    "# 0       1.5\n",
    "# 1       NaN\n",
    "# 2       3.0\n",
    "# 3       NaN\n",
    "# 4       5.0\n",
    "\n",
    "# DataFrame after linear interpolation:\n",
    "#    duration\n",
    "# 0       1.5\n",
    "# 1       2.25\n",
    "# 2       3.0\n",
    "# 3       4.0\n",
    "# 4       5.0\n",
    "# the Nan data replce with the min of 1.5 and 3.0 = 2.25\n",
    "fig , ax = plt.subplots()\n",
    "gayser2.plot.scatter(x='duration',y='waiting',color='black',marker='x',ax=ax)\n",
    "gayser.plot.scatter(x='duration',y='waiting',color='green',marker='+',ax=ax)\n",
    "plt.show"
   ]
  },
  {
   "cell_type": "code",
   "execution_count": 89,
   "id": "e62d9000-2cc8-434a-a03b-06c2e7ce8ef9",
   "metadata": {},
   "outputs": [
    {
     "data": {
      "text/html": [
       "<style>#sk-container-id-1 {color: black;}#sk-container-id-1 pre{padding: 0;}#sk-container-id-1 div.sk-toggleable {background-color: white;}#sk-container-id-1 label.sk-toggleable__label {cursor: pointer;display: block;width: 100%;margin-bottom: 0;padding: 0.3em;box-sizing: border-box;text-align: center;}#sk-container-id-1 label.sk-toggleable__label-arrow:before {content: \"▸\";float: left;margin-right: 0.25em;color: #696969;}#sk-container-id-1 label.sk-toggleable__label-arrow:hover:before {color: black;}#sk-container-id-1 div.sk-estimator:hover label.sk-toggleable__label-arrow:before {color: black;}#sk-container-id-1 div.sk-toggleable__content {max-height: 0;max-width: 0;overflow: hidden;text-align: left;background-color: #f0f8ff;}#sk-container-id-1 div.sk-toggleable__content pre {margin: 0.2em;color: black;border-radius: 0.25em;background-color: #f0f8ff;}#sk-container-id-1 input.sk-toggleable__control:checked~div.sk-toggleable__content {max-height: 200px;max-width: 100%;overflow: auto;}#sk-container-id-1 input.sk-toggleable__control:checked~label.sk-toggleable__label-arrow:before {content: \"▾\";}#sk-container-id-1 div.sk-estimator input.sk-toggleable__control:checked~label.sk-toggleable__label {background-color: #d4ebff;}#sk-container-id-1 div.sk-label input.sk-toggleable__control:checked~label.sk-toggleable__label {background-color: #d4ebff;}#sk-container-id-1 input.sk-hidden--visually {border: 0;clip: rect(1px 1px 1px 1px);clip: rect(1px, 1px, 1px, 1px);height: 1px;margin: -1px;overflow: hidden;padding: 0;position: absolute;width: 1px;}#sk-container-id-1 div.sk-estimator {font-family: monospace;background-color: #f0f8ff;border: 1px dotted black;border-radius: 0.25em;box-sizing: border-box;margin-bottom: 0.5em;}#sk-container-id-1 div.sk-estimator:hover {background-color: #d4ebff;}#sk-container-id-1 div.sk-parallel-item::after {content: \"\";width: 100%;border-bottom: 1px solid gray;flex-grow: 1;}#sk-container-id-1 div.sk-label:hover label.sk-toggleable__label {background-color: #d4ebff;}#sk-container-id-1 div.sk-serial::before {content: \"\";position: absolute;border-left: 1px solid gray;box-sizing: border-box;top: 0;bottom: 0;left: 50%;z-index: 0;}#sk-container-id-1 div.sk-serial {display: flex;flex-direction: column;align-items: center;background-color: white;padding-right: 0.2em;padding-left: 0.2em;position: relative;}#sk-container-id-1 div.sk-item {position: relative;z-index: 1;}#sk-container-id-1 div.sk-parallel {display: flex;align-items: stretch;justify-content: center;background-color: white;position: relative;}#sk-container-id-1 div.sk-item::before, #sk-container-id-1 div.sk-parallel-item::before {content: \"\";position: absolute;border-left: 1px solid gray;box-sizing: border-box;top: 0;bottom: 0;left: 50%;z-index: -1;}#sk-container-id-1 div.sk-parallel-item {display: flex;flex-direction: column;z-index: 1;position: relative;background-color: white;}#sk-container-id-1 div.sk-parallel-item:first-child::after {align-self: flex-end;width: 50%;}#sk-container-id-1 div.sk-parallel-item:last-child::after {align-self: flex-start;width: 50%;}#sk-container-id-1 div.sk-parallel-item:only-child::after {width: 0;}#sk-container-id-1 div.sk-dashed-wrapped {border: 1px dashed gray;margin: 0 0.4em 0.5em 0.4em;box-sizing: border-box;padding-bottom: 0.4em;background-color: white;}#sk-container-id-1 div.sk-label label {font-family: monospace;font-weight: bold;display: inline-block;line-height: 1.2em;}#sk-container-id-1 div.sk-label-container {text-align: center;}#sk-container-id-1 div.sk-container {/* jupyter's `normalize.less` sets `[hidden] { display: none; }` but bootstrap.min.css set `[hidden] { display: none !important; }` so we also need the `!important` here to be able to override the default hidden behavior on the sphinx rendered scikit-learn.org. See: https://github.com/scikit-learn/scikit-learn/issues/21755 */display: inline-block !important;position: relative;}#sk-container-id-1 div.sk-text-repr-fallback {display: none;}</style><div id=\"sk-container-id-1\" class=\"sk-top-container\"><div class=\"sk-text-repr-fallback\"><pre>LinearRegression()</pre><b>In a Jupyter environment, please rerun this cell to show the HTML representation or trust the notebook. <br />On GitHub, the HTML representation is unable to render, please try loading this page with nbviewer.org.</b></div><div class=\"sk-container\" hidden><div class=\"sk-item\"><div class=\"sk-estimator sk-toggleable\"><input class=\"sk-toggleable__control sk-hidden--visually\" id=\"sk-estimator-id-1\" type=\"checkbox\" checked><label for=\"sk-estimator-id-1\" class=\"sk-toggleable__label sk-toggleable__label-arrow\">LinearRegression</label><div class=\"sk-toggleable__content\"><pre>LinearRegression()</pre></div></div></div></div></div>"
      ],
      "text/plain": [
       "LinearRegression()"
      ]
     },
     "execution_count": 89,
     "metadata": {},
     "output_type": "execute_result"
    }
   ],
   "source": [
    "\n",
    "from sklearn import linear_model\n",
    "gayserdrpoNa=gayser2.dropna()\n",
    "model_1= linear_model.LinearRegression()\n",
    "model_2= linear_model.LinearRegression()\n",
    "model_1.fit(X=gayserdrpoNa[['duration']],y=gayserdrpoNa['waiting'])\n",
    "model_2.fit(X=gayserdrpoNa[['waiting']],y=gayserdrpoNa['duration'])"
   ]
  },
  {
   "cell_type": "code",
   "execution_count": 105,
   "id": "8c11cc5c-8e08-45da-9127-99999e6de30c",
   "metadata": {},
   "outputs": [
    {
     "name": "stdout",
     "output_type": "stream",
     "text": [
      "     duration  waiting\n",
      "0        1.50     50.0\n",
      "1        2.25     55.0\n",
      "2         NaN     60.0\n",
      "3        4.00      NaN\n",
      "4        5.00     90.0\n",
      "5         NaN      NaN\n",
      "8         NaN      NaN\n",
      "6         NaN      NaN\n",
      "98        NaN      NaN\n",
      "23        NaN      NaN\n",
      "12        NaN      NaN\n",
      "52        NaN      NaN\n",
      "38        NaN      NaN\n",
      "46        NaN      NaN\n",
      "55        NaN      NaN\n",
      "112       NaN      NaN\n"
     ]
    }
   ],
   "source": [
    "print(gayser3)"
   ]
  },
  {
   "cell_type": "code",
   "execution_count": 111,
   "id": "5e4469db-5589-4bcf-94d7-548e9045345b",
   "metadata": {},
   "outputs": [
    {
     "name": "stdout",
     "output_type": "stream",
     "text": [
      "Predicted waiting for duration=3.5: 294.58030283314275\n",
      "Predicted duration for waiting=65: 251.42282574966853\n"
     ]
    },
    {
     "name": "stderr",
     "output_type": "stream",
     "text": [
      "/opt/conda/envs/anaconda-2024.02-py310/lib/python3.10/site-packages/sklearn/base.py:464: UserWarning: X does not have valid feature names, but LinearRegression was fitted with feature names\n",
      "  warnings.warn(\n",
      "/opt/conda/envs/anaconda-2024.02-py310/lib/python3.10/site-packages/sklearn/base.py:464: UserWarning: X does not have valid feature names, but LinearRegression was fitted with feature names\n",
      "  warnings.warn(\n"
     ]
    }
   ],
   "source": [
    "import pandas as pd\n",
    "\n",
    "from sklearn import linear_model\n",
    "\n",
    "# داده‌های نمونه با مقادیر نال\n",
    "data = {\n",
    "    'duration': [1.5, None, 3.0, 4.0, 5.0],\n",
    "    'waiting': [50, 55, 60, 70,None]\n",
    "}\n",
    "\n",
    "# ساخت DataFrame\n",
    "gayser2 = pd.DataFrame(data)\n",
    "\n",
    "# حذف مقادیر گمشده\n",
    "# gayserdrpoNa = gayser2.dropna()\n",
    "gayserdrpoNa = gayser2.fillna(1000,inplace=False)\n",
    "# ایجاد مدل‌های رگرسیون خطی\n",
    "model_1 = linear_model.LinearRegression()\n",
    "model_2 = linear_model.LinearRegression()\n",
    "\n",
    "# آموزش مدل‌ها\n",
    "model_1.fit(X=gayserdrpoNa[['duration']], y=gayserdrpoNa['waiting'])\n",
    "model_2.fit(X=gayserdrpoNa[['waiting']], y=gayserdrpoNa['duration'])\n",
    "\n",
    "# پیش‌بینی‌ها\n",
    "predicted_waiting = model_1.predict([[3.5]])  # پیش‌بینی waiting برای duration=3.5\n",
    "predicted_duration = model_2.predict([[65]])  # پیش‌بینی duration برای waiting=65\n",
    "\n",
    "print(f\"Predicted waiting for duration=3.5: {predicted_waiting[0]}\")\n",
    "print(f\"Predicted duration for waiting=65: {predicted_duration[0]}\")\n"
   ]
  },
  {
   "cell_type": "code",
   "execution_count": null,
   "id": "6e442aa9-7f05-456a-af58-1b256feb8cb8",
   "metadata": {},
   "outputs": [],
   "source": []
  }
 ],
 "metadata": {
  "kernelspec": {
   "display_name": "anaconda-2024.02-py310",
   "language": "python",
   "name": "conda-env-anaconda-2024.02-py310-py"
  },
  "language_info": {
   "codemirror_mode": {
    "name": "ipython",
    "version": 3
   },
   "file_extension": ".py",
   "mimetype": "text/x-python",
   "name": "python",
   "nbconvert_exporter": "python",
   "pygments_lexer": "ipython3",
   "version": "3.10.14"
  }
 },
 "nbformat": 4,
 "nbformat_minor": 5
}
